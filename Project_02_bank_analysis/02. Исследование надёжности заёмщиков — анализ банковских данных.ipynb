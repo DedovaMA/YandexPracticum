{
 "cells": [
  {
   "cell_type": "markdown",
   "id": "386f2ae7",
   "metadata": {
    "deletable": false,
    "editable": false,
    "id": "386f2ae7"
   },
   "source": [
    "# Исследование надежности заемщиков\n"
   ]
  },
  {
   "cell_type": "markdown",
   "id": "cf6b6080",
   "metadata": {},
   "source": [
    "**Цель исследования** <br>\n",
    "Ответить на следующие вопросы:<br>\n",
    "- Как влияет семейное положение на факт погашения кредита в срок?\n",
    "- Как влияет количество детей клиента на факт погашения кредита в срок?\n",
    "- Как влияет уровень дохода клиента на факт погашения кредита в срок?\n",
    "- Как разные цели кредита влияют на факт погашения кредита в срок?\n",
    "\n",
    "**Контекст исследования**<br>\n",
    "Заказчик — кредитный отдел банка. Результаты исследования будут учтены при построении модели кредитного скоринга — специальной системы, которая оценивает способность потенциального заёмщика вернуть кредит банку.\n",
    "\n",
    "**Входные данные**<br> \n",
    "Статистика о платёжеспособности клиентов, полученная от банка.\n",
    "\n",
    "**План исследования**\n",
    "1. Ознакомление с данными. \n",
    "2. Предобработка данных.\n",
    "3. Проведение первичного анализа, предварительные выводы и гипотезы.\n",
    "4. Результаты исследования.\n",
    "\n",
    "</font><font color='Blue'><b>___</b></font>"
   ]
  },
  {
   "cell_type": "markdown",
   "id": "ffe86f65",
   "metadata": {
    "deletable": false,
    "editable": false,
    "id": "ffe86f65"
   },
   "source": [
    "Во второй части проекта вы выполните шаги 3 и 4. Их вручную проверит ревьюер.\n",
    "Чтобы вам не пришлось писать код заново для шагов 1 и 2, мы добавили авторские решения в ячейки с кодом. \n",
    "\n"
   ]
  },
  {
   "cell_type": "markdown",
   "id": "26613308",
   "metadata": {
    "deletable": false,
    "editable": false,
    "id": "26613308"
   },
   "source": [
    "## Откройте таблицу и изучите общую информацию о данных"
   ]
  },
  {
   "cell_type": "markdown",
   "id": "3c9f838e",
   "metadata": {
    "deletable": false,
    "editable": false,
    "id": "3c9f838e"
   },
   "source": [
    "**Задание 1. Импортируйте библиотеку pandas. Считайте данные из csv-файла в датафрейм и сохраните в переменную `data`. Путь к файлу:**\n",
    "\n",
    "`/datasets/data.csv`"
   ]
  },
  {
   "cell_type": "code",
   "execution_count": 1,
   "id": "77a68a90",
   "metadata": {
    "deletable": false,
    "id": "77a68a90"
   },
   "outputs": [],
   "source": [
    "import pandas as pd\n",
    "\n",
    "try:\n",
    "    data = pd.read_csv('/datasets/data.csv')\n",
    "except:\n",
    "    data = pd.read_csv('https://code.s3.yandex.net/datasets/data.csv')"
   ]
  },
  {
   "cell_type": "markdown",
   "id": "45365635",
   "metadata": {
    "deletable": false,
    "editable": false,
    "id": "45365635"
   },
   "source": [
    "**Задание 2. Выведите первые 20 строчек датафрейма `data` на экран.**"
   ]
  },
  {
   "cell_type": "code",
   "execution_count": 2,
   "id": "b0451a9a",
   "metadata": {
    "deletable": false,
    "id": "b0451a9a",
    "outputId": "1a8f3ef2-d323-4ec2-ddf7-89670b5944c4"
   },
   "outputs": [
    {
     "data": {
      "text/html": [
       "<div>\n",
       "<style scoped>\n",
       "    .dataframe tbody tr th:only-of-type {\n",
       "        vertical-align: middle;\n",
       "    }\n",
       "\n",
       "    .dataframe tbody tr th {\n",
       "        vertical-align: top;\n",
       "    }\n",
       "\n",
       "    .dataframe thead th {\n",
       "        text-align: right;\n",
       "    }\n",
       "</style>\n",
       "<table border=\"1\" class=\"dataframe\">\n",
       "  <thead>\n",
       "    <tr style=\"text-align: right;\">\n",
       "      <th></th>\n",
       "      <th>children</th>\n",
       "      <th>days_employed</th>\n",
       "      <th>dob_years</th>\n",
       "      <th>education</th>\n",
       "      <th>education_id</th>\n",
       "      <th>family_status</th>\n",
       "      <th>family_status_id</th>\n",
       "      <th>gender</th>\n",
       "      <th>income_type</th>\n",
       "      <th>debt</th>\n",
       "      <th>total_income</th>\n",
       "      <th>purpose</th>\n",
       "    </tr>\n",
       "  </thead>\n",
       "  <tbody>\n",
       "    <tr>\n",
       "      <th>0</th>\n",
       "      <td>1</td>\n",
       "      <td>-8437.673028</td>\n",
       "      <td>42</td>\n",
       "      <td>высшее</td>\n",
       "      <td>0</td>\n",
       "      <td>женат / замужем</td>\n",
       "      <td>0</td>\n",
       "      <td>F</td>\n",
       "      <td>сотрудник</td>\n",
       "      <td>0</td>\n",
       "      <td>253875.639453</td>\n",
       "      <td>покупка жилья</td>\n",
       "    </tr>\n",
       "    <tr>\n",
       "      <th>1</th>\n",
       "      <td>1</td>\n",
       "      <td>-4024.803754</td>\n",
       "      <td>36</td>\n",
       "      <td>среднее</td>\n",
       "      <td>1</td>\n",
       "      <td>женат / замужем</td>\n",
       "      <td>0</td>\n",
       "      <td>F</td>\n",
       "      <td>сотрудник</td>\n",
       "      <td>0</td>\n",
       "      <td>112080.014102</td>\n",
       "      <td>приобретение автомобиля</td>\n",
       "    </tr>\n",
       "    <tr>\n",
       "      <th>2</th>\n",
       "      <td>0</td>\n",
       "      <td>-5623.422610</td>\n",
       "      <td>33</td>\n",
       "      <td>Среднее</td>\n",
       "      <td>1</td>\n",
       "      <td>женат / замужем</td>\n",
       "      <td>0</td>\n",
       "      <td>M</td>\n",
       "      <td>сотрудник</td>\n",
       "      <td>0</td>\n",
       "      <td>145885.952297</td>\n",
       "      <td>покупка жилья</td>\n",
       "    </tr>\n",
       "    <tr>\n",
       "      <th>3</th>\n",
       "      <td>3</td>\n",
       "      <td>-4124.747207</td>\n",
       "      <td>32</td>\n",
       "      <td>среднее</td>\n",
       "      <td>1</td>\n",
       "      <td>женат / замужем</td>\n",
       "      <td>0</td>\n",
       "      <td>M</td>\n",
       "      <td>сотрудник</td>\n",
       "      <td>0</td>\n",
       "      <td>267628.550329</td>\n",
       "      <td>дополнительное образование</td>\n",
       "    </tr>\n",
       "    <tr>\n",
       "      <th>4</th>\n",
       "      <td>0</td>\n",
       "      <td>340266.072047</td>\n",
       "      <td>53</td>\n",
       "      <td>среднее</td>\n",
       "      <td>1</td>\n",
       "      <td>гражданский брак</td>\n",
       "      <td>1</td>\n",
       "      <td>F</td>\n",
       "      <td>пенсионер</td>\n",
       "      <td>0</td>\n",
       "      <td>158616.077870</td>\n",
       "      <td>сыграть свадьбу</td>\n",
       "    </tr>\n",
       "    <tr>\n",
       "      <th>5</th>\n",
       "      <td>0</td>\n",
       "      <td>-926.185831</td>\n",
       "      <td>27</td>\n",
       "      <td>высшее</td>\n",
       "      <td>0</td>\n",
       "      <td>гражданский брак</td>\n",
       "      <td>1</td>\n",
       "      <td>M</td>\n",
       "      <td>компаньон</td>\n",
       "      <td>0</td>\n",
       "      <td>255763.565419</td>\n",
       "      <td>покупка жилья</td>\n",
       "    </tr>\n",
       "    <tr>\n",
       "      <th>6</th>\n",
       "      <td>0</td>\n",
       "      <td>-2879.202052</td>\n",
       "      <td>43</td>\n",
       "      <td>высшее</td>\n",
       "      <td>0</td>\n",
       "      <td>женат / замужем</td>\n",
       "      <td>0</td>\n",
       "      <td>F</td>\n",
       "      <td>компаньон</td>\n",
       "      <td>0</td>\n",
       "      <td>240525.971920</td>\n",
       "      <td>операции с жильем</td>\n",
       "    </tr>\n",
       "    <tr>\n",
       "      <th>7</th>\n",
       "      <td>0</td>\n",
       "      <td>-152.779569</td>\n",
       "      <td>50</td>\n",
       "      <td>СРЕДНЕЕ</td>\n",
       "      <td>1</td>\n",
       "      <td>женат / замужем</td>\n",
       "      <td>0</td>\n",
       "      <td>M</td>\n",
       "      <td>сотрудник</td>\n",
       "      <td>0</td>\n",
       "      <td>135823.934197</td>\n",
       "      <td>образование</td>\n",
       "    </tr>\n",
       "    <tr>\n",
       "      <th>8</th>\n",
       "      <td>2</td>\n",
       "      <td>-6929.865299</td>\n",
       "      <td>35</td>\n",
       "      <td>ВЫСШЕЕ</td>\n",
       "      <td>0</td>\n",
       "      <td>гражданский брак</td>\n",
       "      <td>1</td>\n",
       "      <td>F</td>\n",
       "      <td>сотрудник</td>\n",
       "      <td>0</td>\n",
       "      <td>95856.832424</td>\n",
       "      <td>на проведение свадьбы</td>\n",
       "    </tr>\n",
       "    <tr>\n",
       "      <th>9</th>\n",
       "      <td>0</td>\n",
       "      <td>-2188.756445</td>\n",
       "      <td>41</td>\n",
       "      <td>среднее</td>\n",
       "      <td>1</td>\n",
       "      <td>женат / замужем</td>\n",
       "      <td>0</td>\n",
       "      <td>M</td>\n",
       "      <td>сотрудник</td>\n",
       "      <td>0</td>\n",
       "      <td>144425.938277</td>\n",
       "      <td>покупка жилья для семьи</td>\n",
       "    </tr>\n",
       "    <tr>\n",
       "      <th>10</th>\n",
       "      <td>2</td>\n",
       "      <td>-4171.483647</td>\n",
       "      <td>36</td>\n",
       "      <td>высшее</td>\n",
       "      <td>0</td>\n",
       "      <td>женат / замужем</td>\n",
       "      <td>0</td>\n",
       "      <td>M</td>\n",
       "      <td>компаньон</td>\n",
       "      <td>0</td>\n",
       "      <td>113943.491460</td>\n",
       "      <td>покупка недвижимости</td>\n",
       "    </tr>\n",
       "    <tr>\n",
       "      <th>11</th>\n",
       "      <td>0</td>\n",
       "      <td>-792.701887</td>\n",
       "      <td>40</td>\n",
       "      <td>среднее</td>\n",
       "      <td>1</td>\n",
       "      <td>женат / замужем</td>\n",
       "      <td>0</td>\n",
       "      <td>F</td>\n",
       "      <td>сотрудник</td>\n",
       "      <td>0</td>\n",
       "      <td>77069.234271</td>\n",
       "      <td>покупка коммерческой недвижимости</td>\n",
       "    </tr>\n",
       "    <tr>\n",
       "      <th>12</th>\n",
       "      <td>0</td>\n",
       "      <td>NaN</td>\n",
       "      <td>65</td>\n",
       "      <td>среднее</td>\n",
       "      <td>1</td>\n",
       "      <td>гражданский брак</td>\n",
       "      <td>1</td>\n",
       "      <td>M</td>\n",
       "      <td>пенсионер</td>\n",
       "      <td>0</td>\n",
       "      <td>NaN</td>\n",
       "      <td>сыграть свадьбу</td>\n",
       "    </tr>\n",
       "    <tr>\n",
       "      <th>13</th>\n",
       "      <td>0</td>\n",
       "      <td>-1846.641941</td>\n",
       "      <td>54</td>\n",
       "      <td>неоконченное высшее</td>\n",
       "      <td>2</td>\n",
       "      <td>женат / замужем</td>\n",
       "      <td>0</td>\n",
       "      <td>F</td>\n",
       "      <td>сотрудник</td>\n",
       "      <td>0</td>\n",
       "      <td>130458.228857</td>\n",
       "      <td>приобретение автомобиля</td>\n",
       "    </tr>\n",
       "    <tr>\n",
       "      <th>14</th>\n",
       "      <td>0</td>\n",
       "      <td>-1844.956182</td>\n",
       "      <td>56</td>\n",
       "      <td>высшее</td>\n",
       "      <td>0</td>\n",
       "      <td>гражданский брак</td>\n",
       "      <td>1</td>\n",
       "      <td>F</td>\n",
       "      <td>компаньон</td>\n",
       "      <td>1</td>\n",
       "      <td>165127.911772</td>\n",
       "      <td>покупка жилой недвижимости</td>\n",
       "    </tr>\n",
       "    <tr>\n",
       "      <th>15</th>\n",
       "      <td>1</td>\n",
       "      <td>-972.364419</td>\n",
       "      <td>26</td>\n",
       "      <td>среднее</td>\n",
       "      <td>1</td>\n",
       "      <td>женат / замужем</td>\n",
       "      <td>0</td>\n",
       "      <td>F</td>\n",
       "      <td>сотрудник</td>\n",
       "      <td>0</td>\n",
       "      <td>116820.904450</td>\n",
       "      <td>строительство собственной недвижимости</td>\n",
       "    </tr>\n",
       "    <tr>\n",
       "      <th>16</th>\n",
       "      <td>0</td>\n",
       "      <td>-1719.934226</td>\n",
       "      <td>35</td>\n",
       "      <td>среднее</td>\n",
       "      <td>1</td>\n",
       "      <td>женат / замужем</td>\n",
       "      <td>0</td>\n",
       "      <td>F</td>\n",
       "      <td>сотрудник</td>\n",
       "      <td>0</td>\n",
       "      <td>289202.704229</td>\n",
       "      <td>недвижимость</td>\n",
       "    </tr>\n",
       "    <tr>\n",
       "      <th>17</th>\n",
       "      <td>0</td>\n",
       "      <td>-2369.999720</td>\n",
       "      <td>33</td>\n",
       "      <td>высшее</td>\n",
       "      <td>0</td>\n",
       "      <td>гражданский брак</td>\n",
       "      <td>1</td>\n",
       "      <td>M</td>\n",
       "      <td>сотрудник</td>\n",
       "      <td>0</td>\n",
       "      <td>90410.586745</td>\n",
       "      <td>строительство недвижимости</td>\n",
       "    </tr>\n",
       "    <tr>\n",
       "      <th>18</th>\n",
       "      <td>0</td>\n",
       "      <td>400281.136913</td>\n",
       "      <td>53</td>\n",
       "      <td>среднее</td>\n",
       "      <td>1</td>\n",
       "      <td>вдовец / вдова</td>\n",
       "      <td>2</td>\n",
       "      <td>F</td>\n",
       "      <td>пенсионер</td>\n",
       "      <td>0</td>\n",
       "      <td>56823.777243</td>\n",
       "      <td>на покупку подержанного автомобиля</td>\n",
       "    </tr>\n",
       "    <tr>\n",
       "      <th>19</th>\n",
       "      <td>0</td>\n",
       "      <td>-10038.818549</td>\n",
       "      <td>48</td>\n",
       "      <td>СРЕДНЕЕ</td>\n",
       "      <td>1</td>\n",
       "      <td>в разводе</td>\n",
       "      <td>3</td>\n",
       "      <td>F</td>\n",
       "      <td>сотрудник</td>\n",
       "      <td>0</td>\n",
       "      <td>242831.107982</td>\n",
       "      <td>на покупку своего автомобиля</td>\n",
       "    </tr>\n",
       "  </tbody>\n",
       "</table>\n",
       "</div>"
      ],
      "text/plain": [
       "    children  days_employed  dob_years            education  education_id  \\\n",
       "0          1   -8437.673028         42               высшее             0   \n",
       "1          1   -4024.803754         36              среднее             1   \n",
       "2          0   -5623.422610         33              Среднее             1   \n",
       "3          3   -4124.747207         32              среднее             1   \n",
       "4          0  340266.072047         53              среднее             1   \n",
       "5          0    -926.185831         27               высшее             0   \n",
       "6          0   -2879.202052         43               высшее             0   \n",
       "7          0    -152.779569         50              СРЕДНЕЕ             1   \n",
       "8          2   -6929.865299         35               ВЫСШЕЕ             0   \n",
       "9          0   -2188.756445         41              среднее             1   \n",
       "10         2   -4171.483647         36               высшее             0   \n",
       "11         0    -792.701887         40              среднее             1   \n",
       "12         0            NaN         65              среднее             1   \n",
       "13         0   -1846.641941         54  неоконченное высшее             2   \n",
       "14         0   -1844.956182         56               высшее             0   \n",
       "15         1    -972.364419         26              среднее             1   \n",
       "16         0   -1719.934226         35              среднее             1   \n",
       "17         0   -2369.999720         33               высшее             0   \n",
       "18         0  400281.136913         53              среднее             1   \n",
       "19         0  -10038.818549         48              СРЕДНЕЕ             1   \n",
       "\n",
       "       family_status  family_status_id gender income_type  debt  \\\n",
       "0    женат / замужем                 0      F   сотрудник     0   \n",
       "1    женат / замужем                 0      F   сотрудник     0   \n",
       "2    женат / замужем                 0      M   сотрудник     0   \n",
       "3    женат / замужем                 0      M   сотрудник     0   \n",
       "4   гражданский брак                 1      F   пенсионер     0   \n",
       "5   гражданский брак                 1      M   компаньон     0   \n",
       "6    женат / замужем                 0      F   компаньон     0   \n",
       "7    женат / замужем                 0      M   сотрудник     0   \n",
       "8   гражданский брак                 1      F   сотрудник     0   \n",
       "9    женат / замужем                 0      M   сотрудник     0   \n",
       "10   женат / замужем                 0      M   компаньон     0   \n",
       "11   женат / замужем                 0      F   сотрудник     0   \n",
       "12  гражданский брак                 1      M   пенсионер     0   \n",
       "13   женат / замужем                 0      F   сотрудник     0   \n",
       "14  гражданский брак                 1      F   компаньон     1   \n",
       "15   женат / замужем                 0      F   сотрудник     0   \n",
       "16   женат / замужем                 0      F   сотрудник     0   \n",
       "17  гражданский брак                 1      M   сотрудник     0   \n",
       "18    вдовец / вдова                 2      F   пенсионер     0   \n",
       "19         в разводе                 3      F   сотрудник     0   \n",
       "\n",
       "     total_income                                 purpose  \n",
       "0   253875.639453                           покупка жилья  \n",
       "1   112080.014102                 приобретение автомобиля  \n",
       "2   145885.952297                           покупка жилья  \n",
       "3   267628.550329              дополнительное образование  \n",
       "4   158616.077870                         сыграть свадьбу  \n",
       "5   255763.565419                           покупка жилья  \n",
       "6   240525.971920                       операции с жильем  \n",
       "7   135823.934197                             образование  \n",
       "8    95856.832424                   на проведение свадьбы  \n",
       "9   144425.938277                 покупка жилья для семьи  \n",
       "10  113943.491460                    покупка недвижимости  \n",
       "11   77069.234271       покупка коммерческой недвижимости  \n",
       "12            NaN                         сыграть свадьбу  \n",
       "13  130458.228857                 приобретение автомобиля  \n",
       "14  165127.911772              покупка жилой недвижимости  \n",
       "15  116820.904450  строительство собственной недвижимости  \n",
       "16  289202.704229                            недвижимость  \n",
       "17   90410.586745              строительство недвижимости  \n",
       "18   56823.777243      на покупку подержанного автомобиля  \n",
       "19  242831.107982            на покупку своего автомобиля  "
      ]
     },
     "execution_count": 2,
     "metadata": {},
     "output_type": "execute_result"
    }
   ],
   "source": [
    "data.head(20)"
   ]
  },
  {
   "cell_type": "markdown",
   "id": "0ed8f27f",
   "metadata": {
    "deletable": false,
    "editable": false,
    "id": "0ed8f27f"
   },
   "source": [
    "**Задание 3. Выведите основную информацию о датафрейме с помощью метода `info()`.**"
   ]
  },
  {
   "cell_type": "code",
   "execution_count": 3,
   "id": "ab3f863b",
   "metadata": {
    "deletable": false,
    "id": "ab3f863b",
    "outputId": "15376089-8dad-46c9-b520-c05248d43158"
   },
   "outputs": [
    {
     "name": "stdout",
     "output_type": "stream",
     "text": [
      "<class 'pandas.core.frame.DataFrame'>\n",
      "RangeIndex: 21525 entries, 0 to 21524\n",
      "Data columns (total 12 columns):\n",
      " #   Column            Non-Null Count  Dtype  \n",
      "---  ------            --------------  -----  \n",
      " 0   children          21525 non-null  int64  \n",
      " 1   days_employed     19351 non-null  float64\n",
      " 2   dob_years         21525 non-null  int64  \n",
      " 3   education         21525 non-null  object \n",
      " 4   education_id      21525 non-null  int64  \n",
      " 5   family_status     21525 non-null  object \n",
      " 6   family_status_id  21525 non-null  int64  \n",
      " 7   gender            21525 non-null  object \n",
      " 8   income_type       21525 non-null  object \n",
      " 9   debt              21525 non-null  int64  \n",
      " 10  total_income      19351 non-null  float64\n",
      " 11  purpose           21525 non-null  object \n",
      "dtypes: float64(2), int64(5), object(5)\n",
      "memory usage: 2.0+ MB\n"
     ]
    }
   ],
   "source": [
    "data.info()"
   ]
  },
  {
   "cell_type": "markdown",
   "id": "60e3e22d",
   "metadata": {
    "deletable": false,
    "editable": false,
    "id": "60e3e22d"
   },
   "source": [
    "## Предобработка данных"
   ]
  },
  {
   "cell_type": "markdown",
   "id": "03dc170c",
   "metadata": {
    "deletable": false,
    "editable": false,
    "id": "03dc170c"
   },
   "source": [
    "### Удаление пропусков"
   ]
  },
  {
   "cell_type": "markdown",
   "id": "a4f54eef",
   "metadata": {
    "deletable": false,
    "editable": false,
    "id": "a4f54eef"
   },
   "source": [
    "**Задание 4. Выведите количество пропущенных значений для каждого столбца. Используйте комбинацию двух методов.**"
   ]
  },
  {
   "cell_type": "code",
   "execution_count": 4,
   "id": "2dc372b2",
   "metadata": {
    "deletable": false,
    "id": "2dc372b2",
    "outputId": "81f4d817-781c-465c-ed15-91ce4446810d"
   },
   "outputs": [
    {
     "data": {
      "text/plain": [
       "children               0\n",
       "days_employed       2174\n",
       "dob_years              0\n",
       "education              0\n",
       "education_id           0\n",
       "family_status          0\n",
       "family_status_id       0\n",
       "gender                 0\n",
       "income_type            0\n",
       "debt                   0\n",
       "total_income        2174\n",
       "purpose                0\n",
       "dtype: int64"
      ]
     },
     "execution_count": 4,
     "metadata": {},
     "output_type": "execute_result"
    }
   ],
   "source": [
    "data.isna().sum()"
   ]
  },
  {
   "cell_type": "markdown",
   "id": "14f011b1",
   "metadata": {
    "deletable": false,
    "editable": false,
    "id": "14f011b1"
   },
   "source": [
    "**Задание 5. В двух столбцах есть пропущенные значения. Один из них — `days_employed`. Пропуски в этом столбце вы обработаете на следующем этапе. Другой столбец с пропущенными значениями — `total_income` — хранит данные о доходах. На сумму дохода сильнее всего влияет тип занятости, поэтому заполнить пропуски в этом столбце нужно медианным значением по каждому типу из столбца `income_type`. Например, у человека с типом занятости `сотрудник` пропуск в столбце `total_income` должен быть заполнен медианным доходом среди всех записей с тем же типом.**"
   ]
  },
  {
   "cell_type": "code",
   "execution_count": 5,
   "id": "bdabfb6e",
   "metadata": {
    "deletable": false,
    "id": "bdabfb6e"
   },
   "outputs": [],
   "source": [
    "for t in data['income_type'].unique():\n",
    "    data.loc[(data['income_type'] == t) & (data['total_income'].isna()), 'total_income'] = \\\n",
    "    data.loc[(data['income_type'] == t), 'total_income'].median()"
   ]
  },
  {
   "cell_type": "markdown",
   "id": "5be34059",
   "metadata": {
    "deletable": false,
    "editable": false,
    "id": "5be34059"
   },
   "source": [
    "### Обработка аномальных значений"
   ]
  },
  {
   "cell_type": "markdown",
   "id": "a87606cb",
   "metadata": {
    "deletable": false,
    "editable": false,
    "id": "a87606cb"
   },
   "source": [
    "**Задание 6. В данных могут встречаться артефакты (аномалии) — значения, которые не отражают действительность и появились по какой-то ошибке. таким артефактом будет отрицательное количество дней трудового стажа в столбце `days_employed`. Для реальных данных это нормально. Обработайте значения в этом столбце: замените все отрицательные значения положительными с помощью метода `abs()`.**"
   ]
  },
  {
   "cell_type": "code",
   "execution_count": 6,
   "id": "020c46cc",
   "metadata": {
    "deletable": false,
    "id": "020c46cc"
   },
   "outputs": [],
   "source": [
    "data['days_employed'] = data['days_employed'].abs()"
   ]
  },
  {
   "cell_type": "markdown",
   "id": "45538a3a",
   "metadata": {
    "deletable": false,
    "editable": false,
    "id": "45538a3a"
   },
   "source": [
    "**Задание 7. Для каждого типа занятости выведите медианное значение трудового стажа `days_employed` в днях.**"
   ]
  },
  {
   "cell_type": "code",
   "execution_count": 7,
   "id": "cd3e6328",
   "metadata": {
    "deletable": false,
    "id": "cd3e6328",
    "outputId": "801ef80e-522b-4668-f34e-565af7432bcf"
   },
   "outputs": [
    {
     "data": {
      "text/plain": [
       "income_type\n",
       "безработный        366413.652744\n",
       "в декрете            3296.759962\n",
       "госслужащий          2689.368353\n",
       "компаньон            1547.382223\n",
       "пенсионер          365213.306266\n",
       "предприниматель       520.848083\n",
       "сотрудник            1574.202821\n",
       "студент               578.751554\n",
       "Name: days_employed, dtype: float64"
      ]
     },
     "execution_count": 7,
     "metadata": {},
     "output_type": "execute_result"
    }
   ],
   "source": [
    "data.groupby('income_type')['days_employed'].agg('median')"
   ]
  },
  {
   "cell_type": "markdown",
   "id": "90c5f058",
   "metadata": {
    "deletable": false,
    "editable": false,
    "id": "90c5f058"
   },
   "source": [
    "У двух типов (безработные и пенсионеры) получатся аномально большие значения. Исправить такие значения сложно, поэтому оставьте их как есть."
   ]
  },
  {
   "cell_type": "markdown",
   "id": "9652e50d",
   "metadata": {
    "deletable": false,
    "editable": false,
    "id": "9652e50d"
   },
   "source": [
    "**Задание 8. Выведите перечень уникальных значений столбца `children`.**"
   ]
  },
  {
   "cell_type": "code",
   "execution_count": 8,
   "id": "dbb37b8e",
   "metadata": {
    "deletable": false,
    "id": "dbb37b8e",
    "outputId": "6975b15c-7f95-4697-d16d-a0c79b657b03"
   },
   "outputs": [
    {
     "data": {
      "text/plain": [
       "array([ 1,  0,  3,  2, -1,  4, 20,  5], dtype=int64)"
      ]
     },
     "execution_count": 8,
     "metadata": {},
     "output_type": "execute_result"
    }
   ],
   "source": [
    "data['children'].unique()"
   ]
  },
  {
   "cell_type": "markdown",
   "id": "2b8b0715",
   "metadata": {
    "deletable": false,
    "editable": false,
    "id": "2b8b0715"
   },
   "source": [
    "**Задание 9. В столбце `children` есть два аномальных значения. Удалите строки, в которых встречаются такие аномальные значения из датафрейма `data`.**"
   ]
  },
  {
   "cell_type": "code",
   "execution_count": 9,
   "id": "20009df8",
   "metadata": {
    "deletable": false,
    "id": "20009df8"
   },
   "outputs": [],
   "source": [
    "data = data[(data['children'] != -1) & (data['children'] != 20)]"
   ]
  },
  {
   "cell_type": "markdown",
   "id": "8c6ac9f1",
   "metadata": {
    "deletable": false,
    "editable": false,
    "id": "8c6ac9f1"
   },
   "source": [
    "**Задание 10. Ещё раз выведите перечень уникальных значений столбца `children`, чтобы убедиться, что артефакты удалены.**"
   ]
  },
  {
   "cell_type": "code",
   "execution_count": 10,
   "id": "07337b81",
   "metadata": {
    "deletable": false,
    "id": "07337b81",
    "outputId": "b2097101-d49d-44d9-901b-32a65c9463d1"
   },
   "outputs": [
    {
     "data": {
      "text/plain": [
       "array([1, 0, 3, 2, 4, 5], dtype=int64)"
      ]
     },
     "execution_count": 10,
     "metadata": {},
     "output_type": "execute_result"
    }
   ],
   "source": [
    "data['children'].unique()"
   ]
  },
  {
   "cell_type": "markdown",
   "id": "ee3f52d4",
   "metadata": {
    "deletable": false,
    "editable": false,
    "id": "ee3f52d4"
   },
   "source": [
    "### Удаление пропусков (продолжение)"
   ]
  },
  {
   "cell_type": "markdown",
   "id": "a700b0e4",
   "metadata": {
    "deletable": false,
    "editable": false,
    "id": "a700b0e4"
   },
   "source": [
    "**Задание 11. Заполните пропуски в столбце `days_employed` медианными значениями по каждого типа занятости `income_type`.**"
   ]
  },
  {
   "cell_type": "code",
   "execution_count": 11,
   "id": "61946b83",
   "metadata": {
    "deletable": false,
    "id": "61946b83"
   },
   "outputs": [],
   "source": [
    "for t in data['income_type'].unique():\n",
    "    data.loc[(data['income_type'] == t) & (data['days_employed'].isna()), 'days_employed'] = \\\n",
    "    data.loc[(data['income_type'] == t), 'days_employed'].median()"
   ]
  },
  {
   "cell_type": "markdown",
   "id": "550dcd9b",
   "metadata": {
    "deletable": false,
    "editable": false,
    "id": "550dcd9b"
   },
   "source": [
    "**Задание 12. Убедитесь, что все пропуски заполнены. Проверьте себя и ещё раз выведите количество пропущенных значений для каждого столбца с помощью двух методов.**"
   ]
  },
  {
   "cell_type": "code",
   "execution_count": 12,
   "id": "937c7014",
   "metadata": {
    "deletable": false,
    "id": "937c7014",
    "outputId": "8da1e4e1-358e-4e87-98c9-f261bce0a7b2"
   },
   "outputs": [
    {
     "data": {
      "text/plain": [
       "children            0\n",
       "days_employed       0\n",
       "dob_years           0\n",
       "education           0\n",
       "education_id        0\n",
       "family_status       0\n",
       "family_status_id    0\n",
       "gender              0\n",
       "income_type         0\n",
       "debt                0\n",
       "total_income        0\n",
       "purpose             0\n",
       "dtype: int64"
      ]
     },
     "execution_count": 12,
     "metadata": {},
     "output_type": "execute_result"
    }
   ],
   "source": [
    "data.isna().sum()"
   ]
  },
  {
   "cell_type": "markdown",
   "id": "d522e295",
   "metadata": {
    "deletable": false,
    "editable": false,
    "id": "d522e295"
   },
   "source": [
    "### Изменение типов данных"
   ]
  },
  {
   "cell_type": "markdown",
   "id": "c229c581",
   "metadata": {
    "deletable": false,
    "editable": false,
    "id": "c229c581"
   },
   "source": [
    "**Задание 13. Замените вещественный тип данных в столбце `total_income` на целочисленный с помощью метода `astype()`.**"
   ]
  },
  {
   "cell_type": "code",
   "execution_count": 13,
   "id": "31036462",
   "metadata": {
    "deletable": false,
    "id": "31036462"
   },
   "outputs": [],
   "source": [
    "data['total_income'] = data['total_income'].astype(int)"
   ]
  },
  {
   "cell_type": "markdown",
   "id": "b8e3d1d9",
   "metadata": {
    "deletable": false,
    "editable": false,
    "id": "b8e3d1d9"
   },
   "source": [
    "### Обработка дубликатов"
   ]
  },
  {
   "cell_type": "markdown",
   "id": "9be53c49",
   "metadata": {
    "deletable": false,
    "editable": false,
    "id": "9be53c49"
   },
   "source": [
    "**Задание 14. Обработайте неявные дубликаты в столбце `education`. В этом столбце есть одни и те же значения, но записанные по-разному: с использованием заглавных и строчных букв. Приведите их к нижнему регистру.**"
   ]
  },
  {
   "cell_type": "code",
   "execution_count": 14,
   "id": "d89e73e1",
   "metadata": {
    "deletable": false,
    "id": "d89e73e1"
   },
   "outputs": [],
   "source": [
    "data['education'] = data['education'].str.lower()"
   ]
  },
  {
   "cell_type": "markdown",
   "id": "01d4500e",
   "metadata": {
    "deletable": false,
    "editable": false,
    "id": "01d4500e"
   },
   "source": [
    "**Задание 15. Выведите на экран количество строк-дубликатов в данных. Если такие строки присутствуют, удалите их.**"
   ]
  },
  {
   "cell_type": "code",
   "execution_count": 15,
   "id": "e10efb23",
   "metadata": {
    "deletable": false,
    "id": "e10efb23",
    "outputId": "9684deba-1934-42d1-99e1-cda61740f822"
   },
   "outputs": [
    {
     "data": {
      "text/plain": [
       "71"
      ]
     },
     "execution_count": 15,
     "metadata": {},
     "output_type": "execute_result"
    }
   ],
   "source": [
    "data.duplicated().sum()"
   ]
  },
  {
   "cell_type": "code",
   "execution_count": 16,
   "id": "df853f20",
   "metadata": {
    "deletable": false,
    "id": "df853f20"
   },
   "outputs": [],
   "source": [
    "data = data.drop_duplicates()"
   ]
  },
  {
   "cell_type": "markdown",
   "id": "627be38f",
   "metadata": {
    "deletable": false,
    "editable": false,
    "id": "627be38f"
   },
   "source": [
    "### Категоризация данных"
   ]
  },
  {
   "cell_type": "markdown",
   "id": "4684c3e0",
   "metadata": {
    "deletable": false,
    "editable": false,
    "id": "4684c3e0"
   },
   "source": [
    "**Задание 16. На основании диапазонов, указанных ниже, создайте в датафрейме `data` столбец `total_income_category` с категориями:**\n",
    "\n",
    "- 0–30000 — `'E'`;\n",
    "- 30001–50000 — `'D'`;\n",
    "- 50001–200000 — `'C'`;\n",
    "- 200001–1000000 — `'B'`;\n",
    "- 1000001 и выше — `'A'`.\n",
    "\n",
    "\n",
    "**Например, кредитополучателю с доходом 25000 нужно назначить категорию `'E'`, а клиенту, получающему 235000, — `'B'`. Используйте собственную функцию с именем `categorize_income()` и метод `apply()`.**"
   ]
  },
  {
   "cell_type": "code",
   "execution_count": 17,
   "id": "78965238",
   "metadata": {
    "deletable": false,
    "id": "78965238"
   },
   "outputs": [],
   "source": [
    "def categorize_income(income):\n",
    "    try:\n",
    "        if 0 <= income <= 30000:\n",
    "            return 'E'\n",
    "        elif 30001 <= income <= 50000:\n",
    "            return 'D'\n",
    "        elif 50001 <= income <= 200000:\n",
    "            return 'C'\n",
    "        elif 200001 <= income <= 1000000:\n",
    "            return 'B'\n",
    "        elif income >= 1000001:\n",
    "            return 'A'\n",
    "    except:\n",
    "        pass"
   ]
  },
  {
   "cell_type": "code",
   "execution_count": 18,
   "id": "0980ada1",
   "metadata": {
    "deletable": false,
    "id": "0980ada1"
   },
   "outputs": [],
   "source": [
    "data['total_income_category'] = data['total_income'].apply(categorize_income)"
   ]
  },
  {
   "cell_type": "markdown",
   "id": "9917bba0",
   "metadata": {
    "deletable": false,
    "editable": false,
    "id": "9917bba0"
   },
   "source": [
    "**Задание 17. Выведите на экран перечень уникальных целей взятия кредита из столбца `purpose`.**"
   ]
  },
  {
   "cell_type": "code",
   "execution_count": 19,
   "id": "ee07b65e",
   "metadata": {
    "deletable": false,
    "id": "ee07b65e",
    "outputId": "673c12d9-7d7e-4ae0-9812-c622c89dd244"
   },
   "outputs": [
    {
     "data": {
      "text/plain": [
       "array(['покупка жилья', 'приобретение автомобиля',\n",
       "       'дополнительное образование', 'сыграть свадьбу',\n",
       "       'операции с жильем', 'образование', 'на проведение свадьбы',\n",
       "       'покупка жилья для семьи', 'покупка недвижимости',\n",
       "       'покупка коммерческой недвижимости', 'покупка жилой недвижимости',\n",
       "       'строительство собственной недвижимости', 'недвижимость',\n",
       "       'строительство недвижимости', 'на покупку подержанного автомобиля',\n",
       "       'на покупку своего автомобиля',\n",
       "       'операции с коммерческой недвижимостью',\n",
       "       'строительство жилой недвижимости', 'жилье',\n",
       "       'операции со своей недвижимостью', 'автомобили',\n",
       "       'заняться образованием', 'сделка с подержанным автомобилем',\n",
       "       'получение образования', 'автомобиль', 'свадьба',\n",
       "       'получение дополнительного образования', 'покупка своего жилья',\n",
       "       'операции с недвижимостью', 'получение высшего образования',\n",
       "       'свой автомобиль', 'сделка с автомобилем',\n",
       "       'профильное образование', 'высшее образование',\n",
       "       'покупка жилья для сдачи', 'на покупку автомобиля', 'ремонт жилью',\n",
       "       'заняться высшим образованием'], dtype=object)"
      ]
     },
     "execution_count": 19,
     "metadata": {},
     "output_type": "execute_result"
    }
   ],
   "source": [
    "data['purpose'].unique()"
   ]
  },
  {
   "cell_type": "markdown",
   "id": "52b79d56",
   "metadata": {
    "deletable": false,
    "editable": false,
    "id": "52b79d56"
   },
   "source": [
    "**Задание 18. Создайте функцию, которая на основании данных из столбца `purpose` сформирует новый столбец `purpose_category`, в который войдут следующие категории:**\n",
    "\n",
    "- `'операции с автомобилем'`,\n",
    "- `'операции с недвижимостью'`,\n",
    "- `'проведение свадьбы'`,\n",
    "- `'получение образования'`.\n",
    "\n",
    "**Например, если в столбце `purpose` находится подстрока `'на покупку автомобиля'`, то в столбце `purpose_category` должна появиться строка `'операции с автомобилем'`.**\n",
    "\n",
    "**Используйте собственную функцию с именем `categorize_purpose()` и метод `apply()`. Изучите данные в столбце `purpose` и определите, какие подстроки помогут вам правильно определить категорию.**"
   ]
  },
  {
   "cell_type": "code",
   "execution_count": 20,
   "id": "be41da5d",
   "metadata": {
    "deletable": false,
    "id": "be41da5d"
   },
   "outputs": [],
   "source": [
    "def categorize_purpose(row):\n",
    "    try:\n",
    "        if 'автом' in row:\n",
    "            return 'операции с автомобилем'\n",
    "        elif 'жил' in row or 'недвиж' in row:\n",
    "            return 'операции с недвижимостью'\n",
    "        elif 'свад' in row:\n",
    "            return 'проведение свадьбы'\n",
    "        elif 'образов' in row:\n",
    "            return 'получение образования'\n",
    "    except:\n",
    "        return 'нет категории'"
   ]
  },
  {
   "cell_type": "code",
   "execution_count": 21,
   "id": "94c4a19a",
   "metadata": {
    "deletable": false,
    "id": "94c4a19a"
   },
   "outputs": [],
   "source": [
    "data['purpose_category'] = data['purpose'].apply(categorize_purpose)"
   ]
  },
  {
   "cell_type": "markdown",
   "id": "3d596c34",
   "metadata": {
    "deletable": false,
    "editable": false,
    "id": "3d596c34"
   },
   "source": [
    "### Шаг 3. Исследуйте данные и ответьте на вопросы"
   ]
  },
  {
   "cell_type": "code",
   "execution_count": 22,
   "id": "a80a95c8",
   "metadata": {},
   "outputs": [],
   "source": [
    "# Для удобства преобразуем используемые методы анализа в функции\n",
    "\n",
    "def first_analysis(parametr, output_message):  \n",
    "    print(\"\\033[1mАнализ распределения наблюдений в исходных данных\\033[0m\")\n",
    "    for current_var in data[parametr].unique():\n",
    "        observations = data[data[parametr] == current_var][parametr].count()\n",
    "        proportion = observations / data[parametr].count()\n",
    "        if observations < 30:\n",
    "            color = \"\\033[31m\"\n",
    "        else:\n",
    "            color = \"\\033[0m\"\n",
    "        print(color + f\"{output_message} : {current_var}. Количество наблюдений {observations:<5d}, в процентах - {proportion:.2%}\")\n",
    "\n",
    "def second_analysis(category):\n",
    "    # строим сводную таблицу, в которой указываем общее количество наблюдений, количество просрочек по кредиту и конверсию\n",
    "    data_temp = target_data.pivot_table(index=category, values='debt', aggfunc=['count', 'sum', 'mean'])\n",
    "    data_temp.columns = ['Всего кредитополучателей', 'Всего должников', 'Доля должников']\n",
    "    # Оформим таблицу цветным градиентом, но можно ее вывести и просто display(data_temp)\n",
    "    display(data_temp.style.format(\"{:.3f}\").background_gradient(cmap='Blues', axis=0))"
   ]
  },
  {
   "cell_type": "markdown",
   "id": "648db036",
   "metadata": {
    "deletable": false,
    "editable": false,
    "id": "648db036"
   },
   "source": [
    "#### 3.1 Есть ли зависимость между количеством детей и возвратом кредита в срок?"
   ]
  },
  {
   "cell_type": "markdown",
   "id": "330fe7f1",
   "metadata": {},
   "source": [
    "Перед началом исследования посмотрим как наблюдения распределены в исследуемых группах."
   ]
  },
  {
   "cell_type": "code",
   "execution_count": 23,
   "id": "3fcd4a39",
   "metadata": {},
   "outputs": [
    {
     "name": "stdout",
     "output_type": "stream",
     "text": [
      "\u001b[1mАнализ распределения наблюдений в исходных данных\u001b[0m\n",
      "\u001b[0mКоличество детей : 1. Количество наблюдений 4808 , в процентах - 22.54%\n",
      "\u001b[0mКоличество детей : 0. Количество наблюдений 14091, в процентах - 66.06%\n",
      "\u001b[0mКоличество детей : 3. Количество наблюдений 330  , в процентах - 1.55%\n",
      "\u001b[0mКоличество детей : 2. Количество наблюдений 2052 , в процентах - 9.62%\n",
      "\u001b[0mКоличество детей : 4. Количество наблюдений 41   , в процентах - 0.19%\n",
      "\u001b[31mКоличество детей : 5. Количество наблюдений 9    , в процентах - 0.04%\n"
     ]
    }
   ],
   "source": [
    "first_analysis('children', 'Количество детей')"
   ]
  },
  {
   "cell_type": "markdown",
   "id": "9cee7b80",
   "metadata": {},
   "source": [
    "Красным цветом подсвечены группы, в которых наблюдений недостаточно для проведения анализа. В нашем случае это заниматели с 5-ю детьми, так как эти наблюдения не могут достоверно отобразить свойства своей группы, откажемся от них при проведении исследования."
   ]
  },
  {
   "cell_type": "code",
   "execution_count": 24,
   "id": "b132fb64",
   "metadata": {},
   "outputs": [],
   "source": [
    "# исключаем из рассмотрения занимателей с 5 детьми\n",
    "target_data = data[data['children'] != 5]"
   ]
  },
  {
   "cell_type": "markdown",
   "id": "a1034ded",
   "metadata": {},
   "source": [
    "Исследование будем проводить, опираясь на коэффицент конверсии возврата кредита в срок. Построим сводную таблицу:"
   ]
  },
  {
   "cell_type": "code",
   "execution_count": 25,
   "id": "7fcff25e",
   "metadata": {
    "deletable": false,
    "id": "7fcff25e",
    "scrolled": true
   },
   "outputs": [
    {
     "data": {
      "text/html": [
       "<style type=\"text/css\">\n",
       "#T_c9cd1_row0_col0, #T_c9cd1_row0_col1, #T_c9cd1_row4_col2 {\n",
       "  background-color: #08306b;\n",
       "  color: #f1f1f1;\n",
       "}\n",
       "#T_c9cd1_row0_col2, #T_c9cd1_row4_col0, #T_c9cd1_row4_col1 {\n",
       "  background-color: #f7fbff;\n",
       "  color: #000000;\n",
       "}\n",
       "#T_c9cd1_row1_col0 {\n",
       "  background-color: #aacfe5;\n",
       "  color: #000000;\n",
       "}\n",
       "#T_c9cd1_row1_col1 {\n",
       "  background-color: #8dc1dd;\n",
       "  color: #000000;\n",
       "}\n",
       "#T_c9cd1_row1_col2 {\n",
       "  background-color: #1e6db2;\n",
       "  color: #f1f1f1;\n",
       "}\n",
       "#T_c9cd1_row2_col0 {\n",
       "  background-color: #dbe9f6;\n",
       "  color: #000000;\n",
       "}\n",
       "#T_c9cd1_row2_col1 {\n",
       "  background-color: #d4e4f4;\n",
       "  color: #000000;\n",
       "}\n",
       "#T_c9cd1_row2_col2 {\n",
       "  background-color: #0a539e;\n",
       "  color: #f1f1f1;\n",
       "}\n",
       "#T_c9cd1_row3_col0, #T_c9cd1_row3_col1 {\n",
       "  background-color: #f3f8fe;\n",
       "  color: #000000;\n",
       "}\n",
       "#T_c9cd1_row3_col2 {\n",
       "  background-color: #bad6eb;\n",
       "  color: #000000;\n",
       "}\n",
       "</style>\n",
       "<table id=\"T_c9cd1\">\n",
       "  <thead>\n",
       "    <tr>\n",
       "      <th class=\"blank level0\" >&nbsp;</th>\n",
       "      <th id=\"T_c9cd1_level0_col0\" class=\"col_heading level0 col0\" >Всего кредитополучателей</th>\n",
       "      <th id=\"T_c9cd1_level0_col1\" class=\"col_heading level0 col1\" >Всего должников</th>\n",
       "      <th id=\"T_c9cd1_level0_col2\" class=\"col_heading level0 col2\" >Доля должников</th>\n",
       "    </tr>\n",
       "    <tr>\n",
       "      <th class=\"index_name level0\" >children</th>\n",
       "      <th class=\"blank col0\" >&nbsp;</th>\n",
       "      <th class=\"blank col1\" >&nbsp;</th>\n",
       "      <th class=\"blank col2\" >&nbsp;</th>\n",
       "    </tr>\n",
       "  </thead>\n",
       "  <tbody>\n",
       "    <tr>\n",
       "      <th id=\"T_c9cd1_level0_row0\" class=\"row_heading level0 row0\" >0</th>\n",
       "      <td id=\"T_c9cd1_row0_col0\" class=\"data row0 col0\" >14091.000</td>\n",
       "      <td id=\"T_c9cd1_row0_col1\" class=\"data row0 col1\" >1063.000</td>\n",
       "      <td id=\"T_c9cd1_row0_col2\" class=\"data row0 col2\" >0.075</td>\n",
       "    </tr>\n",
       "    <tr>\n",
       "      <th id=\"T_c9cd1_level0_row1\" class=\"row_heading level0 row1\" >1</th>\n",
       "      <td id=\"T_c9cd1_row1_col0\" class=\"data row1 col0\" >4808.000</td>\n",
       "      <td id=\"T_c9cd1_row1_col1\" class=\"data row1 col1\" >444.000</td>\n",
       "      <td id=\"T_c9cd1_row1_col2\" class=\"data row1 col2\" >0.092</td>\n",
       "    </tr>\n",
       "    <tr>\n",
       "      <th id=\"T_c9cd1_level0_row2\" class=\"row_heading level0 row2\" >2</th>\n",
       "      <td id=\"T_c9cd1_row2_col0\" class=\"data row2 col0\" >2052.000</td>\n",
       "      <td id=\"T_c9cd1_row2_col1\" class=\"data row2 col1\" >194.000</td>\n",
       "      <td id=\"T_c9cd1_row2_col2\" class=\"data row2 col2\" >0.095</td>\n",
       "    </tr>\n",
       "    <tr>\n",
       "      <th id=\"T_c9cd1_level0_row3\" class=\"row_heading level0 row3\" >3</th>\n",
       "      <td id=\"T_c9cd1_row3_col0\" class=\"data row3 col0\" >330.000</td>\n",
       "      <td id=\"T_c9cd1_row3_col1\" class=\"data row3 col1\" >27.000</td>\n",
       "      <td id=\"T_c9cd1_row3_col2\" class=\"data row3 col2\" >0.082</td>\n",
       "    </tr>\n",
       "    <tr>\n",
       "      <th id=\"T_c9cd1_level0_row4\" class=\"row_heading level0 row4\" >4</th>\n",
       "      <td id=\"T_c9cd1_row4_col0\" class=\"data row4 col0\" >41.000</td>\n",
       "      <td id=\"T_c9cd1_row4_col1\" class=\"data row4 col1\" >4.000</td>\n",
       "      <td id=\"T_c9cd1_row4_col2\" class=\"data row4 col2\" >0.098</td>\n",
       "    </tr>\n",
       "  </tbody>\n",
       "</table>\n"
      ],
      "text/plain": [
       "<pandas.io.formats.style.Styler at 0x21656827c50>"
      ]
     },
     "metadata": {},
     "output_type": "display_data"
    }
   ],
   "source": [
    "# строим сводную таблицу, в которой указываем общее количество наблюдений, количество просрочек по кредиту и конверсию\n",
    "second_analysis('children')"
   ]
  },
  {
   "cell_type": "markdown",
   "id": "88aa2f35",
   "metadata": {},
   "source": [
    "Рассмотрим средние показатели возврата кредита в срок для заемщиков с детьми и без. \n",
    "\n",
    "Проведем категоризацию заемщиков по наличию детей, создадим в датафрейме `data` столбец `children_category` с категориями: </br>\n",
    "`0` - нет детей</br>\n",
    "`1` - есть дети"
   ]
  },
  {
   "cell_type": "code",
   "execution_count": 26,
   "id": "a1793d26",
   "metadata": {},
   "outputs": [],
   "source": [
    "# функция для категоризации\n",
    "def categorize_children(children):\n",
    "    try:\n",
    "        if children == 0:\n",
    "            return 0\n",
    "        elif children > 0:\n",
    "            return 1\n",
    "    except:\n",
    "        pass\n",
    "\n",
    "# категоризуем данные\n",
    "data['children_category'] = data['children'].apply(categorize_children)"
   ]
  },
  {
   "cell_type": "markdown",
   "id": "403bcd05",
   "metadata": {},
   "source": [
    "Построим сводную таблицу:"
   ]
  },
  {
   "cell_type": "code",
   "execution_count": 27,
   "id": "72076c1d",
   "metadata": {},
   "outputs": [
    {
     "name": "stdout",
     "output_type": "stream",
     "text": [
      "                   count   sum  mean  on_time\n",
      "children_category                            \n",
      "0                  14091  1063  7.54    92.46\n",
      "1                   7240   669  9.24    90.76\n"
     ]
    }
   ],
   "source": [
    "pivot_table = data.groupby('children_category')['debt'].agg(['count', 'sum', 'mean'])\n",
    "pivot_table['mean'] = (pivot_table['mean'] * 100).round(2)\n",
    "pivot_table['on_time'] = 100 - pivot_table['mean']\n",
    "print(pivot_table)"
   ]
  },
  {
   "cell_type": "markdown",
   "id": "2eb9088e",
   "metadata": {
    "deletable": false,
    "id": "2eb9088e"
   },
   "source": [
    "**Выводы:** \n",
    "- Заемщики, не имеющие детей, в среднем чаще выплачивают кредит в срок - 92.46%, против - 90.76%. Это связано с меньшей финансовой нагрузкой у бездетных заемщиков.\n",
    "- Заемщики, имеющие 1-2-х детей, допускают примерно одинаковую просрочку платежа по кредиту - в 9.23% и 9.45% случаев соответственно.\n",
    "- При этом многодетные заемщики, имеющие 3-х детей, в среднем чаще выплачивают кредит в срок - в 91.82% случаев. Это может быть объяснено тем, что многодетные родители имеют различные меры социальной поддержки от государства, что помогает им облегчить финансовую нагрузку.\n",
    "- Но при большем количестве детей, финансовая нагрузка слишком большая, поэтому заемщики, имеющие  4-х детей, в среднем чаще остальных допускают просрочку платежа по кредиту - 9.76%."
   ]
  },
  {
   "cell_type": "markdown",
   "id": "74c9b3a7",
   "metadata": {
    "deletable": false,
    "editable": false,
    "id": "74c9b3a7"
   },
   "source": [
    "#### 3.2 Есть ли зависимость между семейным положением и возвратом кредита в срок?"
   ]
  },
  {
   "cell_type": "markdown",
   "id": "7b840a17",
   "metadata": {},
   "source": [
    "Исследование проводим аналогично предыдущему примеру."
   ]
  },
  {
   "cell_type": "code",
   "execution_count": 28,
   "id": "8098ab3b",
   "metadata": {
    "deletable": false,
    "id": "8098ab3b"
   },
   "outputs": [
    {
     "name": "stdout",
     "output_type": "stream",
     "text": [
      "\u001b[1mАнализ распределения наблюдений в исходных данных\u001b[0m\n",
      "\u001b[0mСемейное положение : женат / замужем. Количество наблюдений 12261, в процентах - 57.48%\n",
      "\u001b[0mСемейное положение : гражданский брак. Количество наблюдений 4134 , в процентах - 19.38%\n",
      "\u001b[0mСемейное положение : вдовец / вдова. Количество наблюдений 951  , в процентах - 4.46%\n",
      "\u001b[0mСемейное положение : в разводе. Количество наблюдений 1189 , в процентах - 5.57%\n",
      "\u001b[0mСемейное положение : Не женат / не замужем. Количество наблюдений 2796 , в процентах - 13.11%\n"
     ]
    }
   ],
   "source": [
    "first_analysis('family_status', 'Семейное положение')"
   ]
  },
  {
   "cell_type": "markdown",
   "id": "d6a60086",
   "metadata": {},
   "source": [
    "Построим сводную таблицу:"
   ]
  },
  {
   "cell_type": "code",
   "execution_count": 29,
   "id": "7d5c84b9",
   "metadata": {},
   "outputs": [
    {
     "data": {
      "text/html": [
       "<style type=\"text/css\">\n",
       "#T_29011_row0_col0 {\n",
       "  background-color: #d7e6f5;\n",
       "  color: #000000;\n",
       "}\n",
       "#T_29011_row0_col1 {\n",
       "  background-color: #c7dcef;\n",
       "  color: #000000;\n",
       "}\n",
       "#T_29011_row0_col2, #T_29011_row4_col0, #T_29011_row4_col1 {\n",
       "  background-color: #08306b;\n",
       "  color: #f1f1f1;\n",
       "}\n",
       "#T_29011_row1_col0 {\n",
       "  background-color: #f3f8fe;\n",
       "  color: #000000;\n",
       "}\n",
       "#T_29011_row1_col1 {\n",
       "  background-color: #f2f8fd;\n",
       "  color: #000000;\n",
       "}\n",
       "#T_29011_row1_col2 {\n",
       "  background-color: #dce9f6;\n",
       "  color: #000000;\n",
       "}\n",
       "#T_29011_row2_col0, #T_29011_row2_col1, #T_29011_row2_col2 {\n",
       "  background-color: #f7fbff;\n",
       "  color: #000000;\n",
       "}\n",
       "#T_29011_row3_col0 {\n",
       "  background-color: #bcd7eb;\n",
       "  color: #000000;\n",
       "}\n",
       "#T_29011_row3_col1 {\n",
       "  background-color: #9fcae1;\n",
       "  color: #000000;\n",
       "}\n",
       "#T_29011_row3_col2 {\n",
       "  background-color: #0b559f;\n",
       "  color: #f1f1f1;\n",
       "}\n",
       "#T_29011_row4_col2 {\n",
       "  background-color: #b7d4ea;\n",
       "  color: #000000;\n",
       "}\n",
       "</style>\n",
       "<table id=\"T_29011\">\n",
       "  <thead>\n",
       "    <tr>\n",
       "      <th class=\"blank level0\" >&nbsp;</th>\n",
       "      <th id=\"T_29011_level0_col0\" class=\"col_heading level0 col0\" >Всего кредитополучателей</th>\n",
       "      <th id=\"T_29011_level0_col1\" class=\"col_heading level0 col1\" >Всего должников</th>\n",
       "      <th id=\"T_29011_level0_col2\" class=\"col_heading level0 col2\" >Доля должников</th>\n",
       "    </tr>\n",
       "    <tr>\n",
       "      <th class=\"index_name level0\" >family_status</th>\n",
       "      <th class=\"blank col0\" >&nbsp;</th>\n",
       "      <th class=\"blank col1\" >&nbsp;</th>\n",
       "      <th class=\"blank col2\" >&nbsp;</th>\n",
       "    </tr>\n",
       "  </thead>\n",
       "  <tbody>\n",
       "    <tr>\n",
       "      <th id=\"T_29011_level0_row0\" class=\"row_heading level0 row0\" >Не женат / не замужем</th>\n",
       "      <td id=\"T_29011_row0_col0\" class=\"data row0 col0\" >2796.000</td>\n",
       "      <td id=\"T_29011_row0_col1\" class=\"data row0 col1\" >273.000</td>\n",
       "      <td id=\"T_29011_row0_col2\" class=\"data row0 col2\" >0.098</td>\n",
       "    </tr>\n",
       "    <tr>\n",
       "      <th id=\"T_29011_level0_row1\" class=\"row_heading level0 row1\" >в разводе</th>\n",
       "      <td id=\"T_29011_row1_col0\" class=\"data row1 col0\" >1189.000</td>\n",
       "      <td id=\"T_29011_row1_col1\" class=\"data row1 col1\" >84.000</td>\n",
       "      <td id=\"T_29011_row1_col2\" class=\"data row1 col2\" >0.071</td>\n",
       "    </tr>\n",
       "    <tr>\n",
       "      <th id=\"T_29011_level0_row2\" class=\"row_heading level0 row2\" >вдовец / вдова</th>\n",
       "      <td id=\"T_29011_row2_col0\" class=\"data row2 col0\" >951.000</td>\n",
       "      <td id=\"T_29011_row2_col1\" class=\"data row2 col1\" >63.000</td>\n",
       "      <td id=\"T_29011_row2_col2\" class=\"data row2 col2\" >0.066</td>\n",
       "    </tr>\n",
       "    <tr>\n",
       "      <th id=\"T_29011_level0_row3\" class=\"row_heading level0 row3\" >гражданский брак</th>\n",
       "      <td id=\"T_29011_row3_col0\" class=\"data row3 col0\" >4132.000</td>\n",
       "      <td id=\"T_29011_row3_col1\" class=\"data row3 col1\" >385.000</td>\n",
       "      <td id=\"T_29011_row3_col2\" class=\"data row3 col2\" >0.093</td>\n",
       "    </tr>\n",
       "    <tr>\n",
       "      <th id=\"T_29011_level0_row4\" class=\"row_heading level0 row4\" >женат / замужем</th>\n",
       "      <td id=\"T_29011_row4_col0\" class=\"data row4 col0\" >12254.000</td>\n",
       "      <td id=\"T_29011_row4_col1\" class=\"data row4 col1\" >927.000</td>\n",
       "      <td id=\"T_29011_row4_col2\" class=\"data row4 col2\" >0.076</td>\n",
       "    </tr>\n",
       "  </tbody>\n",
       "</table>\n"
      ],
      "text/plain": [
       "<pandas.io.formats.style.Styler at 0x21658bfbe50>"
      ]
     },
     "metadata": {},
     "output_type": "display_data"
    }
   ],
   "source": [
    "second_analysis('family_status')"
   ]
  },
  {
   "cell_type": "markdown",
   "id": "9f9734ef",
   "metadata": {},
   "source": [
    "Проведем категоризацию заемщиков по состоянию в браке, создадим в датафрейме `data` столбец `family_status_category` с категориями:<br>\n",
    "`1` - был в браке (`вдовец / вдова`, `разводе`, `женат / замужем`)<br>\n",
    "`0` - не был в браке (`гражданский брак`, `Не женат / не замужем`)"
   ]
  },
  {
   "cell_type": "code",
   "execution_count": 30,
   "id": "405cd8ed",
   "metadata": {},
   "outputs": [
    {
     "name": "stderr",
     "output_type": "stream",
     "text": [
      "C:\\Users\\marid\\AppData\\Local\\Temp\\ipykernel_20896\\4275580024.py:12: SettingWithCopyWarning: \n",
      "A value is trying to be set on a copy of a slice from a DataFrame.\n",
      "Try using .loc[row_indexer,col_indexer] = value instead\n",
      "\n",
      "See the caveats in the documentation: https://pandas.pydata.org/pandas-docs/stable/user_guide/indexing.html#returning-a-view-versus-a-copy\n",
      "  target_data['family_status_category'] = target_data['family_status'].apply(categorize_family_status)\n"
     ]
    }
   ],
   "source": [
    "# функция для категоризации\n",
    "def categorize_family_status(family_status):\n",
    "    try:\n",
    "        if family_status in ['вдовец / вдова', 'разводе', 'женат / замужем']:\n",
    "            return 1\n",
    "        elif family_status in ['гражданский брак', 'Не женат / не замужем']:\n",
    "            return 0\n",
    "    except:\n",
    "        pass\n",
    "\n",
    "# категоризуем данные\n",
    "target_data['family_status_category'] = target_data['family_status'].apply(categorize_family_status)"
   ]
  },
  {
   "cell_type": "markdown",
   "id": "c4b185f8",
   "metadata": {},
   "source": [
    "Построим сводную таблицу:"
   ]
  },
  {
   "cell_type": "code",
   "execution_count": 31,
   "id": "7f9a0133",
   "metadata": {},
   "outputs": [
    {
     "data": {
      "text/html": [
       "<style type=\"text/css\">\n",
       "#T_9f24f_row0_col0, #T_9f24f_row0_col1, #T_9f24f_row1_col2 {\n",
       "  background-color: #f7fbff;\n",
       "  color: #000000;\n",
       "}\n",
       "#T_9f24f_row0_col2, #T_9f24f_row1_col0, #T_9f24f_row1_col1 {\n",
       "  background-color: #08306b;\n",
       "  color: #f1f1f1;\n",
       "}\n",
       "</style>\n",
       "<table id=\"T_9f24f\">\n",
       "  <thead>\n",
       "    <tr>\n",
       "      <th class=\"blank level0\" >&nbsp;</th>\n",
       "      <th id=\"T_9f24f_level0_col0\" class=\"col_heading level0 col0\" >Всего кредитополучателей</th>\n",
       "      <th id=\"T_9f24f_level0_col1\" class=\"col_heading level0 col1\" >Всего должников</th>\n",
       "      <th id=\"T_9f24f_level0_col2\" class=\"col_heading level0 col2\" >Доля должников</th>\n",
       "    </tr>\n",
       "    <tr>\n",
       "      <th class=\"index_name level0\" >family_status_category</th>\n",
       "      <th class=\"blank col0\" >&nbsp;</th>\n",
       "      <th class=\"blank col1\" >&nbsp;</th>\n",
       "      <th class=\"blank col2\" >&nbsp;</th>\n",
       "    </tr>\n",
       "  </thead>\n",
       "  <tbody>\n",
       "    <tr>\n",
       "      <th id=\"T_9f24f_level0_row0\" class=\"row_heading level0 row0\" >0.000000</th>\n",
       "      <td id=\"T_9f24f_row0_col0\" class=\"data row0 col0\" >6928.000</td>\n",
       "      <td id=\"T_9f24f_row0_col1\" class=\"data row0 col1\" >658.000</td>\n",
       "      <td id=\"T_9f24f_row0_col2\" class=\"data row0 col2\" >0.095</td>\n",
       "    </tr>\n",
       "    <tr>\n",
       "      <th id=\"T_9f24f_level0_row1\" class=\"row_heading level0 row1\" >1.000000</th>\n",
       "      <td id=\"T_9f24f_row1_col0\" class=\"data row1 col0\" >13205.000</td>\n",
       "      <td id=\"T_9f24f_row1_col1\" class=\"data row1 col1\" >990.000</td>\n",
       "      <td id=\"T_9f24f_row1_col2\" class=\"data row1 col2\" >0.075</td>\n",
       "    </tr>\n",
       "  </tbody>\n",
       "</table>\n"
      ],
      "text/plain": [
       "<pandas.io.formats.style.Styler at 0x21658c6f310>"
      ]
     },
     "metadata": {},
     "output_type": "display_data"
    }
   ],
   "source": [
    "second_analysis('family_status_category')"
   ]
  },
  {
   "cell_type": "markdown",
   "id": "c389ca63",
   "metadata": {
    "deletable": false,
    "id": "c389ca63"
   },
   "source": [
    "**Выводы:** \n",
    "- Люди, имеющие опыт семейной жизни в браке, чаще выплачивают кредит в срок - в 92.51% случаев, против - 90.51%. Скорее всего на это влияют личностные качества такие, как ответсвенность, и  понимание взаимобязательств, которые соблюдаются в браке."
   ]
  },
  {
   "cell_type": "markdown",
   "id": "9529de68",
   "metadata": {
    "deletable": false,
    "editable": false,
    "id": "9529de68"
   },
   "source": [
    "#### 3.3 Есть ли зависимость между уровнем дохода и возвратом кредита в срок?"
   ]
  },
  {
   "cell_type": "markdown",
   "id": "5b1442bf",
   "metadata": {},
   "source": [
    "Напомним, что уровень дохода категоризирован в соответсвии со следующей легендой:\n",
    "- 0–30000 — `'E'`;\n",
    "- 30001–50000 — `'D'`;\n",
    "- 50001–200000 — `'C'`;\n",
    "- 200001–1000000 — `'B'`;\n",
    "- 1000001 и выше — `'A'`.\n",
    "\n",
    "Посмотрим как наблюдения распределены в исследуемых группах:"
   ]
  },
  {
   "cell_type": "code",
   "execution_count": 32,
   "id": "8787f44a",
   "metadata": {
    "deletable": false,
    "id": "8787f44a"
   },
   "outputs": [
    {
     "name": "stdout",
     "output_type": "stream",
     "text": [
      "\u001b[1mАнализ распределения наблюдений в исходных данных\u001b[0m\n",
      "\u001b[0mУровень дохода : B. Количество наблюдений 5014 , в процентах - 23.51%\n",
      "\u001b[0mУровень дохода : C. Количество наблюдений 15921, в процентах - 74.64%\n",
      "\u001b[0mУровень дохода : D. Количество наблюдений 349  , в процентах - 1.64%\n",
      "\u001b[31mУровень дохода : E. Количество наблюдений 22   , в процентах - 0.10%\n",
      "\u001b[31mУровень дохода : A. Количество наблюдений 25   , в процентах - 0.12%\n"
     ]
    }
   ],
   "source": [
    "first_analysis('total_income_category', 'Уровень дохода')"
   ]
  },
  {
   "cell_type": "markdown",
   "id": "96c312c2",
   "metadata": {},
   "source": [
    "Не будем исключать группы с очень низким и очень высоким доходом, продолжим исследование опираясь на эти данные."
   ]
  },
  {
   "cell_type": "markdown",
   "id": "d28525a1",
   "metadata": {},
   "source": [
    "Построим сводную таблицу:"
   ]
  },
  {
   "cell_type": "code",
   "execution_count": 33,
   "id": "f140b25d",
   "metadata": {},
   "outputs": [
    {
     "data": {
      "text/html": [
       "<style type=\"text/css\">\n",
       "#T_8605b_row0_col0, #T_8605b_row0_col1, #T_8605b_row3_col2, #T_8605b_row4_col0, #T_8605b_row4_col1 {\n",
       "  background-color: #f7fbff;\n",
       "  color: #000000;\n",
       "}\n",
       "#T_8605b_row0_col2 {\n",
       "  background-color: #3d8dc4;\n",
       "  color: #f1f1f1;\n",
       "}\n",
       "#T_8605b_row1_col0 {\n",
       "  background-color: #b2d2e8;\n",
       "  color: #000000;\n",
       "}\n",
       "#T_8605b_row1_col1 {\n",
       "  background-color: #c3daee;\n",
       "  color: #000000;\n",
       "}\n",
       "#T_8605b_row1_col2 {\n",
       "  background-color: #aacfe5;\n",
       "  color: #000000;\n",
       "}\n",
       "#T_8605b_row2_col0, #T_8605b_row2_col1, #T_8605b_row4_col2 {\n",
       "  background-color: #08306b;\n",
       "  color: #f1f1f1;\n",
       "}\n",
       "#T_8605b_row2_col2 {\n",
       "  background-color: #1562a9;\n",
       "  color: #f1f1f1;\n",
       "}\n",
       "#T_8605b_row3_col0 {\n",
       "  background-color: #f3f8fe;\n",
       "  color: #000000;\n",
       "}\n",
       "#T_8605b_row3_col1 {\n",
       "  background-color: #f5f9fe;\n",
       "  color: #000000;\n",
       "}\n",
       "</style>\n",
       "<table id=\"T_8605b\">\n",
       "  <thead>\n",
       "    <tr>\n",
       "      <th class=\"blank level0\" >&nbsp;</th>\n",
       "      <th id=\"T_8605b_level0_col0\" class=\"col_heading level0 col0\" >Всего кредитополучателей</th>\n",
       "      <th id=\"T_8605b_level0_col1\" class=\"col_heading level0 col1\" >Всего должников</th>\n",
       "      <th id=\"T_8605b_level0_col2\" class=\"col_heading level0 col2\" >Доля должников</th>\n",
       "    </tr>\n",
       "    <tr>\n",
       "      <th class=\"index_name level0\" >total_income_category</th>\n",
       "      <th class=\"blank col0\" >&nbsp;</th>\n",
       "      <th class=\"blank col1\" >&nbsp;</th>\n",
       "      <th class=\"blank col2\" >&nbsp;</th>\n",
       "    </tr>\n",
       "  </thead>\n",
       "  <tbody>\n",
       "    <tr>\n",
       "      <th id=\"T_8605b_level0_row0\" class=\"row_heading level0 row0\" >A</th>\n",
       "      <td id=\"T_8605b_row0_col0\" class=\"data row0 col0\" >25.000</td>\n",
       "      <td id=\"T_8605b_row0_col1\" class=\"data row0 col1\" >2.000</td>\n",
       "      <td id=\"T_8605b_row0_col2\" class=\"data row0 col2\" >0.080</td>\n",
       "    </tr>\n",
       "    <tr>\n",
       "      <th id=\"T_8605b_level0_row1\" class=\"row_heading level0 row1\" >B</th>\n",
       "      <td id=\"T_8605b_row1_col0\" class=\"data row1 col0\" >5010.000</td>\n",
       "      <td id=\"T_8605b_row1_col1\" class=\"data row1 col1\" >354.000</td>\n",
       "      <td id=\"T_8605b_row1_col2\" class=\"data row1 col2\" >0.071</td>\n",
       "    </tr>\n",
       "    <tr>\n",
       "      <th id=\"T_8605b_level0_row2\" class=\"row_heading level0 row2\" >C</th>\n",
       "      <td id=\"T_8605b_row2_col0\" class=\"data row2 col0\" >15917.000</td>\n",
       "      <td id=\"T_8605b_row2_col1\" class=\"data row2 col1\" >1353.000</td>\n",
       "      <td id=\"T_8605b_row2_col2\" class=\"data row2 col2\" >0.085</td>\n",
       "    </tr>\n",
       "    <tr>\n",
       "      <th id=\"T_8605b_level0_row3\" class=\"row_heading level0 row3\" >D</th>\n",
       "      <td id=\"T_8605b_row3_col0\" class=\"data row3 col0\" >348.000</td>\n",
       "      <td id=\"T_8605b_row3_col1\" class=\"data row3 col1\" >21.000</td>\n",
       "      <td id=\"T_8605b_row3_col2\" class=\"data row3 col2\" >0.060</td>\n",
       "    </tr>\n",
       "    <tr>\n",
       "      <th id=\"T_8605b_level0_row4\" class=\"row_heading level0 row4\" >E</th>\n",
       "      <td id=\"T_8605b_row4_col0\" class=\"data row4 col0\" >22.000</td>\n",
       "      <td id=\"T_8605b_row4_col1\" class=\"data row4 col1\" >2.000</td>\n",
       "      <td id=\"T_8605b_row4_col2\" class=\"data row4 col2\" >0.091</td>\n",
       "    </tr>\n",
       "  </tbody>\n",
       "</table>\n"
      ],
      "text/plain": [
       "<pandas.io.formats.style.Styler at 0x21658d20c50>"
      ]
     },
     "metadata": {},
     "output_type": "display_data"
    }
   ],
   "source": [
    "second_analysis('total_income_category')"
   ]
  },
  {
   "cell_type": "markdown",
   "id": "6dd14b57",
   "metadata": {
    "deletable": false,
    "id": "6dd14b57"
   },
   "source": [
    "**Выводы:** \n",
    "- Заемщики с низким доходом менее 30000 (`E`) чаще остальных имеют просрочку по кредиту - в 9.09% случаев. Отнесем их к ненадежным занимателям.\n",
    "- Заемщики с доходом ниже среднего 30000–50000 (`D`) чаще остальных возвращают кредит в срок - в 93.98% случаев. Скорее всего это связано с более ответсвенным подходом к деньгам, так как люди не располагающие лишними средствами не захотят оказаться в ситуации, когда нужно будет платить штраф за просроченный платеж.\n",
    "- Заемщики с доходом выше среднего и высоким (`B` и `A`) являются надежными занимателями, они возвращают кредит в срок - в 92.94% и 92.00% случаев соответсвенно."
   ]
  },
  {
   "cell_type": "markdown",
   "id": "fc536459",
   "metadata": {},
   "source": [
    "**Проведем дополнительное исследование.**"
   ]
  },
  {
   "cell_type": "code",
   "execution_count": 35,
   "id": "ed2e523d",
   "metadata": {},
   "outputs": [
    {
     "data": {
      "text/html": [
       "<style type=\"text/css\">\n",
       "#T_262c6_row0_col0 {\n",
       "  background-color: #69add5;\n",
       "  color: #f1f1f1;\n",
       "}\n",
       "#T_262c6_row0_col1 {\n",
       "  background-color: #5da5d1;\n",
       "  color: #f1f1f1;\n",
       "}\n",
       "#T_262c6_row0_col2 {\n",
       "  background-color: #58a1cf;\n",
       "  color: #f1f1f1;\n",
       "}\n",
       "#T_262c6_row1_col0, #T_262c6_row1_col1, #T_262c6_row1_col2 {\n",
       "  background-color: #08306b;\n",
       "  color: #f1f1f1;\n",
       "}\n",
       "#T_262c6_row2_col0, #T_262c6_row2_col1, #T_262c6_row2_col2 {\n",
       "  background-color: #f7fbff;\n",
       "  color: #000000;\n",
       "}\n",
       "</style>\n",
       "<table id=\"T_262c6\">\n",
       "  <thead>\n",
       "    <tr>\n",
       "      <th class=\"blank level0\" >&nbsp;</th>\n",
       "      <th id=\"T_262c6_level0_col0\" class=\"col_heading level0 col0\" >Всего кредитополучателей</th>\n",
       "      <th id=\"T_262c6_level0_col1\" class=\"col_heading level0 col1\" >Всего должников</th>\n",
       "      <th id=\"T_262c6_level0_col2\" class=\"col_heading level0 col2\" >Доля должников</th>\n",
       "    </tr>\n",
       "    <tr>\n",
       "      <th class=\"index_name level0\" >new_category</th>\n",
       "      <th class=\"blank col0\" >&nbsp;</th>\n",
       "      <th class=\"blank col1\" >&nbsp;</th>\n",
       "      <th class=\"blank col2\" >&nbsp;</th>\n",
       "    </tr>\n",
       "  </thead>\n",
       "  <tbody>\n",
       "    <tr>\n",
       "      <th id=\"T_262c6_level0_row0\" class=\"row_heading level0 row0\" >(20666.0, 119218.0]</th>\n",
       "      <td id=\"T_262c6_row0_col0\" class=\"data row0 col0\" >7111.000</td>\n",
       "      <td id=\"T_262c6_row0_col1\" class=\"data row0 col1\" >580.000</td>\n",
       "      <td id=\"T_262c6_row0_col2\" class=\"data row0 col2\" >0.082</td>\n",
       "    </tr>\n",
       "    <tr>\n",
       "      <th id=\"T_262c6_level0_row1\" class=\"row_heading level0 row1\" >(119218.0, 172357.0]</th>\n",
       "      <td id=\"T_262c6_row1_col0\" class=\"data row1 col0\" >7238.000</td>\n",
       "      <td id=\"T_262c6_row1_col1\" class=\"data row1 col1\" >627.000</td>\n",
       "      <td id=\"T_262c6_row1_col2\" class=\"data row1 col2\" >0.087</td>\n",
       "    </tr>\n",
       "    <tr>\n",
       "      <th id=\"T_262c6_level0_row2\" class=\"row_heading level0 row2\" >(172357.0, 2265604.0]</th>\n",
       "      <td id=\"T_262c6_row2_col0\" class=\"data row2 col0\" >6982.000</td>\n",
       "      <td id=\"T_262c6_row2_col1\" class=\"data row2 col1\" >525.000</td>\n",
       "      <td id=\"T_262c6_row2_col2\" class=\"data row2 col2\" >0.075</td>\n",
       "    </tr>\n",
       "  </tbody>\n",
       "</table>\n"
      ],
      "text/plain": [
       "<pandas.io.formats.style.Styler at 0x21656ef5950>"
      ]
     },
     "metadata": {},
     "output_type": "display_data"
    },
    {
     "data": {
      "text/html": [
       "<style type=\"text/css\">\n",
       "#T_99048_row0_col0 {\n",
       "  background-color: #6aaed6;\n",
       "  color: #f1f1f1;\n",
       "}\n",
       "#T_99048_row0_col1 {\n",
       "  background-color: #7ab6d9;\n",
       "  color: #000000;\n",
       "}\n",
       "#T_99048_row0_col2 {\n",
       "  background-color: #65aad4;\n",
       "  color: #f1f1f1;\n",
       "}\n",
       "#T_99048_row1_col0, #T_99048_row1_col1, #T_99048_row1_col2 {\n",
       "  background-color: #08306b;\n",
       "  color: #f1f1f1;\n",
       "}\n",
       "#T_99048_row2_col0, #T_99048_row3_col1, #T_99048_row3_col2 {\n",
       "  background-color: #f7fbff;\n",
       "  color: #000000;\n",
       "}\n",
       "#T_99048_row2_col1 {\n",
       "  background-color: #3f8fc5;\n",
       "  color: #f1f1f1;\n",
       "}\n",
       "#T_99048_row2_col2 {\n",
       "  background-color: #125ea6;\n",
       "  color: #f1f1f1;\n",
       "}\n",
       "#T_99048_row3_col0 {\n",
       "  background-color: #6dafd7;\n",
       "  color: #f1f1f1;\n",
       "}\n",
       "</style>\n",
       "<table id=\"T_99048\">\n",
       "  <thead>\n",
       "    <tr>\n",
       "      <th class=\"blank level0\" >&nbsp;</th>\n",
       "      <th id=\"T_99048_level0_col0\" class=\"col_heading level0 col0\" >Всего кредитополучателей</th>\n",
       "      <th id=\"T_99048_level0_col1\" class=\"col_heading level0 col1\" >Всего должников</th>\n",
       "      <th id=\"T_99048_level0_col2\" class=\"col_heading level0 col2\" >Доля должников</th>\n",
       "    </tr>\n",
       "    <tr>\n",
       "      <th class=\"index_name level0\" >new_category</th>\n",
       "      <th class=\"blank col0\" >&nbsp;</th>\n",
       "      <th class=\"blank col1\" >&nbsp;</th>\n",
       "      <th class=\"blank col2\" >&nbsp;</th>\n",
       "    </tr>\n",
       "  </thead>\n",
       "  <tbody>\n",
       "    <tr>\n",
       "      <th id=\"T_99048_level0_row0\" class=\"row_heading level0 row0\" >(20666.0, 107507.0]</th>\n",
       "      <td id=\"T_99048_row0_col0\" class=\"data row0 col0\" >5333.000</td>\n",
       "      <td id=\"T_99048_row0_col1\" class=\"data row0 col1\" >427.000</td>\n",
       "      <td id=\"T_99048_row0_col2\" class=\"data row0 col2\" >0.080</td>\n",
       "    </tr>\n",
       "    <tr>\n",
       "      <th id=\"T_99048_level0_row1\" class=\"row_heading level0 row1\" >(107507.0, 142594.0]</th>\n",
       "      <td id=\"T_99048_row1_col0\" class=\"data row1 col0\" >5450.000</td>\n",
       "      <td id=\"T_99048_row1_col1\" class=\"data row1 col1\" >480.000</td>\n",
       "      <td id=\"T_99048_row1_col2\" class=\"data row1 col2\" >0.088</td>\n",
       "    </tr>\n",
       "    <tr>\n",
       "      <th id=\"T_99048_level0_row2\" class=\"row_heading level0 row2\" >(142594.0, 195842.0]</th>\n",
       "      <td id=\"T_99048_row2_col0\" class=\"data row2 col0\" >5216.000</td>\n",
       "      <td id=\"T_99048_row2_col1\" class=\"data row2 col1\" >444.000</td>\n",
       "      <td id=\"T_99048_row2_col2\" class=\"data row2 col2\" >0.085</td>\n",
       "    </tr>\n",
       "    <tr>\n",
       "      <th id=\"T_99048_level0_row3\" class=\"row_heading level0 row3\" >(195842.0, 2265604.0]</th>\n",
       "      <td id=\"T_99048_row3_col0\" class=\"data row3 col0\" >5332.000</td>\n",
       "      <td id=\"T_99048_row3_col1\" class=\"data row3 col1\" >381.000</td>\n",
       "      <td id=\"T_99048_row3_col2\" class=\"data row3 col2\" >0.071</td>\n",
       "    </tr>\n",
       "  </tbody>\n",
       "</table>\n"
      ],
      "text/plain": [
       "<pandas.io.formats.style.Styler at 0x21656ef5950>"
      ]
     },
     "metadata": {},
     "output_type": "display_data"
    },
    {
     "data": {
      "text/html": [
       "<style type=\"text/css\">\n",
       "#T_24de0_row0_col0, #T_24de0_row2_col1, #T_24de0_row2_col2 {\n",
       "  background-color: #08306b;\n",
       "  color: #f1f1f1;\n",
       "}\n",
       "#T_24de0_row0_col1, #T_24de0_row0_col2 {\n",
       "  background-color: #4896c8;\n",
       "  color: #f1f1f1;\n",
       "}\n",
       "#T_24de0_row1_col0, #T_24de0_row2_col0, #T_24de0_row3_col0, #T_24de0_row4_col0, #T_24de0_row4_col1, #T_24de0_row4_col2 {\n",
       "  background-color: #f7fbff;\n",
       "  color: #000000;\n",
       "}\n",
       "#T_24de0_row1_col1, #T_24de0_row1_col2, #T_24de0_row3_col1, #T_24de0_row3_col2 {\n",
       "  background-color: #1764ab;\n",
       "  color: #f1f1f1;\n",
       "}\n",
       "</style>\n",
       "<table id=\"T_24de0\">\n",
       "  <thead>\n",
       "    <tr>\n",
       "      <th class=\"blank level0\" >&nbsp;</th>\n",
       "      <th id=\"T_24de0_level0_col0\" class=\"col_heading level0 col0\" >Всего кредитополучателей</th>\n",
       "      <th id=\"T_24de0_level0_col1\" class=\"col_heading level0 col1\" >Всего должников</th>\n",
       "      <th id=\"T_24de0_level0_col2\" class=\"col_heading level0 col2\" >Доля должников</th>\n",
       "    </tr>\n",
       "    <tr>\n",
       "      <th class=\"index_name level0\" >new_category</th>\n",
       "      <th class=\"blank col0\" >&nbsp;</th>\n",
       "      <th class=\"blank col1\" >&nbsp;</th>\n",
       "      <th class=\"blank col2\" >&nbsp;</th>\n",
       "    </tr>\n",
       "  </thead>\n",
       "  <tbody>\n",
       "    <tr>\n",
       "      <th id=\"T_24de0_level0_row0\" class=\"row_heading level0 row0\" >(20666.0, 98514.0]</th>\n",
       "      <td id=\"T_24de0_row0_col0\" class=\"data row0 col0\" >4267.000</td>\n",
       "      <td id=\"T_24de0_row0_col1\" class=\"data row0 col1\" >344.000</td>\n",
       "      <td id=\"T_24de0_row0_col2\" class=\"data row0 col2\" >0.081</td>\n",
       "    </tr>\n",
       "    <tr>\n",
       "      <th id=\"T_24de0_level0_row1\" class=\"row_heading level0 row1\" >(98514.0, 132113.0]</th>\n",
       "      <td id=\"T_24de0_row1_col0\" class=\"data row1 col0\" >4266.000</td>\n",
       "      <td id=\"T_24de0_row1_col1\" class=\"data row1 col1\" >358.000</td>\n",
       "      <td id=\"T_24de0_row1_col2\" class=\"data row1 col2\" >0.084</td>\n",
       "    </tr>\n",
       "    <tr>\n",
       "      <th id=\"T_24de0_level0_row2\" class=\"row_heading level0 row2\" >(132113.0, 161380.0]</th>\n",
       "      <td id=\"T_24de0_row2_col0\" class=\"data row2 col0\" >4266.000</td>\n",
       "      <td id=\"T_24de0_row2_col1\" class=\"data row2 col1\" >373.000</td>\n",
       "      <td id=\"T_24de0_row2_col2\" class=\"data row2 col2\" >0.087</td>\n",
       "    </tr>\n",
       "    <tr>\n",
       "      <th id=\"T_24de0_level0_row3\" class=\"row_heading level0 row3\" >(161380.0, 214604.0]</th>\n",
       "      <td id=\"T_24de0_row3_col0\" class=\"data row3 col0\" >4266.000</td>\n",
       "      <td id=\"T_24de0_row3_col1\" class=\"data row3 col1\" >358.000</td>\n",
       "      <td id=\"T_24de0_row3_col2\" class=\"data row3 col2\" >0.084</td>\n",
       "    </tr>\n",
       "    <tr>\n",
       "      <th id=\"T_24de0_level0_row4\" class=\"row_heading level0 row4\" >(214604.0, 2265604.0]</th>\n",
       "      <td id=\"T_24de0_row4_col0\" class=\"data row4 col0\" >4266.000</td>\n",
       "      <td id=\"T_24de0_row4_col1\" class=\"data row4 col1\" >299.000</td>\n",
       "      <td id=\"T_24de0_row4_col2\" class=\"data row4 col2\" >0.070</td>\n",
       "    </tr>\n",
       "  </tbody>\n",
       "</table>\n"
      ],
      "text/plain": [
       "<pandas.io.formats.style.Styler at 0x2165ab383d0>"
      ]
     },
     "metadata": {},
     "output_type": "display_data"
    },
    {
     "data": {
      "text/html": [
       "<style type=\"text/css\">\n",
       "#T_c0874_row0_col0 {\n",
       "  background-color: #63a8d3;\n",
       "  color: #f1f1f1;\n",
       "}\n",
       "#T_c0874_row0_col1 {\n",
       "  background-color: #7ab6d9;\n",
       "  color: #000000;\n",
       "}\n",
       "#T_c0874_row0_col2 {\n",
       "  background-color: #60a7d2;\n",
       "  color: #f1f1f1;\n",
       "}\n",
       "#T_c0874_row1_col0, #T_c0874_row5_col0 {\n",
       "  background-color: #64a9d3;\n",
       "  color: #f1f1f1;\n",
       "}\n",
       "#T_c0874_row1_col1 {\n",
       "  background-color: #4e9acb;\n",
       "  color: #f1f1f1;\n",
       "}\n",
       "#T_c0874_row1_col2 {\n",
       "  background-color: #3383be;\n",
       "  color: #f1f1f1;\n",
       "}\n",
       "#T_c0874_row2_col0, #T_c0874_row2_col1, #T_c0874_row2_col2 {\n",
       "  background-color: #08306b;\n",
       "  color: #f1f1f1;\n",
       "}\n",
       "#T_c0874_row3_col0 {\n",
       "  background-color: #549fcd;\n",
       "  color: #f1f1f1;\n",
       "}\n",
       "#T_c0874_row3_col1 {\n",
       "  background-color: #3a8ac2;\n",
       "  color: #f1f1f1;\n",
       "}\n",
       "#T_c0874_row3_col2 {\n",
       "  background-color: #2373b6;\n",
       "  color: #f1f1f1;\n",
       "}\n",
       "#T_c0874_row4_col0, #T_c0874_row5_col1, #T_c0874_row5_col2 {\n",
       "  background-color: #f7fbff;\n",
       "  color: #000000;\n",
       "}\n",
       "#T_c0874_row4_col1 {\n",
       "  background-color: #a8cee4;\n",
       "  color: #000000;\n",
       "}\n",
       "#T_c0874_row4_col2 {\n",
       "  background-color: #5aa2cf;\n",
       "  color: #f1f1f1;\n",
       "}\n",
       "</style>\n",
       "<table id=\"T_c0874\">\n",
       "  <thead>\n",
       "    <tr>\n",
       "      <th class=\"blank level0\" >&nbsp;</th>\n",
       "      <th id=\"T_c0874_level0_col0\" class=\"col_heading level0 col0\" >Всего кредитополучателей</th>\n",
       "      <th id=\"T_c0874_level0_col1\" class=\"col_heading level0 col1\" >Всего должников</th>\n",
       "      <th id=\"T_c0874_level0_col2\" class=\"col_heading level0 col2\" >Доля должников</th>\n",
       "    </tr>\n",
       "    <tr>\n",
       "      <th class=\"index_name level0\" >new_category</th>\n",
       "      <th class=\"blank col0\" >&nbsp;</th>\n",
       "      <th class=\"blank col1\" >&nbsp;</th>\n",
       "      <th class=\"blank col2\" >&nbsp;</th>\n",
       "    </tr>\n",
       "  </thead>\n",
       "  <tbody>\n",
       "    <tr>\n",
       "      <th id=\"T_c0874_level0_row0\" class=\"row_heading level0 row0\" >(20666.0, 92092.0]</th>\n",
       "      <td id=\"T_c0874_row0_col0\" class=\"data row0 col0\" >3556.000</td>\n",
       "      <td id=\"T_c0874_row0_col1\" class=\"data row0 col1\" >285.000</td>\n",
       "      <td id=\"T_c0874_row0_col2\" class=\"data row0 col2\" >0.080</td>\n",
       "    </tr>\n",
       "    <tr>\n",
       "      <th id=\"T_c0874_level0_row1\" class=\"row_heading level0 row1\" >(92092.0, 119218.0]</th>\n",
       "      <td id=\"T_c0874_row1_col0\" class=\"data row1 col0\" >3555.000</td>\n",
       "      <td id=\"T_c0874_row1_col1\" class=\"data row1 col1\" >295.000</td>\n",
       "      <td id=\"T_c0874_row1_col2\" class=\"data row1 col2\" >0.083</td>\n",
       "    </tr>\n",
       "    <tr>\n",
       "      <th id=\"T_c0874_level0_row2\" class=\"row_heading level0 row2\" >(119218.0, 142594.0]</th>\n",
       "      <td id=\"T_c0874_row2_col0\" class=\"data row2 col0\" >3672.000</td>\n",
       "      <td id=\"T_c0874_row2_col1\" class=\"data row2 col1\" >327.000</td>\n",
       "      <td id=\"T_c0874_row2_col2\" class=\"data row2 col2\" >0.089</td>\n",
       "    </tr>\n",
       "    <tr>\n",
       "      <th id=\"T_c0874_level0_row3\" class=\"row_heading level0 row3\" >(142594.0, 172357.0]</th>\n",
       "      <td id=\"T_c0874_row3_col0\" class=\"data row3 col0\" >3566.000</td>\n",
       "      <td id=\"T_c0874_row3_col1\" class=\"data row3 col1\" >300.000</td>\n",
       "      <td id=\"T_c0874_row3_col2\" class=\"data row3 col2\" >0.084</td>\n",
       "    </tr>\n",
       "    <tr>\n",
       "      <th id=\"T_c0874_level0_row4\" class=\"row_heading level0 row4\" >(172357.0, 228893.0]</th>\n",
       "      <td id=\"T_c0874_row4_col0\" class=\"data row4 col0\" >3427.000</td>\n",
       "      <td id=\"T_c0874_row4_col1\" class=\"data row4 col1\" >276.000</td>\n",
       "      <td id=\"T_c0874_row4_col2\" class=\"data row4 col2\" >0.081</td>\n",
       "    </tr>\n",
       "    <tr>\n",
       "      <th id=\"T_c0874_level0_row5\" class=\"row_heading level0 row5\" >(228893.0, 2265604.0]</th>\n",
       "      <td id=\"T_c0874_row5_col0\" class=\"data row5 col0\" >3555.000</td>\n",
       "      <td id=\"T_c0874_row5_col1\" class=\"data row5 col1\" >249.000</td>\n",
       "      <td id=\"T_c0874_row5_col2\" class=\"data row5 col2\" >0.070</td>\n",
       "    </tr>\n",
       "  </tbody>\n",
       "</table>\n"
      ],
      "text/plain": [
       "<pandas.io.formats.style.Styler at 0x21658c11690>"
      ]
     },
     "metadata": {},
     "output_type": "display_data"
    },
    {
     "data": {
      "text/html": [
       "<style type=\"text/css\">\n",
       "#T_270f9_row0_col0, #T_270f9_row3_col1, #T_270f9_row3_col2, #T_270f9_row6_col0 {\n",
       "  background-color: #08306b;\n",
       "  color: #f1f1f1;\n",
       "}\n",
       "#T_270f9_row0_col1, #T_270f9_row0_col2 {\n",
       "  background-color: #8dc1dd;\n",
       "  color: #000000;\n",
       "}\n",
       "#T_270f9_row1_col0, #T_270f9_row2_col0, #T_270f9_row3_col0, #T_270f9_row4_col0, #T_270f9_row5_col0, #T_270f9_row6_col1, #T_270f9_row6_col2 {\n",
       "  background-color: #f7fbff;\n",
       "  color: #000000;\n",
       "}\n",
       "#T_270f9_row1_col1, #T_270f9_row1_col2 {\n",
       "  background-color: #083979;\n",
       "  color: #f1f1f1;\n",
       "}\n",
       "#T_270f9_row2_col1, #T_270f9_row2_col2 {\n",
       "  background-color: #083471;\n",
       "  color: #f1f1f1;\n",
       "}\n",
       "#T_270f9_row4_col1, #T_270f9_row4_col2 {\n",
       "  background-color: #09529d;\n",
       "  color: #f1f1f1;\n",
       "}\n",
       "#T_270f9_row5_col1, #T_270f9_row5_col2 {\n",
       "  background-color: #4f9bcb;\n",
       "  color: #f1f1f1;\n",
       "}\n",
       "</style>\n",
       "<table id=\"T_270f9\">\n",
       "  <thead>\n",
       "    <tr>\n",
       "      <th class=\"blank level0\" >&nbsp;</th>\n",
       "      <th id=\"T_270f9_level0_col0\" class=\"col_heading level0 col0\" >Всего кредитополучателей</th>\n",
       "      <th id=\"T_270f9_level0_col1\" class=\"col_heading level0 col1\" >Всего должников</th>\n",
       "      <th id=\"T_270f9_level0_col2\" class=\"col_heading level0 col2\" >Доля должников</th>\n",
       "    </tr>\n",
       "    <tr>\n",
       "      <th class=\"index_name level0\" >new_category</th>\n",
       "      <th class=\"blank col0\" >&nbsp;</th>\n",
       "      <th class=\"blank col1\" >&nbsp;</th>\n",
       "      <th class=\"blank col2\" >&nbsp;</th>\n",
       "    </tr>\n",
       "  </thead>\n",
       "  <tbody>\n",
       "    <tr>\n",
       "      <th id=\"T_270f9_level0_row0\" class=\"row_heading level0 row0\" >(20666.0, 87287.0]</th>\n",
       "      <td id=\"T_270f9_row0_col0\" class=\"data row0 col0\" >3048.000</td>\n",
       "      <td id=\"T_270f9_row0_col1\" class=\"data row0 col1\" >233.000</td>\n",
       "      <td id=\"T_270f9_row0_col2\" class=\"data row0 col2\" >0.076</td>\n",
       "    </tr>\n",
       "    <tr>\n",
       "      <th id=\"T_270f9_level0_row1\" class=\"row_heading level0 row1\" >(87287.0, 113563.0]</th>\n",
       "      <td id=\"T_270f9_row1_col0\" class=\"data row1 col0\" >3047.000</td>\n",
       "      <td id=\"T_270f9_row1_col1\" class=\"data row1 col1\" >262.000</td>\n",
       "      <td id=\"T_270f9_row1_col2\" class=\"data row1 col2\" >0.086</td>\n",
       "    </tr>\n",
       "    <tr>\n",
       "      <th id=\"T_270f9_level0_row2\" class=\"row_heading level0 row2\" >(113563.0, 137465.0]</th>\n",
       "      <td id=\"T_270f9_row2_col0\" class=\"data row2 col0\" >3047.000</td>\n",
       "      <td id=\"T_270f9_row2_col1\" class=\"data row2 col1\" >263.000</td>\n",
       "      <td id=\"T_270f9_row2_col2\" class=\"data row2 col2\" >0.086</td>\n",
       "    </tr>\n",
       "    <tr>\n",
       "      <th id=\"T_270f9_level0_row3\" class=\"row_heading level0 row3\" >(137465.0, 155314.0]</th>\n",
       "      <td id=\"T_270f9_row3_col0\" class=\"data row3 col0\" >3047.000</td>\n",
       "      <td id=\"T_270f9_row3_col1\" class=\"data row3 col1\" >264.000</td>\n",
       "      <td id=\"T_270f9_row3_col2\" class=\"data row3 col2\" >0.087</td>\n",
       "    </tr>\n",
       "    <tr>\n",
       "      <th id=\"T_270f9_level0_row4\" class=\"row_heading level0 row4\" >(155314.0, 184554.0]</th>\n",
       "      <td id=\"T_270f9_row4_col0\" class=\"data row4 col0\" >3047.000</td>\n",
       "      <td id=\"T_270f9_row4_col1\" class=\"data row4 col1\" >257.000</td>\n",
       "      <td id=\"T_270f9_row4_col2\" class=\"data row4 col2\" >0.084</td>\n",
       "    </tr>\n",
       "    <tr>\n",
       "      <th id=\"T_270f9_level0_row5\" class=\"row_heading level0 row5\" >(184554.0, 242009.0]</th>\n",
       "      <td id=\"T_270f9_row5_col0\" class=\"data row5 col0\" >3047.000</td>\n",
       "      <td id=\"T_270f9_row5_col1\" class=\"data row5 col1\" >242.000</td>\n",
       "      <td id=\"T_270f9_row5_col2\" class=\"data row5 col2\" >0.079</td>\n",
       "    </tr>\n",
       "    <tr>\n",
       "      <th id=\"T_270f9_level0_row6\" class=\"row_heading level0 row6\" >(242009.0, 2265604.0]</th>\n",
       "      <td id=\"T_270f9_row6_col0\" class=\"data row6 col0\" >3048.000</td>\n",
       "      <td id=\"T_270f9_row6_col1\" class=\"data row6 col1\" >211.000</td>\n",
       "      <td id=\"T_270f9_row6_col2\" class=\"data row6 col2\" >0.069</td>\n",
       "    </tr>\n",
       "  </tbody>\n",
       "</table>\n"
      ],
      "text/plain": [
       "<pandas.io.formats.style.Styler at 0x216584c8390>"
      ]
     },
     "metadata": {},
     "output_type": "display_data"
    },
    {
     "data": {
      "text/html": [
       "<style type=\"text/css\">\n",
       "#T_2246b_row0_col0, #T_2246b_row5_col0, #T_2246b_row7_col0 {\n",
       "  background-color: #6aaed6;\n",
       "  color: #f1f1f1;\n",
       "}\n",
       "#T_2246b_row0_col1 {\n",
       "  background-color: #aacfe5;\n",
       "  color: #000000;\n",
       "}\n",
       "#T_2246b_row0_col2 {\n",
       "  background-color: #91c3de;\n",
       "  color: #000000;\n",
       "}\n",
       "#T_2246b_row1_col0, #T_2246b_row2_col0 {\n",
       "  background-color: #6caed6;\n",
       "  color: #f1f1f1;\n",
       "}\n",
       "#T_2246b_row1_col1, #T_2246b_row5_col1 {\n",
       "  background-color: #519ccc;\n",
       "  color: #f1f1f1;\n",
       "}\n",
       "#T_2246b_row1_col2, #T_2246b_row5_col2 {\n",
       "  background-color: #2f7fbc;\n",
       "  color: #f1f1f1;\n",
       "}\n",
       "#T_2246b_row2_col1 {\n",
       "  background-color: #1c6ab0;\n",
       "  color: #f1f1f1;\n",
       "}\n",
       "#T_2246b_row2_col2 {\n",
       "  background-color: #084285;\n",
       "  color: #f1f1f1;\n",
       "}\n",
       "#T_2246b_row3_col0, #T_2246b_row3_col1, #T_2246b_row3_col2 {\n",
       "  background-color: #08306b;\n",
       "  color: #f1f1f1;\n",
       "}\n",
       "#T_2246b_row4_col0, #T_2246b_row7_col1, #T_2246b_row7_col2 {\n",
       "  background-color: #f7fbff;\n",
       "  color: #000000;\n",
       "}\n",
       "#T_2246b_row4_col1 {\n",
       "  background-color: #4695c8;\n",
       "  color: #f1f1f1;\n",
       "}\n",
       "#T_2246b_row4_col2 {\n",
       "  background-color: #084184;\n",
       "  color: #f1f1f1;\n",
       "}\n",
       "#T_2246b_row6_col0 {\n",
       "  background-color: #6dafd7;\n",
       "  color: #f1f1f1;\n",
       "}\n",
       "#T_2246b_row6_col1 {\n",
       "  background-color: #d4e4f4;\n",
       "  color: #000000;\n",
       "}\n",
       "#T_2246b_row6_col2 {\n",
       "  background-color: #cddff1;\n",
       "  color: #000000;\n",
       "}\n",
       "</style>\n",
       "<table id=\"T_2246b\">\n",
       "  <thead>\n",
       "    <tr>\n",
       "      <th class=\"blank level0\" >&nbsp;</th>\n",
       "      <th id=\"T_2246b_level0_col0\" class=\"col_heading level0 col0\" >Всего кредитополучателей</th>\n",
       "      <th id=\"T_2246b_level0_col1\" class=\"col_heading level0 col1\" >Всего должников</th>\n",
       "      <th id=\"T_2246b_level0_col2\" class=\"col_heading level0 col2\" >Доля должников</th>\n",
       "    </tr>\n",
       "    <tr>\n",
       "      <th class=\"index_name level0\" >new_category</th>\n",
       "      <th class=\"blank col0\" >&nbsp;</th>\n",
       "      <th class=\"blank col1\" >&nbsp;</th>\n",
       "      <th class=\"blank col2\" >&nbsp;</th>\n",
       "    </tr>\n",
       "  </thead>\n",
       "  <tbody>\n",
       "    <tr>\n",
       "      <th id=\"T_2246b_level0_row0\" class=\"row_heading level0 row0\" >(20666.0, 83837.0]</th>\n",
       "      <td id=\"T_2246b_row0_col0\" class=\"data row0 col0\" >2667.000</td>\n",
       "      <td id=\"T_2246b_row0_col1\" class=\"data row0 col1\" >206.000</td>\n",
       "      <td id=\"T_2246b_row0_col2\" class=\"data row0 col2\" >0.077</td>\n",
       "    </tr>\n",
       "    <tr>\n",
       "      <th id=\"T_2246b_level0_row1\" class=\"row_heading level0 row1\" >(83837.0, 107507.0]</th>\n",
       "      <td id=\"T_2246b_row1_col0\" class=\"data row1 col0\" >2666.000</td>\n",
       "      <td id=\"T_2246b_row1_col1\" class=\"data row1 col1\" >221.000</td>\n",
       "      <td id=\"T_2246b_row1_col2\" class=\"data row1 col2\" >0.083</td>\n",
       "    </tr>\n",
       "    <tr>\n",
       "      <th id=\"T_2246b_level0_row2\" class=\"row_heading level0 row2\" >(107507.0, 127546.0]</th>\n",
       "      <td id=\"T_2246b_row2_col0\" class=\"data row2 col0\" >2666.000</td>\n",
       "      <td id=\"T_2246b_row2_col1\" class=\"data row2 col1\" >233.000</td>\n",
       "      <td id=\"T_2246b_row2_col2\" class=\"data row2 col2\" >0.087</td>\n",
       "    </tr>\n",
       "    <tr>\n",
       "      <th id=\"T_2246b_level0_row3\" class=\"row_heading level0 row3\" >(127546.0, 142594.0]</th>\n",
       "      <td id=\"T_2246b_row3_col0\" class=\"data row3 col0\" >2784.000</td>\n",
       "      <td id=\"T_2246b_row3_col1\" class=\"data row3 col1\" >247.000</td>\n",
       "      <td id=\"T_2246b_row3_col2\" class=\"data row3 col2\" >0.089</td>\n",
       "    </tr>\n",
       "    <tr>\n",
       "      <th id=\"T_2246b_level0_row4\" class=\"row_heading level0 row4\" >(142594.0, 166525.0]</th>\n",
       "      <td id=\"T_2246b_row4_col0\" class=\"data row4 col0\" >2549.000</td>\n",
       "      <td id=\"T_2246b_row4_col1\" class=\"data row4 col1\" >223.000</td>\n",
       "      <td id=\"T_2246b_row4_col2\" class=\"data row4 col2\" >0.087</td>\n",
       "    </tr>\n",
       "    <tr>\n",
       "      <th id=\"T_2246b_level0_row5\" class=\"row_heading level0 row5\" >(166525.0, 195842.0]</th>\n",
       "      <td id=\"T_2246b_row5_col0\" class=\"data row5 col0\" >2667.000</td>\n",
       "      <td id=\"T_2246b_row5_col1\" class=\"data row5 col1\" >221.000</td>\n",
       "      <td id=\"T_2246b_row5_col2\" class=\"data row5 col2\" >0.083</td>\n",
       "    </tr>\n",
       "    <tr>\n",
       "      <th id=\"T_2246b_level0_row6\" class=\"row_heading level0 row6\" >(195842.0, 254250.0]</th>\n",
       "      <td id=\"T_2246b_row6_col0\" class=\"data row6 col0\" >2665.000</td>\n",
       "      <td id=\"T_2246b_row6_col1\" class=\"data row6 col1\" >196.000</td>\n",
       "      <td id=\"T_2246b_row6_col2\" class=\"data row6 col2\" >0.074</td>\n",
       "    </tr>\n",
       "    <tr>\n",
       "      <th id=\"T_2246b_level0_row7\" class=\"row_heading level0 row7\" >(254250.0, 2265604.0]</th>\n",
       "      <td id=\"T_2246b_row7_col0\" class=\"data row7 col0\" >2667.000</td>\n",
       "      <td id=\"T_2246b_row7_col1\" class=\"data row7 col1\" >185.000</td>\n",
       "      <td id=\"T_2246b_row7_col2\" class=\"data row7 col2\" >0.069</td>\n",
       "    </tr>\n",
       "  </tbody>\n",
       "</table>\n"
      ],
      "text/plain": [
       "<pandas.io.formats.style.Styler at 0x2165899b610>"
      ]
     },
     "metadata": {},
     "output_type": "display_data"
    }
   ],
   "source": [
    "# Разделим данные о доходах на категории с помощью метода `.qcut`\n",
    "# цикл с перебором количества категорий\n",
    "target_data = data.copy()\n",
    "start, stop = 3, 8 # начальное и конечное количество категорий\n",
    "while start <= stop:\n",
    "    target_data['new_category'] = pd.qcut(target_data['total_income'], q=start, precision=0)\n",
    "    second_analysis('new_category')\n",
    "    start += 1"
   ]
  },
  {
   "cell_type": "markdown",
   "id": "be36a232",
   "metadata": {},
   "source": [
    "**Выводы:** \n",
    "- Заемщики с высоким доходом, более 210 тыс. рублей, являются надежными занимателями, они возвращают кредит в срок - в 92.99% случаев, что является наибольшим показателем возврата в срок среди остальных групп.\n",
    "- Самая кредито-опасная категория дохода заемщиков с доходом 120 - 140 тыс. рублей.\n",
    "\n",
    "</font><font color='Blue'><b>___</b></font>"
   ]
  },
  {
   "cell_type": "markdown",
   "id": "1dcc9b12",
   "metadata": {
    "deletable": false,
    "editable": false,
    "id": "1dcc9b12"
   },
   "source": [
    "#### 3.4 Как разные цели кредита влияют на его возврат в срок?"
   ]
  },
  {
   "cell_type": "code",
   "execution_count": 36,
   "id": "c602bc8b",
   "metadata": {
    "deletable": false,
    "id": "c602bc8b"
   },
   "outputs": [
    {
     "name": "stdout",
     "output_type": "stream",
     "text": [
      "\u001b[1mАнализ распределения наблюдений в исходных данных\u001b[0m\n",
      "\u001b[0mЦель : операции с недвижимостью. Количество наблюдений 10751, в процентах - 50.40%\n",
      "\u001b[0mЦель : операции с автомобилем. Количество наблюдений 4279 , в процентах - 20.06%\n",
      "\u001b[0mЦель : получение образования. Количество наблюдений 3988 , в процентах - 18.70%\n",
      "\u001b[0mЦель : проведение свадьбы. Количество наблюдений 2313 , в процентах - 10.84%\n"
     ]
    }
   ],
   "source": [
    "first_analysis('purpose_category', 'Цель')"
   ]
  },
  {
   "cell_type": "code",
   "execution_count": 37,
   "id": "f6d19ee6",
   "metadata": {},
   "outputs": [
    {
     "data": {
      "text/html": [
       "<style type=\"text/css\">\n",
       "#T_67846_row0_col0 {\n",
       "  background-color: #caddf0;\n",
       "  color: #000000;\n",
       "}\n",
       "#T_67846_row0_col1 {\n",
       "  background-color: #a1cbe2;\n",
       "  color: #000000;\n",
       "}\n",
       "#T_67846_row0_col2, #T_67846_row1_col0, #T_67846_row1_col1 {\n",
       "  background-color: #08306b;\n",
       "  color: #f1f1f1;\n",
       "}\n",
       "#T_67846_row1_col2, #T_67846_row3_col0, #T_67846_row3_col1 {\n",
       "  background-color: #f7fbff;\n",
       "  color: #000000;\n",
       "}\n",
       "#T_67846_row2_col0 {\n",
       "  background-color: #d0e2f2;\n",
       "  color: #000000;\n",
       "}\n",
       "#T_67846_row2_col1 {\n",
       "  background-color: #b3d3e8;\n",
       "  color: #000000;\n",
       "}\n",
       "#T_67846_row2_col2 {\n",
       "  background-color: #083b7c;\n",
       "  color: #f1f1f1;\n",
       "}\n",
       "#T_67846_row3_col2 {\n",
       "  background-color: #b2d2e8;\n",
       "  color: #000000;\n",
       "}\n",
       "</style>\n",
       "<table id=\"T_67846\">\n",
       "  <thead>\n",
       "    <tr>\n",
       "      <th class=\"blank level0\" >&nbsp;</th>\n",
       "      <th id=\"T_67846_level0_col0\" class=\"col_heading level0 col0\" >Всего кредитополучателей</th>\n",
       "      <th id=\"T_67846_level0_col1\" class=\"col_heading level0 col1\" >Всего должников</th>\n",
       "      <th id=\"T_67846_level0_col2\" class=\"col_heading level0 col2\" >Доля должников</th>\n",
       "    </tr>\n",
       "    <tr>\n",
       "      <th class=\"index_name level0\" >purpose_category</th>\n",
       "      <th class=\"blank col0\" >&nbsp;</th>\n",
       "      <th class=\"blank col1\" >&nbsp;</th>\n",
       "      <th class=\"blank col2\" >&nbsp;</th>\n",
       "    </tr>\n",
       "  </thead>\n",
       "  <tbody>\n",
       "    <tr>\n",
       "      <th id=\"T_67846_level0_row0\" class=\"row_heading level0 row0\" >операции с автомобилем</th>\n",
       "      <td id=\"T_67846_row0_col0\" class=\"data row0 col0\" >4279.000</td>\n",
       "      <td id=\"T_67846_row0_col1\" class=\"data row0 col1\" >400.000</td>\n",
       "      <td id=\"T_67846_row0_col2\" class=\"data row0 col2\" >0.093</td>\n",
       "    </tr>\n",
       "    <tr>\n",
       "      <th id=\"T_67846_level0_row1\" class=\"row_heading level0 row1\" >операции с недвижимостью</th>\n",
       "      <td id=\"T_67846_row1_col0\" class=\"data row1 col0\" >10751.000</td>\n",
       "      <td id=\"T_67846_row1_col1\" class=\"data row1 col1\" >780.000</td>\n",
       "      <td id=\"T_67846_row1_col2\" class=\"data row1 col2\" >0.073</td>\n",
       "    </tr>\n",
       "    <tr>\n",
       "      <th id=\"T_67846_level0_row2\" class=\"row_heading level0 row2\" >получение образования</th>\n",
       "      <td id=\"T_67846_row2_col0\" class=\"data row2 col0\" >3988.000</td>\n",
       "      <td id=\"T_67846_row2_col1\" class=\"data row2 col1\" >369.000</td>\n",
       "      <td id=\"T_67846_row2_col2\" class=\"data row2 col2\" >0.093</td>\n",
       "    </tr>\n",
       "    <tr>\n",
       "      <th id=\"T_67846_level0_row3\" class=\"row_heading level0 row3\" >проведение свадьбы</th>\n",
       "      <td id=\"T_67846_row3_col0\" class=\"data row3 col0\" >2313.000</td>\n",
       "      <td id=\"T_67846_row3_col1\" class=\"data row3 col1\" >183.000</td>\n",
       "      <td id=\"T_67846_row3_col2\" class=\"data row3 col2\" >0.079</td>\n",
       "    </tr>\n",
       "  </tbody>\n",
       "</table>\n"
      ],
      "text/plain": [
       "<pandas.io.formats.style.Styler at 0x2165683c910>"
      ]
     },
     "metadata": {},
     "output_type": "display_data"
    }
   ],
   "source": [
    "second_analysis('purpose_category')"
   ]
  },
  {
   "cell_type": "markdown",
   "id": "cf05ed63",
   "metadata": {
    "deletable": false,
    "id": "cf05ed63"
   },
   "source": [
    "**Выводы:** \n",
    "- Люди, которые берут кредит для приобретения недвижимости, чаще остальных выплачивают кредит в срок - в 92.74% случаев. Человек чувствует больше ответсвенности, так как сумма кредита очень большая, соответсвенно и большие штрафы при просрочке платежа.\n",
    "- Также люди, которые берут кредит для проведения свадьбы скорее выплатят все в срок - в 92.09% случаев, так как при создании семьи финансовая нагрузка по кредиту скорее всего будет разделена между супругами.\n",
    "- Кредит на образование или операции с автомобилем допускают большую просрочку платежа - в 9.25% и 9.35% случаев."
   ]
  },
  {
   "cell_type": "markdown",
   "id": "ab44d993",
   "metadata": {},
   "source": [
    "<span style=\"color:blue\">**Замечание**</span>\n",
    "\n",
    "Выводы, сделанные в этом исследовании, можно рассматривать как *гипотезы* для дальшего статистичекого анализа. Так как нельзя оценить зависимость (корреляцию) между данными, опираясь на методы изученные в 1-2 спринте.\n",
    "\n",
    "При работе с данными выявленна следующая проблема: при разбиении на группы наблюдения распределены неравномерно, например, размер наибольшей и наименьшей группы отличается в 56 раз! Для дальнешего анализа данные нужно разделить на равные выборки. Также в некоторых группах, слишком мало наблюдений, поэтому выводы сделанные относительно ее могут оказаться недостоверными. "
   ]
  },
  {
   "cell_type": "markdown",
   "id": "46c1f10b",
   "metadata": {
    "deletable": false,
    "editable": false,
    "id": "46c1f10b"
   },
   "source": [
    "#### 3.5 Приведите возможные причины появления пропусков в исходных данных."
   ]
  },
  {
   "cell_type": "markdown",
   "id": "3697d2a9",
   "metadata": {
    "deletable": false,
    "id": "3697d2a9"
   },
   "source": [
    "*Ответ:*\n",
    "\n",
    "Пропуски были в столбцах общий трудовой стаж (`days_employed`) и ежемесячный доход (`total_income`). Скорее всего пропуски появились из-за того, что некоторые люди решили не разглашать свой доход и трудовой стаж и специально оставили эти сведения пустыми. Но не исключено, что данные были получены объединением наборов данных с разными стандартами, т.е. в одном наборе требование заполнить эти поля было обязательным, а в другом - необязательм."
   ]
  },
  {
   "cell_type": "markdown",
   "id": "8a07ad4c",
   "metadata": {},
   "source": [
    "<font color='DarkMagenta'> Существует несколько причин отсутствия данных в датасетах, в том числе:<br>\n",
    "- Человеческий фактор: Ошибки ввода данных, не желание отвечать на определенные вопросы.\n",
    "- Технические проблемы: Возможны сбои с оборудованием или программным обеспечением для сбора данных. Отсутствующие данные могут быть удалены в процессе обработки или очистки данных.\n",
    "- Организационные: Конфиденциальность, могут отсутствовать данные, идентифицирующие отдельных лиц или компании.</font>"
   ]
  },
  {
   "cell_type": "markdown",
   "id": "3137d257",
   "metadata": {
    "deletable": false,
    "editable": false,
    "id": "3137d257"
   },
   "source": [
    "#### 3.6 Объясните, почему заполнить пропуски медианным значением — лучшее решение для количественных переменных."
   ]
  },
  {
   "cell_type": "markdown",
   "id": "cf40012a",
   "metadata": {
    "deletable": false,
    "id": "cf40012a"
   },
   "source": [
    "*Ответ:*\n",
    "\n",
    "**Мода** <br>\n",
    "Сложность с модой заключается в том, у нас может быть распределение, в котором одно из крайних значений встречается больше раз, чем остальные, поэтому мода не будет отражать распределения всех значений.\n",
    "Поэтому *моду лучше использовать для категориальных переменных*. Например, мы можем получить моду для пола или города.\n",
    "\n",
    "**Среднее арифметическое**<br>\n",
    "Среднее арифметическое сильно зависит от того, насколько максимальные и минимальные значения отличаются от всех остальных значений, т.е. *среднее чувствительно к выбросам*. Влиянию выбросов часто подвержены денежные показатели, например зарплаты, стоимость товаров и услуг. Из-за появления выбросов происходит смещение среднего и истинная картина искажается. \n",
    "\n",
    "**Медиана** <br>\n",
    "*Медиана не подвержена действию выбросов*. Поэтому чтобы исключить влияние выбросов следует выбирать медиану."
   ]
  },
  {
   "cell_type": "markdown",
   "id": "5b626de9",
   "metadata": {},
   "source": [
    "**Пример.** Рассмотрим среднее и медиану для колонки трудовой стаж (`days_employed`) "
   ]
  },
  {
   "cell_type": "code",
   "execution_count": 38,
   "id": "a265b43c",
   "metadata": {},
   "outputs": [
    {
     "name": "stdout",
     "output_type": "stream",
     "text": [
      "Среднее 67148.97213258488\n",
      "Медиана 1996.732855437927\n",
      "Во сколько раз среднее превышает медиану 34\n"
     ]
    }
   ],
   "source": [
    "a, b, = data.days_employed.mean(), data.days_employed.median()\n",
    "print('Среднее', a)\n",
    "print('Медиана', b)\n",
    "print('Во сколько раз среднее превышает медиану', round(a/b))"
   ]
  },
  {
   "cell_type": "markdown",
   "id": "6bb47ab9",
   "metadata": {},
   "source": [
    "Можем наблюдать очень большой разброс минимального и максимального значения. Из-за появления выбросов произошло смещение среднего в большую сторону, что неверно отражает реальную ситуацию. В таком случае лучше использовать медиану, а не среднее.\n",
    "<br></font><font color='Blue'><b>___</b></font>"
   ]
  },
  {
   "cell_type": "markdown",
   "id": "57bc304e",
   "metadata": {
    "deletable": false,
    "editable": false,
    "id": "57bc304e"
   },
   "source": [
    "### Шаг 4: общий вывод."
   ]
  },
  {
   "cell_type": "markdown",
   "id": "1ab75d1c",
   "metadata": {
    "deletable": false,
    "id": "1ab75d1c"
   },
   "source": [
    "#### Описание данных. \n",
    "\n",
    "Данные представлены таблицой из 12 переменных и 21525 наблюдений.\n",
    "\n",
    "**Описание данных:**<br>\n",
    "`children` — int64 — количество детей в семье<br>\n",
    "`days_employed` — float64 — общий трудовой стаж в днях<br>\n",
    "`dob_years` — int64 — возраст клиента в годах<br>\n",
    "`education` — object — уровень образования клиента<br>\n",
    "`education_id` — int64 — идентификатор уровня образования<br>\n",
    "`family_status` — object — семейное положение<br>\n",
    "`family_status_id` — int64 — идентификатор семейного положения<br>\n",
    "`gender` — object — пол клиента<br>\n",
    "`income_type` — object — тип занятости<br>\n",
    "`debt` — int64 — имел ли задолженность по возврату кредитов<br>\n",
    "`total_income` — float64 — ежемесячный доход<br>\n",
    "`purpose` — object — цель получения кредита\n",
    "\n",
    "####  Предобработка данных: порядок обработки аномалий, пропусков и дубликатов.\n",
    "\n",
    "**Пропущенные значения** были выявлены в двух столбцах:<br>\n",
    "`total_income` — хранит данные о доходах, так как сумму дохода сильнее всего влияет тип занятости, пропуски в этом столбце заполнены медианным значением по каждому типу из столбца `income_type`;<br>\n",
    "`days_employed`— хранит данные о  трудовом стаже, пропуски в этом столбце заполнены медианными значениями по каждому типу занятости `income_type` (предварительно в этом столбце были обработаны аномалии).\n",
    "\n",
    "**Аномалии** в данных были выявлены в двух столбцах:<br>\n",
    "`days_employed` — хранит данные о  трудовом стаже, артефактом в этом столбце были отрицательные значения, обработка заключалась в замене всех отрицательных значений положительными с помощью метода `abs()`.\n",
    "`children` — хранит данные о  количестве детей клиента, были выявлены два аномальных значения: -1 и 20. Из датафрейма были удалены строки, в которых встречаются такие аномальные значения.\n",
    "\n",
    "**Дубликаты** выявлены в одном столбце:<br>\n",
    "`education` - хранит данные об образовании клиента, в этом столбце были обнаружены неявные дубликаты, одни и те же значения, но записанные по-разному: с использованием заглавных и строчных букв, все значения были приведены к нижнему регистру.\n",
    "\n",
    "**Изменение типов данных:**<br>\n",
    "`total_income`- хранит данные о доходе клиента, вещественный тип данных в столбце заменен на целочисленный с помощью метода `astype()`.\n",
    "\n",
    "#### Проведенный первичный анализ.\n",
    "\n",
    "Анализ проводился с использованием сводных таблиц и коэффициента конверсии возврата кредита в срок. Данные разделялись на исследуемые группы, по которым строилась сводная таблица. На основе этого исследования выдвинуты предположения (гипотезы) для дальнейшего статистического анализа.\n",
    "\n",
    "При работе с данными выявленна следующая проблема: при разбиении на группы наблюдения распределены неравномерно, например, размер наибольшей и наименьшей группы отличается в 56 раз! Для дальнешего анализа данные нужно разделить на равные выборки. Но в некоторых выборках, слишком мало наблюдений, поэтому выводы сделанные относительно ее могут оказаться недостоверными. Рукомендуется запросить у заказчика дополнительные данные для улучшения качества исследования.\n",
    "\n",
    "#### Результаты исследования влияния указанных факторов на погашение кредита в срок.\n",
    "\n",
    "**Количество детей:**<br>\n",
    "Клиенты, не имеющие детей, в среднем чаще выплачивают кредит в срок - 92.46%, против - 90.76%. Это связано с меньшей финансовой нагрузкой у клиентов не имеющих детей.\n",
    "\n",
    "**Семейное положение:**<br>\n",
    "Клиенты, имеющие опыт семейной жизни в браке, чаще выплачивают кредит в срок - в 92.51% случаев, против - 90.51%. Оформленные семейные отношения или их прошлый опыт налагают определенную ответственность и приучают к финансовой дисциплине.\n",
    "\n",
    "**Уровень дохода:**<br>\n",
    "Клиенты с высоким доходом, более 210 тыс. рублей, являются надежными занимателями, они возвращают кредит в срок - в 92.99% случаев, что является наибольшим показателем возврата в срок среди остальных групп.\n",
    "\n",
    "**Цель кредита:**<br>\n",
    "Люди, которые берут кредит для приобретения недвижимости, чаще остальных выплачивают кредит в срок - в 92.74% случаев. Человек чувствует больше ответсвенности, так как сумма кредита очень большая, соответсвенно и большие штрафы при просрочке платежа.<br>\n",
    "Также люди, которые берут кредит для проведения свадьбы скорее выплатят все в срок - в 92.09% случаев, так как при создании семьи финансовая нагрузка по кредиту скорее всего будет разделена между супругами.<br>\n",
    "Кредит на образование или операции с автомобилем допускают большую просрочку платежа и выплачиваются вовремя - в 90.75% и 90.65% случаев.  Это связано с тем, что кредиты на автомобиль и обучение несут дополнительные риски связанные или с возможной аварией, или с проблемами трудоустройства после обучения.\n",
    "\n",
    "#### Портрет клиента\n",
    "\n",
    "Анализируя результаты исследования составим портреты клиентов:\n",
    "\n",
    "**Надежный заемщик:** человек когда-либо состояший в браке, детей не имеет, с доходом выше среднего - более 210тыс. рублей. Хочет получить кредит для операций с недвижимостью.\n",
    "\n",
    "**Ненадежный заемщик:** человек не состояший в браке, имеет детей, с уровнем дохода ниже среднего - менее 100тыс. рублей. Хочет получить кредит для операций с автомобилем."
   ]
  }
 ],
 "metadata": {
  "ExecuteTimeLog": [
   {
    "duration": 750,
    "start_time": "2023-09-26T08:16:09.256Z"
   },
   {
    "duration": 24,
    "start_time": "2023-09-26T08:16:10.008Z"
   },
   {
    "duration": 16,
    "start_time": "2023-09-26T08:16:10.034Z"
   },
   {
    "duration": 30,
    "start_time": "2023-09-26T08:16:10.052Z"
   },
   {
    "duration": 46,
    "start_time": "2023-09-26T08:16:10.084Z"
   },
   {
    "duration": 4,
    "start_time": "2023-09-26T08:16:10.131Z"
   },
   {
    "duration": 21,
    "start_time": "2023-09-26T08:16:10.136Z"
   },
   {
    "duration": 17,
    "start_time": "2023-09-26T08:16:10.159Z"
   },
   {
    "duration": 20,
    "start_time": "2023-09-26T08:16:10.178Z"
   },
   {
    "duration": 10,
    "start_time": "2023-09-26T08:16:10.199Z"
   },
   {
    "duration": 48,
    "start_time": "2023-09-26T08:16:10.210Z"
   },
   {
    "duration": 12,
    "start_time": "2023-09-26T08:16:10.260Z"
   },
   {
    "duration": 14,
    "start_time": "2023-09-26T08:16:10.274Z"
   },
   {
    "duration": 22,
    "start_time": "2023-09-26T08:16:10.291Z"
   },
   {
    "duration": 30,
    "start_time": "2023-09-26T08:16:10.315Z"
   },
   {
    "duration": 19,
    "start_time": "2023-09-26T08:16:10.346Z"
   },
   {
    "duration": 4,
    "start_time": "2023-09-26T08:16:10.367Z"
   },
   {
    "duration": 20,
    "start_time": "2023-09-26T08:16:10.373Z"
   },
   {
    "duration": 8,
    "start_time": "2023-09-26T08:16:10.395Z"
   },
   {
    "duration": 8,
    "start_time": "2023-09-26T08:16:10.405Z"
   },
   {
    "duration": 19,
    "start_time": "2023-09-26T08:16:10.414Z"
   },
   {
    "duration": 61,
    "start_time": "2023-09-26T08:24:47.893Z"
   },
   {
    "duration": 5,
    "start_time": "2023-09-26T08:24:54.171Z"
   },
   {
    "duration": 81,
    "start_time": "2023-09-26T08:29:27.859Z"
   },
   {
    "duration": 25,
    "start_time": "2023-09-26T08:29:59.102Z"
   },
   {
    "duration": 679,
    "start_time": "2023-09-26T15:41:48.822Z"
   },
   {
    "duration": 36,
    "start_time": "2023-09-26T15:41:49.503Z"
   },
   {
    "duration": 17,
    "start_time": "2023-09-26T15:41:49.541Z"
   },
   {
    "duration": 22,
    "start_time": "2023-09-26T15:41:49.561Z"
   },
   {
    "duration": 65,
    "start_time": "2023-09-26T15:41:49.586Z"
   },
   {
    "duration": 4,
    "start_time": "2023-09-26T15:41:49.653Z"
   },
   {
    "duration": 43,
    "start_time": "2023-09-26T15:41:49.659Z"
   },
   {
    "duration": 22,
    "start_time": "2023-09-26T15:41:49.704Z"
   },
   {
    "duration": 36,
    "start_time": "2023-09-26T15:41:49.729Z"
   },
   {
    "duration": 17,
    "start_time": "2023-09-26T15:41:49.767Z"
   },
   {
    "duration": 83,
    "start_time": "2023-09-26T15:41:49.786Z"
   },
   {
    "duration": 11,
    "start_time": "2023-09-26T15:41:49.871Z"
   },
   {
    "duration": 39,
    "start_time": "2023-09-26T15:41:49.884Z"
   },
   {
    "duration": 38,
    "start_time": "2023-09-26T15:41:49.925Z"
   },
   {
    "duration": 49,
    "start_time": "2023-09-26T15:41:49.965Z"
   },
   {
    "duration": 22,
    "start_time": "2023-09-26T15:41:50.018Z"
   },
   {
    "duration": 10,
    "start_time": "2023-09-26T15:41:50.042Z"
   },
   {
    "duration": 34,
    "start_time": "2023-09-26T15:41:50.054Z"
   },
   {
    "duration": 38,
    "start_time": "2023-09-26T15:41:50.089Z"
   },
   {
    "duration": 6,
    "start_time": "2023-09-26T15:41:50.129Z"
   },
   {
    "duration": 46,
    "start_time": "2023-09-26T15:41:50.137Z"
   },
   {
    "duration": 52,
    "start_time": "2023-09-26T15:41:50.184Z"
   },
   {
    "duration": 6,
    "start_time": "2023-09-26T15:41:50.239Z"
   },
   {
    "duration": 35,
    "start_time": "2023-09-26T15:41:50.248Z"
   },
   {
    "duration": 47,
    "start_time": "2023-09-26T15:41:50.286Z"
   },
   {
    "duration": 28,
    "start_time": "2023-09-26T15:41:50.335Z"
   },
   {
    "duration": 15,
    "start_time": "2023-09-26T15:41:50.365Z"
   },
   {
    "duration": 70,
    "start_time": "2023-09-26T15:41:50.384Z"
   },
   {
    "duration": 32,
    "start_time": "2023-09-26T15:41:50.456Z"
   },
   {
    "duration": 40,
    "start_time": "2023-09-26T15:41:50.490Z"
   },
   {
    "duration": 52,
    "start_time": "2023-09-26T15:41:50.532Z"
   },
   {
    "duration": 40,
    "start_time": "2023-09-26T15:41:50.586Z"
   },
   {
    "duration": 32,
    "start_time": "2023-09-26T15:41:50.629Z"
   },
   {
    "duration": 22,
    "start_time": "2023-09-26T15:41:50.663Z"
   },
   {
    "duration": 56,
    "start_time": "2023-09-26T15:41:50.686Z"
   },
   {
    "duration": 529,
    "start_time": "2023-09-26T15:42:40.824Z"
   },
   {
    "duration": 29,
    "start_time": "2023-09-26T15:42:41.355Z"
   },
   {
    "duration": 34,
    "start_time": "2023-09-26T15:42:41.386Z"
   },
   {
    "duration": 12,
    "start_time": "2023-09-26T15:42:41.423Z"
   },
   {
    "duration": 41,
    "start_time": "2023-09-26T15:42:41.437Z"
   },
   {
    "duration": 4,
    "start_time": "2023-09-26T15:42:41.479Z"
   },
   {
    "duration": 15,
    "start_time": "2023-09-26T15:42:41.513Z"
   },
   {
    "duration": 17,
    "start_time": "2023-09-26T15:42:41.530Z"
   },
   {
    "duration": 7,
    "start_time": "2023-09-26T15:42:41.549Z"
   },
   {
    "duration": 5,
    "start_time": "2023-09-26T15:42:41.560Z"
   },
   {
    "duration": 73,
    "start_time": "2023-09-26T15:42:41.566Z"
   },
   {
    "duration": 11,
    "start_time": "2023-09-26T15:42:41.641Z"
   },
   {
    "duration": 20,
    "start_time": "2023-09-26T15:42:41.654Z"
   },
   {
    "duration": 22,
    "start_time": "2023-09-26T15:42:41.676Z"
   },
   {
    "duration": 43,
    "start_time": "2023-09-26T15:42:41.700Z"
   },
   {
    "duration": 19,
    "start_time": "2023-09-26T15:42:41.745Z"
   },
   {
    "duration": 4,
    "start_time": "2023-09-26T15:42:41.766Z"
   },
   {
    "duration": 19,
    "start_time": "2023-09-26T15:42:41.771Z"
   },
   {
    "duration": 25,
    "start_time": "2023-09-26T15:42:41.792Z"
   },
   {
    "duration": 4,
    "start_time": "2023-09-26T15:42:41.827Z"
   },
   {
    "duration": 11,
    "start_time": "2023-09-26T15:42:41.833Z"
   },
   {
    "duration": 19,
    "start_time": "2023-09-26T15:42:41.845Z"
   },
   {
    "duration": 5,
    "start_time": "2023-09-26T15:42:41.866Z"
   },
   {
    "duration": 60,
    "start_time": "2023-09-26T15:42:41.872Z"
   },
   {
    "duration": 12,
    "start_time": "2023-09-26T15:42:41.934Z"
   },
   {
    "duration": 16,
    "start_time": "2023-09-26T15:42:41.948Z"
   },
   {
    "duration": 6,
    "start_time": "2023-09-26T15:42:41.965Z"
   },
   {
    "duration": 65,
    "start_time": "2023-09-26T15:42:41.974Z"
   },
   {
    "duration": 33,
    "start_time": "2023-09-26T15:42:42.041Z"
   },
   {
    "duration": 11,
    "start_time": "2023-09-26T15:42:42.076Z"
   },
   {
    "duration": 35,
    "start_time": "2023-09-26T15:42:42.110Z"
   },
   {
    "duration": 26,
    "start_time": "2023-09-26T15:42:42.147Z"
   },
   {
    "duration": 60,
    "start_time": "2023-09-26T15:42:42.175Z"
   },
   {
    "duration": 23,
    "start_time": "2023-09-26T15:42:42.236Z"
   },
   {
    "duration": 62,
    "start_time": "2023-09-26T15:42:42.261Z"
   },
   {
    "duration": 513,
    "start_time": "2023-09-26T15:50:56.776Z"
   },
   {
    "duration": 24,
    "start_time": "2023-09-26T15:50:57.291Z"
   },
   {
    "duration": 24,
    "start_time": "2023-09-26T15:50:57.317Z"
   },
   {
    "duration": 11,
    "start_time": "2023-09-26T15:50:57.343Z"
   },
   {
    "duration": 57,
    "start_time": "2023-09-26T15:50:57.357Z"
   },
   {
    "duration": 3,
    "start_time": "2023-09-26T15:50:57.416Z"
   },
   {
    "duration": 22,
    "start_time": "2023-09-26T15:50:57.421Z"
   },
   {
    "duration": 15,
    "start_time": "2023-09-26T15:50:57.445Z"
   },
   {
    "duration": 19,
    "start_time": "2023-09-26T15:50:57.462Z"
   },
   {
    "duration": 19,
    "start_time": "2023-09-26T15:50:57.483Z"
   },
   {
    "duration": 46,
    "start_time": "2023-09-26T15:50:57.504Z"
   },
   {
    "duration": 11,
    "start_time": "2023-09-26T15:50:57.552Z"
   },
   {
    "duration": 3,
    "start_time": "2023-09-26T15:50:57.565Z"
   },
   {
    "duration": 12,
    "start_time": "2023-09-26T15:50:57.571Z"
   },
   {
    "duration": 36,
    "start_time": "2023-09-26T15:50:57.585Z"
   },
   {
    "duration": 20,
    "start_time": "2023-09-26T15:50:57.623Z"
   },
   {
    "duration": 4,
    "start_time": "2023-09-26T15:50:57.645Z"
   },
   {
    "duration": 21,
    "start_time": "2023-09-26T15:50:57.651Z"
   },
   {
    "duration": 6,
    "start_time": "2023-09-26T15:50:57.674Z"
   },
   {
    "duration": 31,
    "start_time": "2023-09-26T15:50:57.682Z"
   },
   {
    "duration": 21,
    "start_time": "2023-09-26T15:50:57.715Z"
   },
   {
    "duration": 20,
    "start_time": "2023-09-26T15:50:57.738Z"
   },
   {
    "duration": 7,
    "start_time": "2023-09-26T15:50:57.760Z"
   },
   {
    "duration": 59,
    "start_time": "2023-09-26T15:50:57.769Z"
   },
   {
    "duration": 13,
    "start_time": "2023-09-26T15:50:57.830Z"
   },
   {
    "duration": 13,
    "start_time": "2023-09-26T15:50:57.846Z"
   },
   {
    "duration": 7,
    "start_time": "2023-09-26T15:50:57.861Z"
   },
   {
    "duration": 64,
    "start_time": "2023-09-26T15:50:57.869Z"
   },
   {
    "duration": 30,
    "start_time": "2023-09-26T15:50:57.935Z"
   },
   {
    "duration": 11,
    "start_time": "2023-09-26T15:50:57.967Z"
   },
   {
    "duration": 50,
    "start_time": "2023-09-26T15:50:57.980Z"
   },
   {
    "duration": 28,
    "start_time": "2023-09-26T15:50:58.032Z"
   },
   {
    "duration": 48,
    "start_time": "2023-09-26T15:50:58.062Z"
   },
   {
    "duration": 24,
    "start_time": "2023-09-26T15:50:58.112Z"
   },
   {
    "duration": 30,
    "start_time": "2023-09-26T15:50:58.138Z"
   },
   {
    "duration": 357,
    "start_time": "2023-09-26T17:50:27.291Z"
   },
   {
    "duration": 53,
    "start_time": "2023-09-26T19:00:16.396Z"
   },
   {
    "duration": 555,
    "start_time": "2023-09-26T19:00:25.371Z"
   },
   {
    "duration": 23,
    "start_time": "2023-09-26T19:00:25.929Z"
   },
   {
    "duration": 16,
    "start_time": "2023-09-26T19:00:25.953Z"
   },
   {
    "duration": 10,
    "start_time": "2023-09-26T19:00:25.970Z"
   },
   {
    "duration": 40,
    "start_time": "2023-09-26T19:00:25.983Z"
   },
   {
    "duration": 3,
    "start_time": "2023-09-26T19:00:26.025Z"
   },
   {
    "duration": 29,
    "start_time": "2023-09-26T19:00:26.030Z"
   },
   {
    "duration": 25,
    "start_time": "2023-09-26T19:00:26.061Z"
   },
   {
    "duration": 10,
    "start_time": "2023-09-26T19:00:26.087Z"
   },
   {
    "duration": 9,
    "start_time": "2023-09-26T19:00:26.098Z"
   },
   {
    "duration": 47,
    "start_time": "2023-09-26T19:00:26.109Z"
   },
   {
    "duration": 12,
    "start_time": "2023-09-26T19:00:26.158Z"
   },
   {
    "duration": 6,
    "start_time": "2023-09-26T19:00:26.171Z"
   },
   {
    "duration": 24,
    "start_time": "2023-09-26T19:00:26.180Z"
   },
   {
    "duration": 27,
    "start_time": "2023-09-26T19:00:26.206Z"
   },
   {
    "duration": 49,
    "start_time": "2023-09-26T19:00:26.234Z"
   },
   {
    "duration": 3,
    "start_time": "2023-09-26T19:00:26.285Z"
   },
   {
    "duration": 19,
    "start_time": "2023-09-26T19:00:26.290Z"
   },
   {
    "duration": 12,
    "start_time": "2023-09-26T19:00:26.311Z"
   },
   {
    "duration": 18,
    "start_time": "2023-09-26T19:00:26.325Z"
   },
   {
    "duration": 53,
    "start_time": "2023-09-26T19:00:26.344Z"
   },
   {
    "duration": 55,
    "start_time": "2023-09-26T19:00:26.398Z"
   },
   {
    "duration": 12,
    "start_time": "2023-09-26T19:00:26.455Z"
   },
   {
    "duration": 67,
    "start_time": "2023-09-26T19:00:26.469Z"
   },
   {
    "duration": 591,
    "start_time": "2023-09-26T19:00:26.538Z"
   },
   {
    "duration": 13,
    "start_time": "2023-09-26T19:00:27.132Z"
   },
   {
    "duration": 29,
    "start_time": "2023-09-26T19:00:27.157Z"
   },
   {
    "duration": 18,
    "start_time": "2023-09-26T19:00:27.188Z"
   },
   {
    "duration": 35,
    "start_time": "2023-09-26T19:00:27.208Z"
   },
   {
    "duration": 35,
    "start_time": "2023-09-26T19:00:27.245Z"
   },
   {
    "duration": 24,
    "start_time": "2023-09-26T19:00:27.282Z"
   },
   {
    "duration": 55,
    "start_time": "2023-09-26T19:00:27.308Z"
   },
   {
    "duration": 25,
    "start_time": "2023-09-26T19:00:27.365Z"
   },
   {
    "duration": 28,
    "start_time": "2023-09-26T19:00:27.392Z"
   },
   {
    "duration": 52,
    "start_time": "2023-09-26T19:00:27.422Z"
   },
   {
    "duration": 31,
    "start_time": "2023-09-26T19:00:27.476Z"
   },
   {
    "duration": 46,
    "start_time": "2023-09-26T19:00:32.719Z"
   },
   {
    "duration": 8,
    "start_time": "2023-09-26T19:01:00.865Z"
   },
   {
    "duration": 20,
    "start_time": "2023-09-26T19:01:08.868Z"
   },
   {
    "duration": 6,
    "start_time": "2023-09-26T19:01:12.578Z"
   },
   {
    "duration": 10,
    "start_time": "2023-09-26T19:02:05.513Z"
   },
   {
    "duration": 11,
    "start_time": "2023-09-26T19:02:32.823Z"
   },
   {
    "duration": 14,
    "start_time": "2023-09-26T19:03:26.807Z"
   },
   {
    "duration": 13,
    "start_time": "2023-09-26T19:03:36.672Z"
   },
   {
    "duration": 139,
    "start_time": "2023-09-26T19:29:40.395Z"
   },
   {
    "duration": 114,
    "start_time": "2023-09-26T19:43:09.774Z"
   },
   {
    "duration": 98,
    "start_time": "2023-09-26T19:49:56.367Z"
   },
   {
    "duration": 11,
    "start_time": "2023-09-26T19:55:05.077Z"
   },
   {
    "duration": 26,
    "start_time": "2023-09-26T19:55:22.189Z"
   },
   {
    "duration": 31,
    "start_time": "2023-09-26T19:55:27.878Z"
   },
   {
    "duration": 38,
    "start_time": "2023-09-26T19:56:18.032Z"
   },
   {
    "duration": 44,
    "start_time": "2023-09-26T19:56:33.382Z"
   },
   {
    "duration": 14,
    "start_time": "2023-09-26T19:57:14.294Z"
   },
   {
    "duration": 27,
    "start_time": "2023-09-26T19:57:14.665Z"
   },
   {
    "duration": 59,
    "start_time": "2023-09-26T19:57:15.242Z"
   },
   {
    "duration": 9,
    "start_time": "2023-09-26T19:57:27.160Z"
   },
   {
    "duration": 19,
    "start_time": "2023-09-26T19:57:27.594Z"
   },
   {
    "duration": 49,
    "start_time": "2023-09-26T19:57:27.999Z"
   },
   {
    "duration": 11,
    "start_time": "2023-09-26T19:57:33.518Z"
   },
   {
    "duration": 31,
    "start_time": "2023-09-26T19:57:33.903Z"
   },
   {
    "duration": 56,
    "start_time": "2023-09-26T19:57:34.365Z"
   },
   {
    "duration": 216,
    "start_time": "2023-09-26T19:57:43.294Z"
   },
   {
    "duration": 30,
    "start_time": "2023-09-26T19:57:43.587Z"
   },
   {
    "duration": 40,
    "start_time": "2023-09-26T19:57:45.380Z"
   },
   {
    "duration": 10,
    "start_time": "2023-09-26T19:58:10.824Z"
   },
   {
    "duration": 9,
    "start_time": "2023-09-26T19:58:17.619Z"
   },
   {
    "duration": 33,
    "start_time": "2023-09-26T19:58:17.955Z"
   },
   {
    "duration": 41,
    "start_time": "2023-09-26T19:58:18.474Z"
   },
   {
    "duration": 25,
    "start_time": "2023-09-26T19:58:29.865Z"
   },
   {
    "duration": 17,
    "start_time": "2023-09-26T19:58:30.276Z"
   },
   {
    "duration": 42,
    "start_time": "2023-09-26T19:58:30.773Z"
   },
   {
    "duration": 22,
    "start_time": "2023-09-26T20:12:13.974Z"
   },
   {
    "duration": 18,
    "start_time": "2023-09-26T20:12:14.198Z"
   },
   {
    "duration": 36,
    "start_time": "2023-09-26T20:12:14.956Z"
   },
   {
    "duration": 20,
    "start_time": "2023-09-26T20:12:30.037Z"
   },
   {
    "duration": 18,
    "start_time": "2023-09-26T20:12:32.578Z"
   },
   {
    "duration": 34,
    "start_time": "2023-09-26T20:12:33.138Z"
   },
   {
    "duration": 35,
    "start_time": "2023-09-26T20:19:38.129Z"
   },
   {
    "duration": 40,
    "start_time": "2023-09-26T20:19:38.358Z"
   },
   {
    "duration": 42,
    "start_time": "2023-09-26T20:26:01.378Z"
   },
   {
    "duration": 37,
    "start_time": "2023-09-26T20:26:01.796Z"
   },
   {
    "duration": 34,
    "start_time": "2023-09-26T20:26:22.046Z"
   },
   {
    "duration": 34,
    "start_time": "2023-09-26T20:26:22.516Z"
   },
   {
    "duration": 31,
    "start_time": "2023-09-26T20:58:31.894Z"
   },
   {
    "duration": 794,
    "start_time": "2023-09-27T09:48:27.159Z"
   },
   {
    "duration": 25,
    "start_time": "2023-09-27T09:48:27.955Z"
   },
   {
    "duration": 20,
    "start_time": "2023-09-27T09:48:27.983Z"
   },
   {
    "duration": 14,
    "start_time": "2023-09-27T09:48:28.006Z"
   },
   {
    "duration": 60,
    "start_time": "2023-09-27T09:48:28.023Z"
   },
   {
    "duration": 4,
    "start_time": "2023-09-27T09:48:28.086Z"
   },
   {
    "duration": 12,
    "start_time": "2023-09-27T09:48:28.092Z"
   },
   {
    "duration": 5,
    "start_time": "2023-09-27T09:48:28.106Z"
   },
   {
    "duration": 11,
    "start_time": "2023-09-27T09:48:28.113Z"
   },
   {
    "duration": 14,
    "start_time": "2023-09-27T09:48:28.126Z"
   },
   {
    "duration": 72,
    "start_time": "2023-09-27T09:48:28.142Z"
   },
   {
    "duration": 14,
    "start_time": "2023-09-27T09:48:28.216Z"
   },
   {
    "duration": 4,
    "start_time": "2023-09-27T09:48:28.232Z"
   },
   {
    "duration": 20,
    "start_time": "2023-09-27T09:48:28.240Z"
   },
   {
    "duration": 42,
    "start_time": "2023-09-27T09:48:28.262Z"
   },
   {
    "duration": 30,
    "start_time": "2023-09-27T09:48:28.306Z"
   },
   {
    "duration": 5,
    "start_time": "2023-09-27T09:48:28.338Z"
   },
   {
    "duration": 45,
    "start_time": "2023-09-27T09:48:28.345Z"
   },
   {
    "duration": 9,
    "start_time": "2023-09-27T09:48:28.392Z"
   },
   {
    "duration": 8,
    "start_time": "2023-09-27T09:48:28.403Z"
   },
   {
    "duration": 21,
    "start_time": "2023-09-27T09:48:28.413Z"
   },
   {
    "duration": 52,
    "start_time": "2023-09-27T09:48:28.436Z"
   },
   {
    "duration": 6,
    "start_time": "2023-09-27T09:48:28.490Z"
   },
   {
    "duration": 30,
    "start_time": "2023-09-27T09:48:28.498Z"
   },
   {
    "duration": 564,
    "start_time": "2023-09-27T09:48:28.531Z"
   },
   {
    "duration": 13,
    "start_time": "2023-09-27T09:48:29.097Z"
   },
   {
    "duration": 20,
    "start_time": "2023-09-27T09:48:29.113Z"
   },
   {
    "duration": 14,
    "start_time": "2023-09-27T09:48:29.135Z"
   },
   {
    "duration": 55,
    "start_time": "2023-09-27T09:48:29.151Z"
   },
   {
    "duration": 30,
    "start_time": "2023-09-27T09:48:29.209Z"
   },
   {
    "duration": 11,
    "start_time": "2023-09-27T09:48:29.241Z"
   },
   {
    "duration": 55,
    "start_time": "2023-09-27T09:48:29.254Z"
   },
   {
    "duration": 28,
    "start_time": "2023-09-27T09:48:29.310Z"
   },
   {
    "duration": 45,
    "start_time": "2023-09-27T09:48:29.340Z"
   },
   {
    "duration": 48,
    "start_time": "2023-09-27T09:48:29.387Z"
   },
   {
    "duration": 50,
    "start_time": "2023-09-27T09:48:29.438Z"
   },
   {
    "duration": 24,
    "start_time": "2023-09-27T09:48:29.490Z"
   },
   {
    "duration": 31,
    "start_time": "2023-09-27T09:48:29.516Z"
   },
   {
    "duration": 36,
    "start_time": "2023-09-27T09:48:29.549Z"
   },
   {
    "duration": 491,
    "start_time": "2023-09-27T13:51:56.728Z"
   },
   {
    "duration": 20,
    "start_time": "2023-09-27T13:51:57.221Z"
   },
   {
    "duration": 41,
    "start_time": "2023-09-27T13:51:57.242Z"
   },
   {
    "duration": 38,
    "start_time": "2023-09-27T13:51:57.284Z"
   },
   {
    "duration": 56,
    "start_time": "2023-09-27T13:51:57.324Z"
   },
   {
    "duration": 4,
    "start_time": "2023-09-27T13:51:57.381Z"
   },
   {
    "duration": 32,
    "start_time": "2023-09-27T13:51:57.386Z"
   },
   {
    "duration": 26,
    "start_time": "2023-09-27T13:51:57.420Z"
   },
   {
    "duration": 28,
    "start_time": "2023-09-27T13:51:57.447Z"
   },
   {
    "duration": 22,
    "start_time": "2023-09-27T13:51:57.476Z"
   },
   {
    "duration": 44,
    "start_time": "2023-09-27T13:51:57.499Z"
   },
   {
    "duration": 9,
    "start_time": "2023-09-27T13:51:57.545Z"
   },
   {
    "duration": 21,
    "start_time": "2023-09-27T13:51:57.555Z"
   },
   {
    "duration": 39,
    "start_time": "2023-09-27T13:51:57.579Z"
   },
   {
    "duration": 30,
    "start_time": "2023-09-27T13:51:57.619Z"
   },
   {
    "duration": 31,
    "start_time": "2023-09-27T13:51:57.650Z"
   },
   {
    "duration": 38,
    "start_time": "2023-09-27T13:51:57.682Z"
   },
   {
    "duration": 45,
    "start_time": "2023-09-27T13:51:57.722Z"
   },
   {
    "duration": 36,
    "start_time": "2023-09-27T13:51:57.769Z"
   },
   {
    "duration": 8,
    "start_time": "2023-09-27T13:51:57.806Z"
   },
   {
    "duration": 29,
    "start_time": "2023-09-27T13:51:57.815Z"
   },
   {
    "duration": 20,
    "start_time": "2023-09-27T13:51:57.846Z"
   },
   {
    "duration": 4,
    "start_time": "2023-09-27T13:51:57.867Z"
   },
   {
    "duration": 28,
    "start_time": "2023-09-27T13:51:57.873Z"
   },
   {
    "duration": 289,
    "start_time": "2023-09-27T13:51:57.902Z"
   },
   {
    "duration": 10,
    "start_time": "2023-09-27T13:51:58.193Z"
   },
   {
    "duration": 37,
    "start_time": "2023-09-27T13:51:58.204Z"
   },
   {
    "duration": 33,
    "start_time": "2023-09-27T13:51:58.243Z"
   },
   {
    "duration": 59,
    "start_time": "2023-09-27T13:51:58.277Z"
   },
   {
    "duration": 34,
    "start_time": "2023-09-27T13:51:58.338Z"
   },
   {
    "duration": 42,
    "start_time": "2023-09-27T13:51:58.374Z"
   },
   {
    "duration": 47,
    "start_time": "2023-09-27T13:51:58.418Z"
   },
   {
    "duration": 32,
    "start_time": "2023-09-27T13:51:58.466Z"
   },
   {
    "duration": 24,
    "start_time": "2023-09-27T13:51:58.499Z"
   },
   {
    "duration": 41,
    "start_time": "2023-09-27T13:51:58.524Z"
   },
   {
    "duration": 31,
    "start_time": "2023-09-27T13:51:58.567Z"
   },
   {
    "duration": 27,
    "start_time": "2023-09-27T13:51:58.600Z"
   },
   {
    "duration": 38,
    "start_time": "2023-09-27T13:51:58.629Z"
   },
   {
    "duration": 7,
    "start_time": "2023-09-27T13:51:58.669Z"
   },
   {
    "duration": 227,
    "start_time": "2023-09-27T14:08:40.884Z"
   },
   {
    "duration": 5,
    "start_time": "2023-09-27T14:16:07.295Z"
   }
  ],
  "colab": {
   "provenance": []
  },
  "kernelspec": {
   "display_name": "Python 3 (ipykernel)",
   "language": "python",
   "name": "python3"
  },
  "language_info": {
   "codemirror_mode": {
    "name": "ipython",
    "version": 3
   },
   "file_extension": ".py",
   "mimetype": "text/x-python",
   "name": "python",
   "nbconvert_exporter": "python",
   "pygments_lexer": "ipython3",
   "version": "3.11.5"
  },
  "toc": {
   "base_numbering": 1,
   "nav_menu": {},
   "number_sections": true,
   "sideBar": true,
   "skip_h1_title": true,
   "title_cell": "Table of Contents",
   "title_sidebar": "Contents",
   "toc_cell": false,
   "toc_position": {
    "height": "calc(100% - 180px)",
    "left": "10px",
    "top": "150px",
    "width": "284.8px"
   },
   "toc_section_display": true,
   "toc_window_display": false
  }
 },
 "nbformat": 4,
 "nbformat_minor": 5
}
