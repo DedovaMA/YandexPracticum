{
 "cells": [
  {
   "cell_type": "markdown",
   "id": "cf579991",
   "metadata": {
    "id": "cf579991"
   },
   "source": [
    "# Проект: Исследование сервиса аренды самокатов.\n",
    "<a id=\"0\"></a>\n",
    "1. [Описание проекта](#1)  \n",
    "2. [Первичный анализ данных](#2) <br>\n",
    "2.1. [Пользователи](#2_1)<br>\n",
    "2.2. [Поездки](#2_2)<br>\n",
    "2.3. [Подписки](#2_3)<br>\n",
    "   [Вывод](#2_4)<br>\n",
    "3. [Предобработка данных](#3) <br>\n",
    "3.1. [Обработка пропусков](#3_0)<br>\n",
    "3.2. [Изменение типов данных](#3_1)<br>\n",
    "3.3. [Обработка дубликатов](#3_2)<br>\n",
    "3.4. [Обработка аномальных значений](#3_3)<br>\n",
    "     [Вывод](#3_4)\n",
    "4. [Исследовательский анализ данных](#4)<br>\n",
    "4.1 [Частота встречаемости городов](#4_1)<br>\n",
    "4.2 [Соотношение пользователей с подпиской и без подписки](#4_2)<br>\n",
    "4.3 [Возраст пользователей](#4_3)<br>\n",
    "4.4 [Расстояние, которое пользователь преодолел за одну поездку](#4_4)<br>\n",
    "4.5 [Продолжительность поездок](#4_5)<br>\n",
    "5. [Объединение данных](#5)<br>\n",
    "     [Вывод](#5_1)\n",
    "6. [Подсчёт выручки](#6)<br>\n",
    "     [Вывод](#6_1)\n",
    "7. [Статистический анализ данных](#7)<br>\n",
    "7.1. [Гипотеза: Пользователи с подпиской тратят больше времени на поездки](#7_1)<br>\n",
    "7.2. [Гипотеза: Среднее расстояние, которое проезжают пользователи с подпиской за одну поездку](#7_2)<br>\n",
    "7.3. [Гипотеза: Выручка от пользователей с подпиской выше, чем выручка от пользователей без подписки](#7_3)<br>\n",
    "7.4. [Внимание вопрос](#7_4)<br>\n",
    "8. [Распределения](#8)<br>\n",
    "8.1. [Промокоды](#8_1)<br>\n",
    "8.2. [Push-уведомления](#8_2)<br>\n",
    "9. [Общий вывод](#9)"
   ]
  },
  {
   "cell_type": "markdown",
   "id": "2bb57d72",
   "metadata": {
    "id": "2bb57d72"
   },
   "source": [
    "## 1. Описание проекта\n",
    "<a id=\"1\"></a>\n",
    "\n",
    "**Цель и контекст исследования** <br>\n",
    "Чтобы совершать поездки по городу, пользователи сервиса GoFast пользуются мобильным приложением. Сервисом можно пользоваться:\n",
    "- без подписки\n",
    "    - абонентская плата отсутствует;\n",
    "    - стоимость одной минуты поездки — 8 рублей;\n",
    "    - стоимость старта (начала поездки) — 50 рублей;\n",
    "- с подпиской Ultra\n",
    "    - абонентская плата — 199 рублей в месяц;\n",
    "    - стоимость одной минуты поездки — 6 рублей;\n",
    "    - стоимость старта — бесплатно.\n",
    "\n",
    "Продакт-менеджеры сервиса хотят увеличить количество пользователей с подпиской. Для этого они будут проводить различные акции, для этого в исследовании необходимо ответить на следуюшие вопросы:\n",
    "1. Тратят ли пользователи с подпиской больше времени на поездки? Если да, то пользователи с подпиской могут быть «выгоднее» для компании.\n",
    "2. Расстояние одной поездки в 3130 метров — оптимальное с точки зрения износа самоката. Можно ли сказать, что среднее расстояние, которое проезжают пользователи с подпиской за одну поездку, не превышает 3130 метров?\n",
    "3. Будет ли помесячная выручка от пользователей с подпиской по месяцам выше, чем выручка от пользователей без подписки?\n",
    "\n",
    "**Входные данные**<br>\n",
    "Данные получены от сервиса GoFast.<br>\n",
    "В файле \"users_go.csv\" содержится информация о пользователях, их поездках и подписках.<br>\n",
    "В файле \"rides_go.csv\" содержится информация о поездках пользователей.<br>\n",
    "В файле \"subscriptions_go.csv\" содержится о типах подписок и их условиях.<br>\n",
    "\n",
    "**План исследования**\n",
    "1. Получение данных. Обзор и первичный анализ данных.\n",
    "2. Предобработка данных.\n",
    "3. Исследовательский анализ данных.\n",
    "4. Объединение данных.\n",
    "5. Подсчёт выручки\n",
    "6. Статистический анализ данных.\n",
    "7. Результаты исследования."
   ]
  },
  {
   "cell_type": "markdown",
   "id": "db634141",
   "metadata": {
    "id": "db634141"
   },
   "source": [
    "## 2. Первичный анализ данных.\n",
    "<a id=\"2\"></a>"
   ]
  },
  {
   "cell_type": "code",
   "execution_count": 1,
   "id": "b3953f56",
   "metadata": {
    "id": "b3953f56"
   },
   "outputs": [],
   "source": [
    "# импорт библиотек\n",
    "import pandas as pd\n",
    "import numpy as np\n",
    "import matplotlib.pyplot as plt\n",
    "from scipy import stats as st"
   ]
  },
  {
   "cell_type": "markdown",
   "id": "4996c0a1",
   "metadata": {
    "id": "4996c0a1"
   },
   "source": [
    "### 2.1. Пользователи.\n",
    "<a id=\"2_1\"></a>"
   ]
  },
  {
   "cell_type": "code",
   "execution_count": 2,
   "id": "bdf7fe56",
   "metadata": {
    "id": "bdf7fe56"
   },
   "outputs": [],
   "source": [
    "# Загрузка данных из csv-файла в датафрейм c помощью библиотеки pandas.\n",
    "try:\n",
    "    data_users = pd.read_csv('users_go.csv')\n",
    "except:\n",
    "    data_users = pd.read_csv('https://code.s3.yandex.net/datasets/users_go.csv')"
   ]
  },
  {
   "cell_type": "code",
   "execution_count": 3,
   "id": "7223a766",
   "metadata": {
    "id": "7223a766",
    "outputId": "47371def-8df9-487c-f533-27ac7dd3ad77"
   },
   "outputs": [
    {
     "data": {
      "text/html": [
       "<div>\n",
       "<style scoped>\n",
       "    .dataframe tbody tr th:only-of-type {\n",
       "        vertical-align: middle;\n",
       "    }\n",
       "\n",
       "    .dataframe tbody tr th {\n",
       "        vertical-align: top;\n",
       "    }\n",
       "\n",
       "    .dataframe thead th {\n",
       "        text-align: right;\n",
       "    }\n",
       "</style>\n",
       "<table border=\"1\" class=\"dataframe\">\n",
       "  <thead>\n",
       "    <tr style=\"text-align: right;\">\n",
       "      <th></th>\n",
       "      <th>user_id</th>\n",
       "      <th>name</th>\n",
       "      <th>age</th>\n",
       "      <th>city</th>\n",
       "      <th>subscription_type</th>\n",
       "    </tr>\n",
       "  </thead>\n",
       "  <tbody>\n",
       "    <tr>\n",
       "      <th>0</th>\n",
       "      <td>1</td>\n",
       "      <td>Кира</td>\n",
       "      <td>22</td>\n",
       "      <td>Тюмень</td>\n",
       "      <td>ultra</td>\n",
       "    </tr>\n",
       "    <tr>\n",
       "      <th>1</th>\n",
       "      <td>2</td>\n",
       "      <td>Станислав</td>\n",
       "      <td>31</td>\n",
       "      <td>Омск</td>\n",
       "      <td>ultra</td>\n",
       "    </tr>\n",
       "    <tr>\n",
       "      <th>2</th>\n",
       "      <td>3</td>\n",
       "      <td>Алексей</td>\n",
       "      <td>20</td>\n",
       "      <td>Москва</td>\n",
       "      <td>ultra</td>\n",
       "    </tr>\n",
       "    <tr>\n",
       "      <th>3</th>\n",
       "      <td>4</td>\n",
       "      <td>Константин</td>\n",
       "      <td>26</td>\n",
       "      <td>Ростов-на-Дону</td>\n",
       "      <td>ultra</td>\n",
       "    </tr>\n",
       "    <tr>\n",
       "      <th>4</th>\n",
       "      <td>5</td>\n",
       "      <td>Адель</td>\n",
       "      <td>28</td>\n",
       "      <td>Омск</td>\n",
       "      <td>ultra</td>\n",
       "    </tr>\n",
       "  </tbody>\n",
       "</table>\n",
       "</div>"
      ],
      "text/plain": [
       "   user_id        name  age            city subscription_type\n",
       "0        1        Кира   22          Тюмень             ultra\n",
       "1        2   Станислав   31            Омск             ultra\n",
       "2        3     Алексей   20          Москва             ultra\n",
       "3        4  Константин   26  Ростов-на-Дону             ultra\n",
       "4        5       Адель   28            Омск             ultra"
      ]
     },
     "execution_count": 3,
     "metadata": {},
     "output_type": "execute_result"
    }
   ],
   "source": [
    "# Выведем первые 5 строчек датафрейма пользователи на экран.\n",
    "data_users.head()"
   ]
  },
  {
   "cell_type": "markdown",
   "id": "d83b258e",
   "metadata": {
    "id": "d83b258e"
   },
   "source": [
    "**Описание данных**<br>\n",
    "`user_id` — уникальный идентификатор пользователя<br>\n",
    "`name` — имя пользователя<br>\n",
    "`age` — возраст<br>\n",
    "`city` — город<br>\n",
    "`subscription_type` — тип подписки (free, ultra)"
   ]
  },
  {
   "cell_type": "code",
   "execution_count": 4,
   "id": "193260b9",
   "metadata": {
    "id": "193260b9",
    "outputId": "f290cf37-2dfb-47c9-b7a5-966bace34be4"
   },
   "outputs": [
    {
     "name": "stdout",
     "output_type": "stream",
     "text": [
      "<class 'pandas.core.frame.DataFrame'>\n",
      "RangeIndex: 1565 entries, 0 to 1564\n",
      "Data columns (total 5 columns):\n",
      " #   Column             Non-Null Count  Dtype \n",
      "---  ------             --------------  ----- \n",
      " 0   user_id            1565 non-null   int64 \n",
      " 1   name               1565 non-null   object\n",
      " 2   age                1565 non-null   int64 \n",
      " 3   city               1565 non-null   object\n",
      " 4   subscription_type  1565 non-null   object\n",
      "dtypes: int64(2), object(3)\n",
      "memory usage: 61.3+ KB\n"
     ]
    }
   ],
   "source": [
    "# Выведем основную информацию о датафрейме пользователи\n",
    "data_users.info()"
   ]
  },
  {
   "cell_type": "markdown",
   "id": "1149042d",
   "metadata": {
    "id": "1149042d"
   },
   "source": [
    "### 2.2. Поездки.\n",
    "<a id=\"2_2\"></a>"
   ]
  },
  {
   "cell_type": "code",
   "execution_count": 10,
   "id": "416b89a9",
   "metadata": {
    "id": "416b89a9"
   },
   "outputs": [],
   "source": [
    "# Поездки\n",
    "try:\n",
    "    data_rides = pd.read_csv('rides_go.csv')\n",
    "except:\n",
    "    data_rides = pd.read_csv('https://code.s3.yandex.net/datasets/rides_go.csv')"
   ]
  },
  {
   "cell_type": "code",
   "execution_count": 11,
   "id": "ad155503",
   "metadata": {
    "id": "ad155503",
    "outputId": "261f29e3-6a15-4a3d-b0ca-7ec6d9b9fdc0"
   },
   "outputs": [
    {
     "data": {
      "text/html": [
       "<div>\n",
       "<style scoped>\n",
       "    .dataframe tbody tr th:only-of-type {\n",
       "        vertical-align: middle;\n",
       "    }\n",
       "\n",
       "    .dataframe tbody tr th {\n",
       "        vertical-align: top;\n",
       "    }\n",
       "\n",
       "    .dataframe thead th {\n",
       "        text-align: right;\n",
       "    }\n",
       "</style>\n",
       "<table border=\"1\" class=\"dataframe\">\n",
       "  <thead>\n",
       "    <tr style=\"text-align: right;\">\n",
       "      <th></th>\n",
       "      <th>user_id</th>\n",
       "      <th>distance</th>\n",
       "      <th>duration</th>\n",
       "      <th>date</th>\n",
       "    </tr>\n",
       "  </thead>\n",
       "  <tbody>\n",
       "    <tr>\n",
       "      <th>0</th>\n",
       "      <td>1</td>\n",
       "      <td>4409.919140</td>\n",
       "      <td>25.599769</td>\n",
       "      <td>2021-01-01</td>\n",
       "    </tr>\n",
       "    <tr>\n",
       "      <th>1</th>\n",
       "      <td>1</td>\n",
       "      <td>2617.592153</td>\n",
       "      <td>15.816871</td>\n",
       "      <td>2021-01-18</td>\n",
       "    </tr>\n",
       "    <tr>\n",
       "      <th>2</th>\n",
       "      <td>1</td>\n",
       "      <td>754.159807</td>\n",
       "      <td>6.232113</td>\n",
       "      <td>2021-04-20</td>\n",
       "    </tr>\n",
       "    <tr>\n",
       "      <th>3</th>\n",
       "      <td>1</td>\n",
       "      <td>2694.783254</td>\n",
       "      <td>18.511000</td>\n",
       "      <td>2021-08-11</td>\n",
       "    </tr>\n",
       "    <tr>\n",
       "      <th>4</th>\n",
       "      <td>1</td>\n",
       "      <td>4028.687306</td>\n",
       "      <td>26.265803</td>\n",
       "      <td>2021-08-28</td>\n",
       "    </tr>\n",
       "  </tbody>\n",
       "</table>\n",
       "</div>"
      ],
      "text/plain": [
       "   user_id     distance   duration        date\n",
       "0        1  4409.919140  25.599769  2021-01-01\n",
       "1        1  2617.592153  15.816871  2021-01-18\n",
       "2        1   754.159807   6.232113  2021-04-20\n",
       "3        1  2694.783254  18.511000  2021-08-11\n",
       "4        1  4028.687306  26.265803  2021-08-28"
      ]
     },
     "execution_count": 11,
     "metadata": {},
     "output_type": "execute_result"
    }
   ],
   "source": [
    "# Выведем первые 5 строчек датафрейма поездки на экран.\n",
    "data_rides.head()"
   ]
  },
  {
   "cell_type": "markdown",
   "id": "4c04f046",
   "metadata": {
    "id": "4c04f046"
   },
   "source": [
    "**Описание данных**<br>\n",
    "`user_id` — уникальный идентификатор пользователя<br>\n",
    "`distance` — расстояние, которое пользователь проехал в текущей сессии (в метрах)<br>\n",
    "`duration` — продолжительность сессии (в минутах) — время с того момента, как пользователь нажал кнопку «Начать поездку» до момента, как он нажал кнопку «Завершить поездку»<br>\n",
    "`date` — дата совершения поездки<br>"
   ]
  },
  {
   "cell_type": "code",
   "execution_count": 12,
   "id": "65bef2ab",
   "metadata": {
    "id": "65bef2ab",
    "outputId": "d897fdab-3edb-4b52-9107-e1f78e79d6fd"
   },
   "outputs": [
    {
     "name": "stdout",
     "output_type": "stream",
     "text": [
      "<class 'pandas.core.frame.DataFrame'>\n",
      "RangeIndex: 18068 entries, 0 to 18067\n",
      "Data columns (total 4 columns):\n",
      " #   Column    Non-Null Count  Dtype  \n",
      "---  ------    --------------  -----  \n",
      " 0   user_id   18068 non-null  int64  \n",
      " 1   distance  18068 non-null  float64\n",
      " 2   duration  18068 non-null  float64\n",
      " 3   date      18068 non-null  object \n",
      "dtypes: float64(2), int64(1), object(1)\n",
      "memory usage: 564.8+ KB\n"
     ]
    }
   ],
   "source": [
    "data_rides.info()"
   ]
  },
  {
   "cell_type": "markdown",
   "id": "9d6598fa",
   "metadata": {
    "id": "9d6598fa"
   },
   "source": [
    "### 2.3. Подписки.\n",
    "<a id=\"2_3\"></a>"
   ]
  },
  {
   "cell_type": "code",
   "execution_count": 17,
   "id": "b6ffded6",
   "metadata": {
    "id": "b6ffded6"
   },
   "outputs": [],
   "source": [
    "# Подписки\n",
    "try:\n",
    "    data_subscriptions = pd.read_csv('subscriptions_go.csv')\n",
    "except:\n",
    "    data_subscriptions = pd.read_csv('https://code.s3.yandex.net/datasets/subscriptions_go.csv')"
   ]
  },
  {
   "cell_type": "code",
   "execution_count": 18,
   "id": "e9f2db0c",
   "metadata": {
    "id": "e9f2db0c",
    "outputId": "7280cc99-ff76-4b92-ead9-8f683f7ee042"
   },
   "outputs": [
    {
     "data": {
      "text/html": [
       "<div>\n",
       "<style scoped>\n",
       "    .dataframe tbody tr th:only-of-type {\n",
       "        vertical-align: middle;\n",
       "    }\n",
       "\n",
       "    .dataframe tbody tr th {\n",
       "        vertical-align: top;\n",
       "    }\n",
       "\n",
       "    .dataframe thead th {\n",
       "        text-align: right;\n",
       "    }\n",
       "</style>\n",
       "<table border=\"1\" class=\"dataframe\">\n",
       "  <thead>\n",
       "    <tr style=\"text-align: right;\">\n",
       "      <th></th>\n",
       "      <th>subscription_type</th>\n",
       "      <th>minute_price</th>\n",
       "      <th>start_ride_price</th>\n",
       "      <th>subscription_fee</th>\n",
       "    </tr>\n",
       "  </thead>\n",
       "  <tbody>\n",
       "    <tr>\n",
       "      <th>0</th>\n",
       "      <td>free</td>\n",
       "      <td>8</td>\n",
       "      <td>50</td>\n",
       "      <td>0</td>\n",
       "    </tr>\n",
       "    <tr>\n",
       "      <th>1</th>\n",
       "      <td>ultra</td>\n",
       "      <td>6</td>\n",
       "      <td>0</td>\n",
       "      <td>199</td>\n",
       "    </tr>\n",
       "  </tbody>\n",
       "</table>\n",
       "</div>"
      ],
      "text/plain": [
       "  subscription_type  minute_price  start_ride_price  subscription_fee\n",
       "0              free             8                50                 0\n",
       "1             ultra             6                 0               199"
      ]
     },
     "execution_count": 18,
     "metadata": {},
     "output_type": "execute_result"
    }
   ],
   "source": [
    "# Выведем первые 5 строчек датафрейма подписки на экран.\n",
    "data_subscriptions.head()"
   ]
  },
  {
   "cell_type": "markdown",
   "id": "3270350d",
   "metadata": {
    "id": "3270350d"
   },
   "source": [
    "**Описание данных**<br>\n",
    "`subscription_type` — тип подписки<br>\n",
    "`minute_price` — стоимость одной минуты поездки по данной подписке<br>\n",
    "`start_ride_price` — стоимость начала поездки<br>\n",
    "`subscription_fee` — стоимость ежемесячного платежа<br>"
   ]
  },
  {
   "cell_type": "code",
   "execution_count": 19,
   "id": "af11aa7c",
   "metadata": {
    "id": "af11aa7c",
    "outputId": "cf35af2c-892c-48c8-f5f1-5b87e67b039e"
   },
   "outputs": [
    {
     "name": "stdout",
     "output_type": "stream",
     "text": [
      "<class 'pandas.core.frame.DataFrame'>\n",
      "RangeIndex: 2 entries, 0 to 1\n",
      "Data columns (total 4 columns):\n",
      " #   Column             Non-Null Count  Dtype \n",
      "---  ------             --------------  ----- \n",
      " 0   subscription_type  2 non-null      object\n",
      " 1   minute_price       2 non-null      int64 \n",
      " 2   start_ride_price   2 non-null      int64 \n",
      " 3   subscription_fee   2 non-null      int64 \n",
      "dtypes: int64(3), object(1)\n",
      "memory usage: 196.0+ bytes\n"
     ]
    }
   ],
   "source": [
    "data_subscriptions.info()"
   ]
  },
  {
   "cell_type": "markdown",
   "id": "289820cc",
   "metadata": {
    "id": "289820cc"
   },
   "source": [
    "### Вывод\n",
    "<a id=\"2_4\"></a>\n",
    "\n",
    "<!-- **Пользователи:**\n",
    "1. Пропусков нет.\n",
    "2. Есть явные дубликаты.\n",
    "3. Аномальных значений нет.\n",
    "\n",
    "**Поездки:**\n",
    "1. Пропусков нет.\n",
    "2. Неверный тип данных в столбце `date`.\n",
    "2. Дубликатов нет.\n",
    "3. Аномальные значения в столбце `duration` - время поездки менее 1 минуты.\n",
    "\n",
    "**Подписки:**\n",
    "1. Пропусков нет.\n",
    "2. Дубликатов нет.\n",
    "3. Аномальных значений нет. -->\n",
    "\n",
    "В датафрем `data_users` загружены данные из файла users_go.csv.<br>\n",
    "В датафрем `data_rides` загружены данные из файла rides_go.csv.<br>\n",
    "В датафрем `subscriptions` загружены данные из файла subscriptions_go.csv.<br>\n",
    "\n",
    "С помощью метода `info()` получена первичная информация по данным."
   ]
  },
  {
   "cell_type": "markdown",
   "id": "0881828b",
   "metadata": {
    "id": "0881828b"
   },
   "source": [
    "## 3. Предобработка данных\n",
    "<a id=\"3\"></a>"
   ]
  },
  {
   "cell_type": "markdown",
   "id": "7cb59aba",
   "metadata": {
    "id": "7cb59aba"
   },
   "source": [
    "### 3.1. Обработка пропусков.\n",
    "<a id=\"3_0\"></a>"
   ]
  },
  {
   "cell_type": "code",
   "execution_count": 20,
   "id": "344a4d1c",
   "metadata": {
    "id": "344a4d1c",
    "outputId": "baddce14-f363-4198-e5ee-688cae2c50b4"
   },
   "outputs": [
    {
     "data": {
      "text/html": [
       "<style type=\"text/css\">\n",
       "#T_cac84_row0_col0, #T_cac84_row0_col1, #T_cac84_row1_col0, #T_cac84_row1_col1, #T_cac84_row2_col0, #T_cac84_row2_col1, #T_cac84_row3_col0, #T_cac84_row3_col1, #T_cac84_row4_col0, #T_cac84_row4_col1 {\n",
       "  background-color: #f7fbff;\n",
       "  color: #000000;\n",
       "}\n",
       "</style>\n",
       "<table id=\"T_cac84\">\n",
       "  <thead>\n",
       "    <tr>\n",
       "      <th class=\"blank level0\" >&nbsp;</th>\n",
       "      <th id=\"T_cac84_level0_col0\" class=\"col_heading level0 col0\" >sum</th>\n",
       "      <th id=\"T_cac84_level0_col1\" class=\"col_heading level0 col1\" >mean</th>\n",
       "    </tr>\n",
       "  </thead>\n",
       "  <tbody>\n",
       "    <tr>\n",
       "      <th id=\"T_cac84_level0_row0\" class=\"row_heading level0 row0\" >user_id</th>\n",
       "      <td id=\"T_cac84_row0_col0\" class=\"data row0 col0\" >0.000</td>\n",
       "      <td id=\"T_cac84_row0_col1\" class=\"data row0 col1\" >0.000</td>\n",
       "    </tr>\n",
       "    <tr>\n",
       "      <th id=\"T_cac84_level0_row1\" class=\"row_heading level0 row1\" >name</th>\n",
       "      <td id=\"T_cac84_row1_col0\" class=\"data row1 col0\" >0.000</td>\n",
       "      <td id=\"T_cac84_row1_col1\" class=\"data row1 col1\" >0.000</td>\n",
       "    </tr>\n",
       "    <tr>\n",
       "      <th id=\"T_cac84_level0_row2\" class=\"row_heading level0 row2\" >age</th>\n",
       "      <td id=\"T_cac84_row2_col0\" class=\"data row2 col0\" >0.000</td>\n",
       "      <td id=\"T_cac84_row2_col1\" class=\"data row2 col1\" >0.000</td>\n",
       "    </tr>\n",
       "    <tr>\n",
       "      <th id=\"T_cac84_level0_row3\" class=\"row_heading level0 row3\" >city</th>\n",
       "      <td id=\"T_cac84_row3_col0\" class=\"data row3 col0\" >0.000</td>\n",
       "      <td id=\"T_cac84_row3_col1\" class=\"data row3 col1\" >0.000</td>\n",
       "    </tr>\n",
       "    <tr>\n",
       "      <th id=\"T_cac84_level0_row4\" class=\"row_heading level0 row4\" >subscription_type</th>\n",
       "      <td id=\"T_cac84_row4_col0\" class=\"data row4 col0\" >0.000</td>\n",
       "      <td id=\"T_cac84_row4_col1\" class=\"data row4 col1\" >0.000</td>\n",
       "    </tr>\n",
       "  </tbody>\n",
       "</table>\n"
      ],
      "text/plain": [
       "<pandas.io.formats.style.Styler at 0x1537e0f3c10>"
      ]
     },
     "execution_count": 20,
     "metadata": {},
     "output_type": "execute_result"
    }
   ],
   "source": [
    "# Выведем количество пропущенных значений для каждого столбца таблицы Пользователи\n",
    "data_null = data_users.isna()\n",
    "data_null.apply(['sum', 'mean']).transpose().style.format('{:.3f}').background_gradient(cmap='Blues', axis=0)"
   ]
  },
  {
   "cell_type": "markdown",
   "id": "9a6df3d0",
   "metadata": {
    "id": "9a6df3d0"
   },
   "source": [
    "Нет пропущенных значений."
   ]
  },
  {
   "cell_type": "code",
   "execution_count": 21,
   "id": "48fbf343",
   "metadata": {
    "id": "48fbf343",
    "outputId": "8bd67044-1da5-4f67-88fd-12045d8dc7e0"
   },
   "outputs": [
    {
     "data": {
      "text/html": [
       "<style type=\"text/css\">\n",
       "#T_bc0b5_row0_col0, #T_bc0b5_row0_col1, #T_bc0b5_row1_col0, #T_bc0b5_row1_col1, #T_bc0b5_row2_col0, #T_bc0b5_row2_col1, #T_bc0b5_row3_col0, #T_bc0b5_row3_col1 {\n",
       "  background-color: #f7fbff;\n",
       "  color: #000000;\n",
       "}\n",
       "</style>\n",
       "<table id=\"T_bc0b5\">\n",
       "  <thead>\n",
       "    <tr>\n",
       "      <th class=\"blank level0\" >&nbsp;</th>\n",
       "      <th id=\"T_bc0b5_level0_col0\" class=\"col_heading level0 col0\" >sum</th>\n",
       "      <th id=\"T_bc0b5_level0_col1\" class=\"col_heading level0 col1\" >mean</th>\n",
       "    </tr>\n",
       "  </thead>\n",
       "  <tbody>\n",
       "    <tr>\n",
       "      <th id=\"T_bc0b5_level0_row0\" class=\"row_heading level0 row0\" >user_id</th>\n",
       "      <td id=\"T_bc0b5_row0_col0\" class=\"data row0 col0\" >0.000</td>\n",
       "      <td id=\"T_bc0b5_row0_col1\" class=\"data row0 col1\" >0.000</td>\n",
       "    </tr>\n",
       "    <tr>\n",
       "      <th id=\"T_bc0b5_level0_row1\" class=\"row_heading level0 row1\" >distance</th>\n",
       "      <td id=\"T_bc0b5_row1_col0\" class=\"data row1 col0\" >0.000</td>\n",
       "      <td id=\"T_bc0b5_row1_col1\" class=\"data row1 col1\" >0.000</td>\n",
       "    </tr>\n",
       "    <tr>\n",
       "      <th id=\"T_bc0b5_level0_row2\" class=\"row_heading level0 row2\" >duration</th>\n",
       "      <td id=\"T_bc0b5_row2_col0\" class=\"data row2 col0\" >0.000</td>\n",
       "      <td id=\"T_bc0b5_row2_col1\" class=\"data row2 col1\" >0.000</td>\n",
       "    </tr>\n",
       "    <tr>\n",
       "      <th id=\"T_bc0b5_level0_row3\" class=\"row_heading level0 row3\" >date</th>\n",
       "      <td id=\"T_bc0b5_row3_col0\" class=\"data row3 col0\" >0.000</td>\n",
       "      <td id=\"T_bc0b5_row3_col1\" class=\"data row3 col1\" >0.000</td>\n",
       "    </tr>\n",
       "  </tbody>\n",
       "</table>\n"
      ],
      "text/plain": [
       "<pandas.io.formats.style.Styler at 0x1537e13b9d0>"
      ]
     },
     "execution_count": 21,
     "metadata": {},
     "output_type": "execute_result"
    }
   ],
   "source": [
    "# Выведем количество пропущенных значений для каждого столбца таблицы Поездки\n",
    "data_null = data_rides.isna()\n",
    "data_null.apply(['sum', 'mean']).transpose().style.format('{:.3f}').background_gradient(cmap='Blues', axis=0)"
   ]
  },
  {
   "cell_type": "markdown",
   "id": "194a05e0",
   "metadata": {
    "id": "194a05e0"
   },
   "source": [
    "Нет пропущенных значений."
   ]
  },
  {
   "cell_type": "markdown",
   "id": "41ee6a86",
   "metadata": {
    "id": "41ee6a86"
   },
   "source": [
    "### 3.2. Изменение типов данных.\n",
    "<a id=\"3_1\"></a>"
   ]
  },
  {
   "cell_type": "code",
   "execution_count": 22,
   "id": "a7564c10",
   "metadata": {
    "id": "a7564c10"
   },
   "outputs": [],
   "source": [
    "# Изменим в столбце date тип данных на datetime (таблица Поездки)\n",
    "data_rides['date'] = pd.to_datetime(data_rides['date'], format='%Y-%m-%d')"
   ]
  },
  {
   "cell_type": "code",
   "execution_count": 23,
   "id": "d3b605b4",
   "metadata": {
    "id": "d3b605b4",
    "outputId": "727633aa-4b5a-4f47-a611-f4b84d083328"
   },
   "outputs": [
    {
     "name": "stdout",
     "output_type": "stream",
     "text": [
      "Данные за период с 2021-01-01 по 2021-12-30.\n"
     ]
    }
   ],
   "source": [
    "# Плсмотрим данные за какой период имеются в таблице\n",
    "print(f\"Данные за период с {data_rides['date'].min().date()} по {data_rides['date'].max().date()}.\")"
   ]
  },
  {
   "cell_type": "code",
   "execution_count": 24,
   "id": "bf67a29c",
   "metadata": {
    "id": "bf67a29c"
   },
   "outputs": [],
   "source": [
    "# Создадим новый столбец с номером месяца на основе столбца date (таблица Поездки)\n",
    "data_rides['month'] = data_rides['date'].dt.month"
   ]
  },
  {
   "cell_type": "code",
   "execution_count": 25,
   "id": "f469df7e",
   "metadata": {
    "id": "f469df7e"
   },
   "outputs": [],
   "source": [
    "# Изменим в столбце distance тип данных на int32\n",
    "data_rides['distance'] = data_rides['distance'].astype('int32')"
   ]
  },
  {
   "cell_type": "markdown",
   "id": "8c449516",
   "metadata": {
    "id": "8c449516"
   },
   "source": [
    "### 3.3. Обработка дубликатов.\n",
    "<a id=\"3_2\"></a>"
   ]
  },
  {
   "cell_type": "code",
   "execution_count": 26,
   "id": "3e6e827d",
   "metadata": {
    "id": "3e6e827d",
    "outputId": "ba833f62-b440-4594-e43a-b99bb4ffb0f9"
   },
   "outputs": [
    {
     "data": {
      "text/plain": [
       "31"
      ]
     },
     "execution_count": 26,
     "metadata": {},
     "output_type": "execute_result"
    }
   ],
   "source": [
    "# Проверим таблицу Пользователи датасет на явные дубликаты\n",
    "data_users.duplicated().sum()\n",
    "# data_users[data_users.duplicated()]"
   ]
  },
  {
   "cell_type": "code",
   "execution_count": 27,
   "id": "e4523a3f",
   "metadata": {
    "id": "e4523a3f",
    "outputId": "138cbf17-35eb-4af3-8f3f-92b6bfb7bf94"
   },
   "outputs": [
    {
     "data": {
      "text/plain": [
       "0"
      ]
     },
     "execution_count": 27,
     "metadata": {},
     "output_type": "execute_result"
    }
   ],
   "source": [
    "# Удалим дубликаты (таблица Пользователи)\n",
    "data_users.drop_duplicates(inplace=True)\n",
    "data_users.duplicated().sum()"
   ]
  },
  {
   "cell_type": "markdown",
   "id": "53893bb1",
   "metadata": {
    "id": "53893bb1"
   },
   "source": [
    "Дубликатов нет."
   ]
  },
  {
   "cell_type": "code",
   "execution_count": 28,
   "id": "5587919a",
   "metadata": {
    "id": "5587919a",
    "outputId": "4ef9813b-4d74-4ce2-9657-da583b4dbb6a"
   },
   "outputs": [
    {
     "data": {
      "text/plain": [
       "0"
      ]
     },
     "execution_count": 28,
     "metadata": {},
     "output_type": "execute_result"
    }
   ],
   "source": [
    "# # Проверим таблицу Поездки на явные дубликаты\n",
    "data_rides.duplicated().sum()"
   ]
  },
  {
   "cell_type": "markdown",
   "id": "5a937f1b",
   "metadata": {
    "id": "5a937f1b"
   },
   "source": [
    "Дубликатов нет."
   ]
  },
  {
   "cell_type": "code",
   "execution_count": 29,
   "id": "8c1f4e3f",
   "metadata": {
    "id": "8c1f4e3f",
    "outputId": "89fca828-4b06-4b78-fa8d-e596fbe9d9df"
   },
   "outputs": [
    {
     "data": {
      "text/plain": [
       "array(['Тюмень', 'Омск', 'Москва', 'Ростов-на-Дону', 'Краснодар',\n",
       "       'Пятигорск', 'Екатеринбург', 'Сочи'], dtype=object)"
      ]
     },
     "execution_count": 29,
     "metadata": {},
     "output_type": "execute_result"
    }
   ],
   "source": [
    "data_users['city'].unique()"
   ]
  },
  {
   "cell_type": "markdown",
   "id": "6ab4515b",
   "metadata": {
    "id": "6ab4515b"
   },
   "source": [
    "Неявных дубликатов нет."
   ]
  },
  {
   "cell_type": "markdown",
   "id": "a67e0380",
   "metadata": {
    "id": "a67e0380"
   },
   "source": [
    "### 3.4. Обработка аномальных значений.\n",
    "<a id=\"3_3\"></a>"
   ]
  },
  {
   "cell_type": "code",
   "execution_count": 30,
   "id": "b56f8faf",
   "metadata": {
    "id": "b56f8faf",
    "outputId": "18c0141f-d43a-4bed-e9af-b26ee104c704"
   },
   "outputs": [
    {
     "name": "stdout",
     "output_type": "stream",
     "text": [
      "count    1534.000000\n",
      "mean       24.903520\n",
      "std         4.572367\n",
      "min        12.000000\n",
      "25%        22.000000\n",
      "50%        25.000000\n",
      "75%        28.000000\n",
      "max        43.000000\n",
      "Name: age, dtype: float64\n"
     ]
    }
   ],
   "source": [
    "# Посмотрим описательные статистики\n",
    "print(data_users['age'].describe())"
   ]
  },
  {
   "cell_type": "code",
   "execution_count": 31,
   "id": "ebbc9b7a",
   "metadata": {
    "id": "ebbc9b7a",
    "outputId": "c8aeba1e-a81c-4504-fb24-2f4a6fc9f6c7"
   },
   "outputs": [
    {
     "name": "stdout",
     "output_type": "stream",
     "text": [
      "city\n",
      "Пятигорск         219\n",
      "Екатеринбург      204\n",
      "Ростов-на-Дону    198\n",
      "Краснодар         193\n",
      "Сочи              189\n",
      "Омск              183\n",
      "Тюмень            180\n",
      "Москва            168\n",
      "Name: count, dtype: int64\n"
     ]
    }
   ],
   "source": [
    "# Посмотрим на распределения значений\n",
    "print(data_users['city'].value_counts())"
   ]
  },
  {
   "cell_type": "code",
   "execution_count": 32,
   "id": "850c6058",
   "metadata": {
    "id": "850c6058",
    "outputId": "11b585f4-445a-4118-d487-dfadd114b4c8"
   },
   "outputs": [
    {
     "name": "stdout",
     "output_type": "stream",
     "text": [
      "subscription_type\n",
      "free     835\n",
      "ultra    699\n",
      "Name: count, dtype: int64\n"
     ]
    }
   ],
   "source": [
    "# Посмотрим на распределения значений\n",
    "print(data_users['subscription_type'].value_counts())"
   ]
  },
  {
   "cell_type": "code",
   "execution_count": 33,
   "id": "501e8430",
   "metadata": {
    "id": "501e8430",
    "outputId": "feb4c3ac-5eee-4571-9337-1329344c24bb"
   },
   "outputs": [
    {
     "name": "stdout",
     "output_type": "stream",
     "text": [
      "count    18068.000000\n",
      "mean      3070.159841\n",
      "std       1116.831548\n",
      "min          0.000000\n",
      "25%       2542.750000\n",
      "50%       3133.000000\n",
      "75%       3776.000000\n",
      "max       7211.000000\n",
      "Name: distance, dtype: float64\n"
     ]
    }
   ],
   "source": [
    "# Посмотрим описательные статистики\n",
    "print(data_rides['distance'].describe())"
   ]
  },
  {
   "cell_type": "markdown",
   "id": "21868817",
   "metadata": {
    "id": "21868817"
   },
   "source": [
    "В столбце `distance` встречается дистанция поездки менее 1 м, скорее всего это ошибочная аренда самоката пользователем. Доля таких поездок 0.01% от всего датасета. Оставим."
   ]
  },
  {
   "cell_type": "code",
   "execution_count": 34,
   "id": "de5d512b",
   "metadata": {
    "id": "de5d512b",
    "outputId": "5b634af6-db03-41de-edad-3719bb8b9760"
   },
   "outputs": [
    {
     "name": "stdout",
     "output_type": "stream",
     "text": [
      "Количество поездок на расстояние менее 1 м: 1\n",
      "Доля таких поездок: 0.01%\n"
     ]
    }
   ],
   "source": [
    "print('Количество поездок на расстояние менее 1 м:', data_rides[data_rides['distance'] < 1]['distance'].count())\n",
    "print(f\"Доля таких поездок: {data_rides[data_rides['distance'] < 1]['distance'].count() / len(data_rides['distance']):.2%}\")"
   ]
  },
  {
   "cell_type": "code",
   "execution_count": 35,
   "id": "5917cfcf",
   "metadata": {
    "id": "5917cfcf",
    "outputId": "ec151b20-457c-4043-9c2e-87f9bd356e3b"
   },
   "outputs": [
    {
     "name": "stdout",
     "output_type": "stream",
     "text": [
      "count    18068.000000\n",
      "mean        17.805011\n",
      "std          6.091051\n",
      "min          0.500000\n",
      "25%         13.597563\n",
      "50%         17.678395\n",
      "75%         21.724800\n",
      "max         40.823963\n",
      "Name: duration, dtype: float64\n"
     ]
    }
   ],
   "source": [
    "# Посмотрим описательные статистики\n",
    "print(data_rides['duration'].describe())"
   ]
  },
  {
   "cell_type": "markdown",
   "id": "4de1a2c0",
   "metadata": {
    "id": "4de1a2c0"
   },
   "source": [
    "В столбце `duration` встречается время поездки менее 1 минуты, скорее всего это ошибочная аренда самоката пользователем. Доля таких поездок 0.5% от всего датасета. Оставим."
   ]
  },
  {
   "cell_type": "code",
   "execution_count": 36,
   "id": "fc4c16c9",
   "metadata": {
    "id": "fc4c16c9",
    "outputId": "5f0948b4-f031-4b55-893c-14966a1b4951"
   },
   "outputs": [
    {
     "name": "stdout",
     "output_type": "stream",
     "text": [
      "Количество поездок длительностью менее 1 минуты: 95\n",
      "Доля таких поездок: 0.53%\n"
     ]
    }
   ],
   "source": [
    "print('Количество поездок длительностью менее 1 минуты:', data_rides[data_rides['duration'] < 1]['duration'].count())\n",
    "print(f\"Доля таких поездок: {data_rides[data_rides['duration'] < 1]['duration'].count() / len(data_rides['duration']):.2%}\")"
   ]
  },
  {
   "cell_type": "markdown",
   "id": "4b94cca7",
   "metadata": {
    "id": "4b94cca7"
   },
   "source": [
    "### Вывод\n",
    "<a id=\"3_4\"></a>\n",
    "При предобработке данных выполнены следующие действия:\n",
    "1. В столбце `first_day_exposition` (таблица Поездки) изменен тип данных на datetime. В столбце `distance` (таблица Поездки) изменен тип данных на int32.\n",
    "2. Создан новый столбец `month` (таблица Поездки) с номером месяца на основе столбца date (таблица Поездки).\n",
    "3. Удалены дубликаты в таблице Пользователи.\n",
    "4. Обращено внимание на аномально короткие поездки (менее 1 мин) в столбце `duration` и (менее 1 м) в столбце `distance`."
   ]
  },
  {
   "cell_type": "markdown",
   "id": "245f6e01",
   "metadata": {
    "id": "245f6e01"
   },
   "source": [
    "## 4. Исследовательский анализ данных\n",
    "<a id=\"4\"></a>"
   ]
  },
  {
   "cell_type": "markdown",
   "id": "2a0fefb2",
   "metadata": {
    "id": "2a0fefb2"
   },
   "source": [
    "### 4.1 Частота встречаемости городов.\n",
    "<a id=\"4_1\"></a>"
   ]
  },
  {
   "cell_type": "code",
   "execution_count": 37,
   "id": "545afa1b",
   "metadata": {
    "id": "545afa1b",
    "outputId": "246318d5-38c9-4924-da26-ea63c3e7f991"
   },
   "outputs": [
    {
     "data": {
      "image/png": "[encoded data removed]",
      "text/plain": [
       "<Figure size 600x300 with 1 Axes>"
      ]
     },
     "metadata": {},
     "output_type": "display_data"
    }
   ],
   "source": [
    "# Выведем диаграмму распределения пользователей по городам\n",
    "data_users['city'].value_counts(ascending=True).plot(kind='barh', y='count', grid=True, ec='black', figsize=(6, 3))\n",
    "plt.title('Частота встречаемости городов')\n",
    "plt.xlabel('количество пользователей');\n",
    "# plt.ylabel('город');"
   ]
  },
  {
   "cell_type": "code",
   "execution_count": 38,
   "id": "24fbf6a6",
   "metadata": {
    "id": "24fbf6a6",
    "outputId": "82c88dce-62ef-4cab-a861-911824ee8cbf"
   },
   "outputs": [
    {
     "data": {
      "image/png": "[encoded data removed]",
      "text/plain": [
       "<Figure size 600x400 with 1 Axes>"
      ]
     },
     "metadata": {},
     "output_type": "display_data"
    }
   ],
   "source": [
    "# Построим круговую диаграмму\n",
    "data_users['city'].value_counts().plot(kind='pie', y='count', autopct='%1.2f%%', figsize=(6, 4), colors=plt.cm.Paired.colors)\n",
    "plt.title('Частота встречаемости городов')\n",
    "plt.ylabel('');"
   ]
  },
  {
   "cell_type": "code",
   "execution_count": 39,
   "id": "885f6ec9",
   "metadata": {
    "id": "885f6ec9",
    "outputId": "9bb49204-98ab-4ce0-ab8f-ab181549be54"
   },
   "outputs": [
    {
     "name": "stdout",
     "output_type": "stream",
     "text": [
      "city\n",
      "Пятигорск         219\n",
      "Екатеринбург      204\n",
      "Ростов-на-Дону    198\n",
      "Краснодар         193\n",
      "Сочи              189\n",
      "Омск              183\n",
      "Тюмень            180\n",
      "Москва            168\n",
      "Name: count, dtype: int64\n"
     ]
    }
   ],
   "source": [
    "# Посмотрим на распределения значений\n",
    "print(data_users['city'].value_counts())"
   ]
  },
  {
   "cell_type": "markdown",
   "id": "a8ce7b6e",
   "metadata": {
    "id": "a8ce7b6e"
   },
   "source": [
    "**Вывод**<br>\n",
    "Количество пользователей по городам распределено равномерно. Наибольшее количество в Пятигорске - 219 пользователей. Меньше всего пользователей в Москве - 168. <br>\n",
    "В городах, где менее развит общественный транспорт, люди чаще выбирают самокаты, в Москве же больше альтернатив таких, как метро, такси, автобусы и т.д.\n",
    "Так же может преобладать влияние погоды, в южных регионах пользователи чаще выбирают поездки на самокате."
   ]
  },
  {
   "cell_type": "markdown",
   "id": "a7c9c4a8",
   "metadata": {
    "id": "a7c9c4a8"
   },
   "source": [
    "### 4.2 Соотношение пользователей с подпиской и без подписки.\n",
    "<a id=\"4_2\"></a>"
   ]
  },
  {
   "cell_type": "code",
   "execution_count": 40,
   "id": "31448a58",
   "metadata": {
    "id": "31448a58",
    "outputId": "58b31637-9bf9-4ba7-e4cb-ebbfec0ffa5f"
   },
   "outputs": [
    {
     "data": {
      "image/png": "[encoded data removed]",
      "text/plain": [
       "<Figure size 300x300 with 1 Axes>"
      ]
     },
     "metadata": {},
     "output_type": "display_data"
    }
   ],
   "source": [
    "# Выведем диаграмму распределения пользователей по типу подписки\n",
    "data_users['subscription_type'].value_counts().plot(kind='bar', y='count', grid=True, ec='black', figsize=(3, 3))\n",
    "plt.title('Соотношение пользователей с подпиской и без подписки')\n",
    "# plt.xlabel('тип подписки')\n",
    "plt.ylabel('количество пользователей');"
   ]
  },
  {
   "cell_type": "code",
   "execution_count": 41,
   "id": "4ad05bfe",
   "metadata": {
    "id": "4ad05bfe",
    "outputId": "fb3a83de-8611-4388-beac-e000cdfce955"
   },
   "outputs": [
    {
     "data": {
      "image/png": "[encoded data removed]",
      "text/plain": [
       "<Figure size 600x400 with 1 Axes>"
      ]
     },
     "metadata": {},
     "output_type": "display_data"
    }
   ],
   "source": [
    "# Построим круговую диаграмму\n",
    "data_users['subscription_type'].value_counts().plot(kind='pie', y='count', autopct='%1.2f%%', figsize=(6, 4), colors=plt.cm.Paired.colors)\n",
    "plt.title('Соотношение пользователей с подпиской и без подписки')\n",
    "plt.ylabel('');"
   ]
  },
  {
   "cell_type": "code",
   "execution_count": 42,
   "id": "353285b3",
   "metadata": {
    "id": "353285b3",
    "outputId": "a1a57432-134d-4042-f743-a5e3d7a1e614"
   },
   "outputs": [
    {
     "name": "stdout",
     "output_type": "stream",
     "text": [
      "subscription_type\n",
      "free     835\n",
      "ultra    699\n",
      "Name: count, dtype: int64\n"
     ]
    }
   ],
   "source": [
    "# Посмотрим на распределения значений\n",
    "print(data_users['subscription_type'].value_counts())"
   ]
  },
  {
   "cell_type": "markdown",
   "id": "c02975e4",
   "metadata": {
    "id": "c02975e4"
   },
   "source": [
    "**Вывод**<br>\n",
    "Количество пользователей с платной подпиской и без примерно одинаково. Пользователи больше предпочитают пользоваться бесплатной подпиской - 835 пользователей (54.43%), против - 699 пользователей (45.57%)."
   ]
  },
  {
   "cell_type": "markdown",
   "id": "587b071c",
   "metadata": {
    "id": "587b071c"
   },
   "source": [
    "### 4.3 Возраст пользователей.\n",
    "<a id=\"4_3\"></a>"
   ]
  },
  {
   "cell_type": "code",
   "execution_count": 43,
   "id": "0f9763c1",
   "metadata": {
    "id": "0f9763c1",
    "outputId": "680f6e68-af88-4d3b-edc1-e4341a276780"
   },
   "outputs": [
    {
     "name": "stdout",
     "output_type": "stream",
     "text": [
      "count    1534.000000\n",
      "mean       24.903520\n",
      "std         4.572367\n",
      "min        12.000000\n",
      "25%        22.000000\n",
      "50%        25.000000\n",
      "75%        28.000000\n",
      "max        43.000000\n",
      "Name: age, dtype: float64\n"
     ]
    },
    {
     "data": {
      "image/png": "[encoded data removed]",
      "text/plain": [
       "<Figure size 900x400 with 1 Axes>"
      ]
     },
     "metadata": {},
     "output_type": "display_data"
    }
   ],
   "source": [
    "# Посмотрим описательные статистики\n",
    "print(data_users['age'].describe())\n",
    "# Выведем график распределения пользователей по возрасту\n",
    "data_users['age'].value_counts().sort_index().plot(kind='bar', y='count', grid=True, ec='black', figsize=(9, 4))\n",
    "plt.title('Возраст пользователей')\n",
    "plt.xlabel('возраст')\n",
    "plt.ylabel('количество пользователей')\n",
    "plt.xticks(rotation = 0);"
   ]
  },
  {
   "cell_type": "code",
   "execution_count": 44,
   "id": "f2d4e46d",
   "metadata": {
    "id": "f2d4e46d",
    "outputId": "0d33d597-18f4-4248-8b00-b462d52805cf"
   },
   "outputs": [
    {
     "data": {
      "image/png": "[encoded data removed]",
      "text/plain": [
       "<Figure size 300x300 with 1 Axes>"
      ]
     },
     "metadata": {},
     "output_type": "display_data"
    }
   ],
   "source": [
    "# Просмотр выбросов на boxplot\n",
    "data_users['age'].plot.box(figsize=(3,3), grid=True, flierprops=dict(markeredgecolor='c', alpha=0.5));"
   ]
  },
  {
   "cell_type": "code",
   "execution_count": 45,
   "id": "d5e3b7e4",
   "metadata": {
    "id": "d5e3b7e4",
    "outputId": "c1718220-d619-4233-fc33-a56296912ed6"
   },
   "outputs": [
    {
     "name": "stdout",
     "output_type": "stream",
     "text": [
      "count    1515.000000\n",
      "mean       24.937294\n",
      "std         4.370177\n",
      "min        14.000000\n",
      "25%        22.000000\n",
      "50%        25.000000\n",
      "75%        28.000000\n",
      "max        36.000000\n",
      "Name: age, dtype: float64\n"
     ]
    },
    {
     "data": {
      "image/png": "[encoded data removed]",
      "text/plain": [
       "<Figure size 900x400 with 1 Axes>"
      ]
     },
     "metadata": {},
     "output_type": "display_data"
    }
   ],
   "source": [
    "# Пользуясь IQR определяем нижнюю и верхнюю границу значений\n",
    "def IQR_limits(data, columns):\n",
    "    ''' Определяет нижнюю и верхнюю границу выбросов, используя интерквартильных размах (IQR).'''\n",
    "    Q1 = data[columns].quantile(0.25)\n",
    "    Q3 = data[columns].quantile(0.75)\n",
    "    IQR = Q3 - Q1\n",
    "    lower = Q1 - 1.5 * IQR\n",
    "    upper = Q3 + 1.5 * IQR\n",
    "    return lower, upper\n",
    "\n",
    "lower, upper = IQR_limits(data_users, 'age')\n",
    "temp_data = data_users.query('@lower < age < @upper')\n",
    "\n",
    "# Посмотрим описательные статистики без выбросов\n",
    "print(temp_data['age'].describe())\n",
    "# Построим гистограмму без выбросов\n",
    "temp_data['age'].value_counts().sort_index().plot(kind='bar', y='count', grid=True, ec='black', figsize=(9, 4))\n",
    "plt.title('Возраст пользователей')\n",
    "# plt.xlabel('возраст')\n",
    "plt.ylabel('количество пользователей')\n",
    "plt.xticks(rotation = 0);"
   ]
  },
  {
   "cell_type": "markdown",
   "id": "0c8a0bad",
   "metadata": {
    "id": "0c8a0bad"
   },
   "source": [
    "**Вывод**<br>\n",
    "Рассматриваемый диапазон пользователей 12-43 года. Большая часть пользователей в возрасте 20-30 лет. Самый распространенный вариант - 25 лет. Пользователи младше 20 лет и старше 30 лет встречаются реже. Среднее значение 25 лет и медиана 25 лет.<br>\n",
    "Поездки на самокатах в основном предпочитают молодые люди."
   ]
  },
  {
   "cell_type": "markdown",
   "id": "5cc2f6fe",
   "metadata": {
    "id": "5cc2f6fe"
   },
   "source": [
    "### 4.4 Расстояние, которое пользователь преодолел за одну поездку.\n",
    "<a id=\"4_4\"></a>"
   ]
  },
  {
   "cell_type": "code",
   "execution_count": 46,
   "id": "12fd6151",
   "metadata": {
    "id": "12fd6151",
    "outputId": "2a0b936c-0b6c-487a-8879-9202f4b0e43f"
   },
   "outputs": [
    {
     "name": "stdout",
     "output_type": "stream",
     "text": [
      "count    18068.000000\n",
      "mean      3070.159841\n",
      "std       1116.831548\n",
      "min          0.000000\n",
      "25%       2542.750000\n",
      "50%       3133.000000\n",
      "75%       3776.000000\n",
      "max       7211.000000\n",
      "Name: distance, dtype: float64\n"
     ]
    },
    {
     "data": {
      "image/png": "[encoded data removed]",
      "text/plain": [
       "<Figure size 600x300 with 1 Axes>"
      ]
     },
     "metadata": {},
     "output_type": "display_data"
    }
   ],
   "source": [
    "# Посмотрим описательные статистики\n",
    "print(data_rides['distance'].describe())\n",
    "# Выведем диаграмму распределения пользователей по дистанции поездки\n",
    "data_rides['distance'].plot(kind='hist', bins = 50, figsize=(6, 3), grid=True)\n",
    "plt.title('Расстояние, которое пользователь преодолел за одну поездку')\n",
    "plt.xlabel('дистанция, м')\n",
    "plt.ylabel('количество пользователей');"
   ]
  },
  {
   "cell_type": "code",
   "execution_count": 47,
   "id": "0a7c1e2b",
   "metadata": {
    "id": "0a7c1e2b",
    "outputId": "496bf4f6-bda3-4002-a931-3f38959e81f2"
   },
   "outputs": [
    {
     "data": {
      "image/png": "[encoded data removed]",
      "text/plain": [
       "<Figure size 300x300 with 1 Axes>"
      ]
     },
     "metadata": {},
     "output_type": "display_data"
    }
   ],
   "source": [
    "# Просмотр выбросов на boxplot\n",
    "data_rides['distance'].plot.box(figsize=(3,3), grid=True, flierprops=dict(markeredgecolor='c', alpha=0.2));"
   ]
  },
  {
   "cell_type": "code",
   "execution_count": 48,
   "id": "e5c19001",
   "metadata": {
    "id": "e5c19001",
    "outputId": "c50bf128-c3a5-419a-952b-9d6a2eb0fe91"
   },
   "outputs": [
    {
     "name": "stdout",
     "output_type": "stream",
     "text": [
      "count    17033.000000\n",
      "mean      3191.181941\n",
      "std        929.044146\n",
      "min        693.000000\n",
      "25%       2643.000000\n",
      "50%       3173.000000\n",
      "75%       3806.000000\n",
      "max       5623.000000\n",
      "Name: distance, dtype: float64\n"
     ]
    },
    {
     "data": {
      "image/png": "[encoded data removed]",
      "text/plain": [
       "<Figure size 600x300 with 1 Axes>"
      ]
     },
     "metadata": {},
     "output_type": "display_data"
    }
   ],
   "source": [
    "# Пользуясь IQR определяем нижнюю и верхнюю границу значений\n",
    "lower, upper = IQR_limits(data_rides, 'distance')\n",
    "temp_data = data_rides.query('@lower < distance < @upper')\n",
    "\n",
    "# Посмотрим описательные статистики без выбросов\n",
    "print(temp_data['distance'].describe())\n",
    "# Построим гистограмму без выбросов\n",
    "temp_data['distance'].plot(kind='hist', bins = 50, figsize=(6, 3), grid=True)\n",
    "plt.title('Расстояние, которое пользователь преодолел за одну поездку')\n",
    "plt.xlabel('дистанция, м')\n",
    "plt.ylabel('количество пользователей');"
   ]
  },
  {
   "cell_type": "markdown",
   "id": "34315897",
   "metadata": {
    "id": "34315897"
   },
   "source": [
    "**Вывод**<br>\n",
    "Большая часть пользователей проезжает за одну поездку около 2-4.5 км. Самый распространенный вариант - около 3 км. Поезки менее 2км встречаются реже, но при этом на диаграмме поездки до 1.5км встречаются часто. Среднее значение 3.17км отклонено в сторону меньших значений. Медиана 3.19км.<br>\n",
    "Данные показывают, что оптимальное расстояние для поездки на самокате около 3 км, например, чтобы доехать до работы. Но так же люди предпочитают самокат и для малых расстояний до 1.5км, например, чтобы доехать до автобусной остановки."
   ]
  },
  {
   "cell_type": "markdown",
   "id": "27a2390a",
   "metadata": {
    "id": "27a2390a"
   },
   "source": [
    "### 4.5 Продолжительность поездок.\n",
    "<a id=\"4_5\"></a>"
   ]
  },
  {
   "cell_type": "code",
   "execution_count": 49,
   "id": "37ceb099",
   "metadata": {
    "id": "37ceb099",
    "outputId": "3db55b26-9ca1-436f-f535-b61fad8fcba9"
   },
   "outputs": [
    {
     "name": "stdout",
     "output_type": "stream",
     "text": [
      "count    18068.000000\n",
      "mean        17.805011\n",
      "std          6.091051\n",
      "min          0.500000\n",
      "25%         13.597563\n",
      "50%         17.678395\n",
      "75%         21.724800\n",
      "max         40.823963\n",
      "Name: duration, dtype: float64\n"
     ]
    },
    {
     "data": {
      "image/png": "[encoded data removed]",
      "text/plain": [
       "<Figure size 500x300 with 1 Axes>"
      ]
     },
     "metadata": {},
     "output_type": "display_data"
    }
   ],
   "source": [
    "# Посмотрим описательные статистики\n",
    "print(data_rides['duration'].describe())\n",
    "# Выведем диаграмму распределения пользователей по времени поездки\n",
    "data_rides['duration'].plot(kind='hist', bins = 50, figsize=(5, 3), grid=True)\n",
    "plt.title('Продолжительность поездок')\n",
    "plt.xlabel('время, мин')\n",
    "plt.ylabel('количество пользователей');"
   ]
  },
  {
   "cell_type": "code",
   "execution_count": 50,
   "id": "b7a1fc52",
   "metadata": {
    "id": "b7a1fc52",
    "outputId": "fc324392-a741-4e97-9dca-5209cdc7679d"
   },
   "outputs": [
    {
     "data": {
      "image/png": "[encoded data removed]",
      "text/plain": [
       "<Figure size 300x300 with 1 Axes>"
      ]
     },
     "metadata": {},
     "output_type": "display_data"
    }
   ],
   "source": [
    "# Просмотр выбросов на boxplot\n",
    "data_rides['duration'].plot.box(figsize=(3,3), grid=True, flierprops=dict(markeredgecolor='c', alpha=0.2));"
   ]
  },
  {
   "cell_type": "code",
   "execution_count": 51,
   "id": "9dbd6f13",
   "metadata": {
    "id": "9dbd6f13",
    "outputId": "b4dc93a3-1216-48e3-9551-fc793959c22b"
   },
   "outputs": [
    {
     "name": "stdout",
     "output_type": "stream",
     "text": [
      "count    17891.000000\n",
      "mean        17.817303\n",
      "std          5.872508\n",
      "min          2.035632\n",
      "25%         13.652768\n",
      "50%         17.687012\n",
      "75%         21.684059\n",
      "max         33.914859\n",
      "Name: duration, dtype: float64\n"
     ]
    },
    {
     "data": {
      "image/png": "[encoded data removed]",
      "text/plain": [
       "<Figure size 500x300 with 1 Axes>"
      ]
     },
     "metadata": {},
     "output_type": "display_data"
    }
   ],
   "source": [
    "# Пользуясь IQR определяем нижнюю и верхнюю границу значений\n",
    "lower, upper = IQR_limits(data_rides, 'duration')\n",
    "temp_data = data_rides.query('@lower < duration < @upper')\n",
    "\n",
    "# Посмотрим описательные статистики без выбросов\n",
    "print(temp_data['duration'].describe())\n",
    "# Построим гистограмму без выбросов\n",
    "temp_data['duration'].plot(kind='hist', bins = 50, figsize=(5, 3), grid=True)\n",
    "plt.title('Продолжительность поездок')\n",
    "plt.xlabel('время, мин')\n",
    "plt.ylabel('количество пользователей');"
   ]
  },
  {
   "cell_type": "markdown",
   "id": "65434355",
   "metadata": {
    "id": "65434355"
   },
   "source": [
    "**Вывод**<br>\n",
    "Большая часть пользователей совершает одну поездку за 10-25 мин. Самый распространенный вариант - 17 мин. Поездки менее 10 мин и более 25 мин встречаются реже. Среднее значение 17.8 мин и медиана 17.7 мин.<br>"
   ]
  },
  {
   "cell_type": "markdown",
   "id": "82ebe616",
   "metadata": {
    "id": "82ebe616"
   },
   "source": [
    "## 5. Объединение данных.\n",
    "<a id=\"5\"></a>\n",
    "5.1. Объединим данные о пользователях, поездках и подписках в один датафрейм.<br>\n",
    "5.2. Создадим ещё два датафрейма из датафрейма, созданного на этапе 5.1:<br>\n",
    "-c данными о пользователях без подписки;<br>\n",
    "-с данными о пользователях с подпиской.<br>\n",
    "5.3. Визуализируем информацию о расстоянии и времени поездок для пользователей обеих категорий.<br>"
   ]
  },
  {
   "cell_type": "code",
   "execution_count": 52,
   "id": "01947b94",
   "metadata": {
    "id": "01947b94",
    "outputId": "87e8170f-932a-4f5e-fff9-0ad67fd596da"
   },
   "outputs": [
    {
     "name": "stdout",
     "output_type": "stream",
     "text": [
      "количество строк до объединения: 18068\n",
      "количество строк после объединения: 18068\n"
     ]
    },
    {
     "data": {
      "text/html": [
       "<div>\n",
       "<style scoped>\n",
       "    .dataframe tbody tr th:only-of-type {\n",
       "        vertical-align: middle;\n",
       "    }\n",
       "\n",
       "    .dataframe tbody tr th {\n",
       "        vertical-align: top;\n",
       "    }\n",
       "\n",
       "    .dataframe thead th {\n",
       "        text-align: right;\n",
       "    }\n",
       "</style>\n",
       "<table border=\"1\" class=\"dataframe\">\n",
       "  <thead>\n",
       "    <tr style=\"text-align: right;\">\n",
       "      <th></th>\n",
       "      <th>user_id</th>\n",
       "      <th>distance</th>\n",
       "      <th>duration</th>\n",
       "      <th>date</th>\n",
       "      <th>month</th>\n",
       "      <th>name</th>\n",
       "      <th>age</th>\n",
       "      <th>city</th>\n",
       "      <th>subscription_type</th>\n",
       "      <th>minute_price</th>\n",
       "      <th>start_ride_price</th>\n",
       "      <th>subscription_fee</th>\n",
       "    </tr>\n",
       "  </thead>\n",
       "  <tbody>\n",
       "    <tr>\n",
       "      <th>0</th>\n",
       "      <td>1</td>\n",
       "      <td>4409</td>\n",
       "      <td>25.599769</td>\n",
       "      <td>2021-01-01</td>\n",
       "      <td>1</td>\n",
       "      <td>Кира</td>\n",
       "      <td>22</td>\n",
       "      <td>Тюмень</td>\n",
       "      <td>ultra</td>\n",
       "      <td>6</td>\n",
       "      <td>0</td>\n",
       "      <td>199</td>\n",
       "    </tr>\n",
       "    <tr>\n",
       "      <th>1</th>\n",
       "      <td>1</td>\n",
       "      <td>2617</td>\n",
       "      <td>15.816871</td>\n",
       "      <td>2021-01-18</td>\n",
       "      <td>1</td>\n",
       "      <td>Кира</td>\n",
       "      <td>22</td>\n",
       "      <td>Тюмень</td>\n",
       "      <td>ultra</td>\n",
       "      <td>6</td>\n",
       "      <td>0</td>\n",
       "      <td>199</td>\n",
       "    </tr>\n",
       "    <tr>\n",
       "      <th>2</th>\n",
       "      <td>1</td>\n",
       "      <td>754</td>\n",
       "      <td>6.232113</td>\n",
       "      <td>2021-04-20</td>\n",
       "      <td>4</td>\n",
       "      <td>Кира</td>\n",
       "      <td>22</td>\n",
       "      <td>Тюмень</td>\n",
       "      <td>ultra</td>\n",
       "      <td>6</td>\n",
       "      <td>0</td>\n",
       "      <td>199</td>\n",
       "    </tr>\n",
       "    <tr>\n",
       "      <th>3</th>\n",
       "      <td>1</td>\n",
       "      <td>2694</td>\n",
       "      <td>18.511000</td>\n",
       "      <td>2021-08-11</td>\n",
       "      <td>8</td>\n",
       "      <td>Кира</td>\n",
       "      <td>22</td>\n",
       "      <td>Тюмень</td>\n",
       "      <td>ultra</td>\n",
       "      <td>6</td>\n",
       "      <td>0</td>\n",
       "      <td>199</td>\n",
       "    </tr>\n",
       "    <tr>\n",
       "      <th>4</th>\n",
       "      <td>1</td>\n",
       "      <td>4028</td>\n",
       "      <td>26.265803</td>\n",
       "      <td>2021-08-28</td>\n",
       "      <td>8</td>\n",
       "      <td>Кира</td>\n",
       "      <td>22</td>\n",
       "      <td>Тюмень</td>\n",
       "      <td>ultra</td>\n",
       "      <td>6</td>\n",
       "      <td>0</td>\n",
       "      <td>199</td>\n",
       "    </tr>\n",
       "  </tbody>\n",
       "</table>\n",
       "</div>"
      ],
      "text/plain": [
       "   user_id  distance   duration       date  month  name  age    city  \\\n",
       "0        1      4409  25.599769 2021-01-01      1  Кира   22  Тюмень   \n",
       "1        1      2617  15.816871 2021-01-18      1  Кира   22  Тюмень   \n",
       "2        1       754   6.232113 2021-04-20      4  Кира   22  Тюмень   \n",
       "3        1      2694  18.511000 2021-08-11      8  Кира   22  Тюмень   \n",
       "4        1      4028  26.265803 2021-08-28      8  Кира   22  Тюмень   \n",
       "\n",
       "  subscription_type  minute_price  start_ride_price  subscription_fee  \n",
       "0             ultra             6                 0               199  \n",
       "1             ultra             6                 0               199  \n",
       "2             ultra             6                 0               199  \n",
       "3             ultra             6                 0               199  \n",
       "4             ultra             6                 0               199  "
      ]
     },
     "execution_count": 52,
     "metadata": {},
     "output_type": "execute_result"
    }
   ],
   "source": [
    "# Объединим данные о пользователях, поездках и подписках в один датафрейм\n",
    "data = (data_rides\n",
    "        .merge(data_users, left_on='user_id', right_on='user_id')\n",
    "        .merge(data_subscriptions, left_on='subscription_type', right_on='subscription_type'))\n",
    "print('количество строк до объединения:', data_rides.shape[0])\n",
    "print('количество строк после объединения:', data.shape[0])\n",
    "data.head()"
   ]
  },
  {
   "cell_type": "code",
   "execution_count": 53,
   "id": "1ac59aac",
   "metadata": {
    "id": "1ac59aac"
   },
   "outputs": [],
   "source": [
    "# Создадим ещё два датафрейма: c данными о пользователях с подпиской и без\n",
    "data_ultra = data[data['subscription_type'] == 'ultra']\n",
    "data_free = data[data['subscription_type'] == 'free']"
   ]
  },
  {
   "cell_type": "code",
   "execution_count": 54,
   "id": "874c55b1",
   "metadata": {
    "id": "874c55b1",
    "outputId": "d4906eb1-00e1-482b-981a-d0bb74a1816d"
   },
   "outputs": [
    {
     "data": {
      "image/png": "[encoded data removed]",
      "text/plain": [
       "<Figure size 1000x300 with 2 Axes>"
      ]
     },
     "metadata": {},
     "output_type": "display_data"
    }
   ],
   "source": [
    "plt.figure(figsize=(10,3))\n",
    "plt.suptitle('Подписка \"ULTRA\"')\n",
    "plt.subplot(1, 2, 1)\n",
    "# Выведем диаграмму распределения пользователей по дистанции поездки\n",
    "data_ultra['distance'].plot(kind='hist', bins = 50, grid=True)\n",
    "plt.title('Дистанция')\n",
    "plt.xlabel('дистанция, м')\n",
    "plt.ylabel('количество пользователей')\n",
    "plt.subplot(1, 2, 2)\n",
    "# Выведем диаграмму распределения пользователей по времени поездки\n",
    "data_ultra['duration'].plot(kind='hist', bins = 50, grid=True)\n",
    "plt.title('Время')\n",
    "plt.xlabel('время, мин')\n",
    "plt.ylabel('количество пользователей');"
   ]
  },
  {
   "cell_type": "code",
   "execution_count": 55,
   "id": "5d0df03d",
   "metadata": {
    "id": "5d0df03d",
    "outputId": "17b8b92f-9dd8-402a-fc92-f879b9ed750b"
   },
   "outputs": [
    {
     "data": {
      "image/png": "[encoded data removed]",
      "text/plain": [
       "<Figure size 1000x300 with 2 Axes>"
      ]
     },
     "metadata": {},
     "output_type": "display_data"
    }
   ],
   "source": [
    "plt.figure(figsize=(10,3))\n",
    "plt.suptitle('Подписка \"FREE\"')\n",
    "plt.subplot(1, 2, 1)\n",
    "# Выведем диаграмму распределения пользователей по дистанции поездки\n",
    "data_free['distance'].plot(kind='hist', bins = 50, grid=True)\n",
    "plt.title('Дистанция')\n",
    "plt.xlabel('дистанция, м')\n",
    "plt.ylabel('количество пользователей')\n",
    "plt.subplot(1, 2, 2)\n",
    "# Выведем диаграмму распределения пользователей по времени поездки\n",
    "data_free['duration'].plot(kind='hist', bins = 50, grid=True)\n",
    "plt.title('Время')\n",
    "plt.xlabel('время, мин')\n",
    "plt.ylabel('количество пользователей');"
   ]
  },
  {
   "cell_type": "code",
   "execution_count": 56,
   "id": "2bdfa0e0",
   "metadata": {
    "id": "2bdfa0e0",
    "outputId": "cae426ac-1fef-43b5-f707-cfa82a8aa552"
   },
   "outputs": [
    {
     "data": {
      "image/png": "[encoded data removed]",
      "text/plain": [
       "<Figure size 1000x300 with 2 Axes>"
      ]
     },
     "metadata": {},
     "output_type": "display_data"
    }
   ],
   "source": [
    "plt.figure(figsize=(10,3))\n",
    "plt.suptitle('Сравнение')\n",
    "plt.subplot(1, 2, 1)\n",
    "# Выведем диаграмму распределения пользователей по дистанции поездки\n",
    "data_free['distance'].plot(kind='hist', bins = 50, grid=True, alpha=0.4, label='free')\n",
    "data_ultra['distance'].plot(kind='hist', bins = 50, grid=True, alpha=0.7, label='ultra', color='c')\n",
    "plt.title('Дистанция')\n",
    "plt.xlabel('дистанция, м')\n",
    "plt.ylabel('количество пользователей')\n",
    "plt.legend()\n",
    "plt.subplot(1, 2, 2)\n",
    "# Выведем диаграмму распределения пользователей по времени поездки\n",
    "data_ultra['duration'].plot(kind='hist', bins = 50, grid=True, alpha=0.7, label='free')\n",
    "data_free['duration'].plot(kind='hist', bins = 50, grid=True, alpha=0.4, label='ultra', color='c')\n",
    "plt.title('Время')\n",
    "plt.xlabel('время, мин')\n",
    "plt.ylabel('количество пользователей')\n",
    "plt.legend();"
   ]
  },
  {
   "cell_type": "markdown",
   "id": "53683b79",
   "metadata": {
    "id": "53683b79"
   },
   "source": [
    "### Вывод\n",
    "<a id=\"5_1\"></a>\n",
    "Объединили данные о пользователях, поездках и подписках в один датафрейм - `data`.\n",
    "\n",
    "Создали два датафрейма на основе `data`:\n",
    "- `data_free` - данные о пользователях без подписки\n",
    "- `data_ultra` - данные о пользователях с подпиской\n",
    "\n",
    "Визуализировали информацию о расстоянии и времени поездок для пользователей обеих категорий:\n",
    "- Пользователи без подписки имеют больший разброс значений для дистанции и времени поездки, скорее всего потому что пользователи без подписки могут совершать свои поездки спонтанно, в один раз - быстро доехать по делам, а в другой - долго покататься по парку.\n",
    "- Пользователи с платной подпиской имеют меньший разброс значений, так как скорее всего приобретали подписку для экономии денег при ежедневном или регулярном использовании самоката, скорее всего это однобразные поезки на работу или учебу."
   ]
  },
  {
   "cell_type": "markdown",
   "id": "44eb095a",
   "metadata": {
    "id": "44eb095a"
   },
   "source": [
    "## 6. Подсчёт выручки.\n",
    "<a id=\"6\"></a>\n",
    "\n",
    "Создадим датафрейм с агрегированными данными о поездках: суммарное расстояние, количество поездок и суммарное время для каждого пользователя за каждый месяц."
   ]
  },
  {
   "cell_type": "code",
   "execution_count": 57,
   "id": "74689e96",
   "metadata": {
    "id": "74689e96"
   },
   "outputs": [],
   "source": [
    "data['duration'] = np.ceil(data['duration'])\n",
    "total_data = pd.pivot_table(data,\n",
    "                            index=['month', 'user_id'],\n",
    "                            values=['distance', 'duration', 'subscription_type'],\n",
    "                            aggfunc={'distance':['count', 'sum'], 'duration':'sum', 'subscription_type':'first'})\n",
    "total_data.columns = ['count_rides', 'sum_distance', 'sum_duration', 'subscription_type']\n",
    "# total_data"
   ]
  },
  {
   "cell_type": "markdown",
   "id": "c15cf411",
   "metadata": {
    "id": "c15cf411"
   },
   "source": [
    "Посчитаем помесячную выручку по формуле:<br>\n",
    "стоимость старта поездки ×  количество поездок + стоимость одной минуты поездки × общая продолжительность всех поездок в минутах + стоимость подписки."
   ]
  },
  {
   "cell_type": "code",
   "execution_count": 58,
   "id": "adc23a56",
   "metadata": {
    "id": "adc23a56"
   },
   "outputs": [],
   "source": [
    "def income(row):\n",
    "    '''\n",
    "    Функция считающая выручку по формуле:\n",
    "    стоимость старта поездки × количество поездок +\n",
    "    + стоимость одной минуты поездки × общая продолжительность всех поездок в минутах +\n",
    "    + стоимость подписки.\n",
    "    '''\n",
    "    try:\n",
    "        return (row['start_ride_price'] * row['count_rides']\n",
    "                + row['minute_price'] * row['sum_duration']\n",
    "                + row['subscription_fee'])\n",
    "    except:\n",
    "        pass\n",
    "\n",
    "# Добавим информация о стоимости тарифов\n",
    "total_data = total_data.merge(data_subscriptions, left_on='subscription_type', right_on='subscription_type')\n",
    "total_data['income'] = total_data.apply(income, axis=1)"
   ]
  },
  {
   "cell_type": "code",
   "execution_count": 59,
   "id": "e224b060",
   "metadata": {
    "id": "e224b060",
    "outputId": "925e6b40-e3e0-4a7d-9ce8-d8af38d3a022",
    "scrolled": true
   },
   "outputs": [
    {
     "data": {
      "text/html": [
       "<div>\n",
       "<style scoped>\n",
       "    .dataframe tbody tr th:only-of-type {\n",
       "        vertical-align: middle;\n",
       "    }\n",
       "\n",
       "    .dataframe tbody tr th {\n",
       "        vertical-align: top;\n",
       "    }\n",
       "\n",
       "    .dataframe thead th {\n",
       "        text-align: right;\n",
       "    }\n",
       "</style>\n",
       "<table border=\"1\" class=\"dataframe\">\n",
       "  <thead>\n",
       "    <tr style=\"text-align: right;\">\n",
       "      <th></th>\n",
       "      <th>count_rides</th>\n",
       "      <th>sum_distance</th>\n",
       "      <th>sum_duration</th>\n",
       "      <th>subscription_type</th>\n",
       "      <th>minute_price</th>\n",
       "      <th>start_ride_price</th>\n",
       "      <th>subscription_fee</th>\n",
       "      <th>income</th>\n",
       "    </tr>\n",
       "  </thead>\n",
       "  <tbody>\n",
       "    <tr>\n",
       "      <th>0</th>\n",
       "      <td>2</td>\n",
       "      <td>7026</td>\n",
       "      <td>42.0</td>\n",
       "      <td>ultra</td>\n",
       "      <td>6</td>\n",
       "      <td>0</td>\n",
       "      <td>199</td>\n",
       "      <td>451.0</td>\n",
       "    </tr>\n",
       "    <tr>\n",
       "      <th>1</th>\n",
       "      <td>1</td>\n",
       "      <td>3061</td>\n",
       "      <td>13.0</td>\n",
       "      <td>ultra</td>\n",
       "      <td>6</td>\n",
       "      <td>0</td>\n",
       "      <td>199</td>\n",
       "      <td>277.0</td>\n",
       "    </tr>\n",
       "    <tr>\n",
       "      <th>2</th>\n",
       "      <td>1</td>\n",
       "      <td>3914</td>\n",
       "      <td>13.0</td>\n",
       "      <td>ultra</td>\n",
       "      <td>6</td>\n",
       "      <td>0</td>\n",
       "      <td>199</td>\n",
       "      <td>277.0</td>\n",
       "    </tr>\n",
       "    <tr>\n",
       "      <th>3</th>\n",
       "      <td>2</td>\n",
       "      <td>6477</td>\n",
       "      <td>28.0</td>\n",
       "      <td>ultra</td>\n",
       "      <td>6</td>\n",
       "      <td>0</td>\n",
       "      <td>199</td>\n",
       "      <td>367.0</td>\n",
       "    </tr>\n",
       "    <tr>\n",
       "      <th>4</th>\n",
       "      <td>1</td>\n",
       "      <td>3577</td>\n",
       "      <td>33.0</td>\n",
       "      <td>ultra</td>\n",
       "      <td>6</td>\n",
       "      <td>0</td>\n",
       "      <td>199</td>\n",
       "      <td>397.0</td>\n",
       "    </tr>\n",
       "    <tr>\n",
       "      <th>...</th>\n",
       "      <td>...</td>\n",
       "      <td>...</td>\n",
       "      <td>...</td>\n",
       "      <td>...</td>\n",
       "      <td>...</td>\n",
       "      <td>...</td>\n",
       "      <td>...</td>\n",
       "      <td>...</td>\n",
       "    </tr>\n",
       "    <tr>\n",
       "      <th>11326</th>\n",
       "      <td>1</td>\n",
       "      <td>4597</td>\n",
       "      <td>34.0</td>\n",
       "      <td>free</td>\n",
       "      <td>8</td>\n",
       "      <td>50</td>\n",
       "      <td>0</td>\n",
       "      <td>322.0</td>\n",
       "    </tr>\n",
       "    <tr>\n",
       "      <th>11327</th>\n",
       "      <td>1</td>\n",
       "      <td>3644</td>\n",
       "      <td>23.0</td>\n",
       "      <td>free</td>\n",
       "      <td>8</td>\n",
       "      <td>50</td>\n",
       "      <td>0</td>\n",
       "      <td>234.0</td>\n",
       "    </tr>\n",
       "    <tr>\n",
       "      <th>11328</th>\n",
       "      <td>1</td>\n",
       "      <td>3998</td>\n",
       "      <td>11.0</td>\n",
       "      <td>free</td>\n",
       "      <td>8</td>\n",
       "      <td>50</td>\n",
       "      <td>0</td>\n",
       "      <td>138.0</td>\n",
       "    </tr>\n",
       "    <tr>\n",
       "      <th>11329</th>\n",
       "      <td>2</td>\n",
       "      <td>6111</td>\n",
       "      <td>42.0</td>\n",
       "      <td>free</td>\n",
       "      <td>8</td>\n",
       "      <td>50</td>\n",
       "      <td>0</td>\n",
       "      <td>436.0</td>\n",
       "    </tr>\n",
       "    <tr>\n",
       "      <th>11330</th>\n",
       "      <td>1</td>\n",
       "      <td>2371</td>\n",
       "      <td>16.0</td>\n",
       "      <td>free</td>\n",
       "      <td>8</td>\n",
       "      <td>50</td>\n",
       "      <td>0</td>\n",
       "      <td>178.0</td>\n",
       "    </tr>\n",
       "  </tbody>\n",
       "</table>\n",
       "<p>11331 rows × 8 columns</p>\n",
       "</div>"
      ],
      "text/plain": [
       "       count_rides  sum_distance  sum_duration subscription_type  \\\n",
       "0                2          7026          42.0             ultra   \n",
       "1                1          3061          13.0             ultra   \n",
       "2                1          3914          13.0             ultra   \n",
       "3                2          6477          28.0             ultra   \n",
       "4                1          3577          33.0             ultra   \n",
       "...            ...           ...           ...               ...   \n",
       "11326            1          4597          34.0              free   \n",
       "11327            1          3644          23.0              free   \n",
       "11328            1          3998          11.0              free   \n",
       "11329            2          6111          42.0              free   \n",
       "11330            1          2371          16.0              free   \n",
       "\n",
       "       minute_price  start_ride_price  subscription_fee  income  \n",
       "0                 6                 0               199   451.0  \n",
       "1                 6                 0               199   277.0  \n",
       "2                 6                 0               199   277.0  \n",
       "3                 6                 0               199   367.0  \n",
       "4                 6                 0               199   397.0  \n",
       "...             ...               ...               ...     ...  \n",
       "11326             8                50                 0   322.0  \n",
       "11327             8                50                 0   234.0  \n",
       "11328             8                50                 0   138.0  \n",
       "11329             8                50                 0   436.0  \n",
       "11330             8                50                 0   178.0  \n",
       "\n",
       "[11331 rows x 8 columns]"
      ]
     },
     "execution_count": 59,
     "metadata": {},
     "output_type": "execute_result"
    }
   ],
   "source": [
    "total_data"
   ]
  },
  {
   "cell_type": "markdown",
   "id": "b361b065",
   "metadata": {
    "id": "b361b065"
   },
   "source": [
    "### Вывод\n",
    "<a id=\"6_1\"></a>\n",
    "Создали датафрейм `total_data` с агрегированными данными на основе датафрейма `data` с объединенными данными.\n",
    "\n",
    "Нашли суммарное расстояние, количество поездок и суммарное время для каждого пользователя за каждый месяц. Также рассчитали помесячную выручку, которую принес каждый пользователь."
   ]
  },
  {
   "cell_type": "markdown",
   "id": "4174a0a8",
   "metadata": {
    "id": "4174a0a8"
   },
   "source": [
    "## 7. Статистический анализ данных.\n",
    "<a id=\"7\"></a>"
   ]
  },
  {
   "cell_type": "markdown",
   "id": "de0f5fd1",
   "metadata": {
    "id": "de0f5fd1"
   },
   "source": [
    "### 7.1. Гипотеза: Пользователи с подпиской тратят больше времени на поездки.\n",
    "<a id=\"7_1\"></a>\n",
    "Проверим гипотезу: пользователи с подпиской тратят больше времени на поездки, чем пользователи без подписки.\n",
    "\n",
    "$H_0$: Время поездки пользователей с подпиской = время поездки пользователей без подписки.<br>\n",
    "$H_1$: Время поездки пользователей с подпиской > время поездки пользователей без подписки.\n",
    "\n",
    "Уровень статистической значимости: $\\alpha = 0.05$ (если p-value окажется меньше него, отвергнем гипотезу)."
   ]
  },
  {
   "cell_type": "code",
   "execution_count": 60,
   "id": "f57c6c2b",
   "metadata": {
    "id": "f57c6c2b",
    "outputId": "7e78b8a4-2a18-4e0a-d6b3-cc4a9ef2f142"
   },
   "outputs": [
    {
     "name": "stdout",
     "output_type": "stream",
     "text": [
      "p-значение: 1.2804098316645618e-34\n",
      "Отвергаем нулевую гипотезу.\n"
     ]
    }
   ],
   "source": [
    "# уровень статистической значимости\n",
    "alpha = 0.05\n",
    "# t-тест\n",
    "results = st.ttest_ind(data_ultra['duration'], data_free['duration'], alternative = 'greater')\n",
    "\n",
    "print(f'p-значение: {results.pvalue}')\n",
    "\n",
    "if results.pvalue < alpha:\n",
    "    print('Отвергаем нулевую гипотезу.')\n",
    "else:\n",
    "    print('Наблюдения не противоречат гипотезе.')"
   ]
  },
  {
   "cell_type": "code",
   "execution_count": 61,
   "id": "22c037c6",
   "metadata": {
    "id": "22c037c6",
    "outputId": "cda9ad21-ab73-46e0-cba4-1f379b95ab83"
   },
   "outputs": [
    {
     "name": "stdout",
     "output_type": "stream",
     "text": [
      "Время поездки пользователей с подпиской 18.54 мин\n",
      "Время поездки пользователей без подписки 17.39 мин\n"
     ]
    }
   ],
   "source": [
    "print('Время поездки пользователей с подпиской', data_ultra['duration'].mean().round(2), 'мин')\n",
    "print('Время поездки пользователей без подписки', data_free['duration'].mean().round(2), 'мин')"
   ]
  },
  {
   "cell_type": "markdown",
   "id": "00cb3c33",
   "metadata": {
    "id": "00cb3c33"
   },
   "source": [
    "**Вывод**<br>\n",
    "Полученное значение *p-value = $1.280 \\cdot 10^{-34}$* меньше заданного уровня значимости, поэтому можно отвергнуть нулевую гипотезу. Есть основания говорить, что пользователи с подпиской тратят в сервисе больше времени на поездки."
   ]
  },
  {
   "cell_type": "markdown",
   "id": "afc2afa7",
   "metadata": {
    "id": "afc2afa7"
   },
   "source": [
    "### 7.2. Гипотеза: Среднее расстояние, которое проезжают пользователи с подпиской за одну поездку.\n",
    "<a id=\"7_2\"></a>\n",
    "Проверим гипотезу: среднее расстояние, которое проезжают пользователи с подпиской за одну поездку, не превышает 3130 метров.\n",
    "\n",
    "$H_0$: Расстояние, которое проезжают пользователи с подпиской за одну поездку = 3130 метров.<br>\n",
    "$H_1$: Расстояние, которое проезжают пользователи с подпиской за одну поездку > 3130 метров.\n",
    "\n",
    "Уровень статистической значимости: $\\alpha = 0.05$ (если p-value окажется меньше него, отвергнем гипотезу)."
   ]
  },
  {
   "cell_type": "code",
   "execution_count": 62,
   "id": "540adbdd",
   "metadata": {
    "id": "540adbdd",
    "outputId": "dbd9de64-ec6e-400a-85a1-2513517b84bd"
   },
   "outputs": [
    {
     "name": "stdout",
     "output_type": "stream",
     "text": [
      "p-значение: 0.9264356652998772\n",
      "Наблюдения не противоречат гипотезе.\n"
     ]
    }
   ],
   "source": [
    "# уровень статистической значимости\n",
    "alpha = 0.05\n",
    "# t-тест\n",
    "results = st.ttest_1samp(data_ultra['distance'], 3130, alternative = 'greater')\n",
    "\n",
    "print(f'p-значение: {results.pvalue}')\n",
    "\n",
    "if (results.pvalue < alpha):\n",
    "    print('Отвергаем нулевую гипотезу.')\n",
    "else:\n",
    "    print('Наблюдения не противоречат гипотезе.')"
   ]
  },
  {
   "cell_type": "markdown",
   "id": "7e8f279b",
   "metadata": {
    "id": "7e8f279b"
   },
   "source": [
    "**Вывод**<br>\n",
    "Полученное значение *p-value = $0.926$* , больше заданного уровня значимости, поэтому нельзя отвергнуть нулевую гипотезу. Нет оснований говорить, что пользователи с подпиской проезжают менее 3130 метров."
   ]
  },
  {
   "cell_type": "markdown",
   "id": "3abb7c0f",
   "metadata": {
    "id": "3abb7c0f"
   },
   "source": [
    "### 7.3. Гипотеза: Выручка от пользователей с подпиской выше, чем выручка от пользователей без подписки.\n",
    "<a id=\"7_3\"></a>\n",
    "Проверим гипотезу: помесячная выручка от пользователей с подпиской по месяцам выше, чем выручка от пользователей без подписки.\n",
    "\n",
    "$H_0$: Выручка от пользователей с подпиской = выручка от пользователей без подписки.<br>\n",
    "$H_1$: Выручка от пользователей с подпиской > выручка от пользователей без подписки.\n",
    "\n",
    "Уровень статистической значимости: $\\alpha = 0.05$ (если p-value окажется меньше него, отвергнем гипотезу)."
   ]
  },
  {
   "cell_type": "code",
   "execution_count": 63,
   "id": "6eb0df34",
   "metadata": {
    "id": "6eb0df34",
    "outputId": "6ef4b34c-81d1-46d0-9b0a-b94470a5a882"
   },
   "outputs": [
    {
     "name": "stdout",
     "output_type": "stream",
     "text": [
      "p-значение: 1.8850394384715216e-31\n",
      "Отвергаем нулевую гипотезу.\n"
     ]
    }
   ],
   "source": [
    "# уровень статистической значимости\n",
    "alpha = 0.05\n",
    "# t-тест\n",
    "sample_ultra = total_data[total_data['subscription_type'] == 'ultra']['income']\n",
    "sample_free = total_data[total_data['subscription_type'] == 'free']['income']\n",
    "results = st.ttest_ind(sample_ultra, sample_free, alternative = 'greater')\n",
    "\n",
    "print(f'p-значение: {results.pvalue}')\n",
    "\n",
    "if results.pvalue < alpha:\n",
    "    print('Отвергаем нулевую гипотезу.')\n",
    "else:\n",
    "    print('Наблюдения не противоречат гипотезе.')"
   ]
  },
  {
   "cell_type": "code",
   "execution_count": 64,
   "id": "3a11da75",
   "metadata": {
    "id": "3a11da75",
    "outputId": "456826d1-a8e3-4e89-8596-31d884a02941"
   },
   "outputs": [
    {
     "name": "stdout",
     "output_type": "stream",
     "text": [
      "Средняя выручка от пользователей с подпиской 362.79 руб.\n",
      "Средняя выручка от пользователей без подписки 328.64 руб.\n"
     ]
    }
   ],
   "source": [
    "print('Средняя выручка от пользователей с подпиской', sample_ultra.mean().round(2), 'руб.')\n",
    "print('Средняя выручка от пользователей без подписки', sample_free.mean().round(2), 'руб.')"
   ]
  },
  {
   "cell_type": "markdown",
   "id": "6fa922fd",
   "metadata": {
    "id": "6fa922fd"
   },
   "source": [
    "**Вывод**<br>\n",
    "Полученное значение *p-value = $3.914 \\cdot 10^{-34}$* меньше заданного уровня значимости, поэтому можно отвергнуть нулевую гипотезу. Есть основания говорить, что пользователи с подпиской приносят больше выручки, чем пользователи без подписки."
   ]
  },
  {
   "cell_type": "markdown",
   "id": "6c534405",
   "metadata": {
    "id": "6c534405"
   },
   "source": [
    "### 7.4. Внимание вопрос.\n",
    "<a id=\"7_4\"></a>\n",
    "Представьте такую ситуацию: техническая команда сервиса обновила сервера, с которыми взаимодействует мобильное приложение. Она надеется, что из-за этого количество обращений в техподдержку значимо снизилось. Некоторый файл содержит для каждого пользователя данные о количестве обращений до обновления и после него. Какой тест вам понадобился бы для проверки этой гипотезы?"
   ]
  },
  {
   "cell_type": "markdown",
   "id": "6727d2f6",
   "metadata": {
    "id": "6727d2f6"
   },
   "source": [
    "**Ответ:**\n",
    "Чтобы проверить гипотезу о равенстве среднего генеральной совокупности для зависимых выборок в Python, применяется метод `scipy.stats.ttest_rel()`."
   ]
  },
  {
   "cell_type": "markdown",
   "id": "14178ba5",
   "metadata": {
    "id": "14178ba5"
   },
   "source": [
    "## 8. Распределения.\n",
    "<a id=\"8\"></a>"
   ]
  },
  {
   "cell_type": "markdown",
   "id": "8aaf0aa2",
   "metadata": {
    "id": "8aaf0aa2"
   },
   "source": [
    "### 8.1. Промокоды.\n",
    "<a id=\"8_1\"></a>\n",
    "\n",
    "Отделу маркетинга GoFast поставили задачу: нужно провести акцию с раздачей промокодов на один бесплатный месяц подписки, в рамках которой как минимум 100 существующих клиентов должны продлить эту подписку. То есть по завершении периода действия подписки пользователь может либо отказаться от неё, либо продлить, совершив соответствующий платёж.\n",
    "\n",
    "Эта акция уже проводилась ранее и по итогу выяснилось, что после бесплатного пробного периода подписку продлевают 10 % пользователей. Выясните, какое минимальное количество промокодов нужно разослать, чтобы вероятность не выполнить план была примерно 5 %. Подберите параметры распределения, описывающего эту ситуацию, постройте график распределения и сформулируйте ответ на вопрос о количестве промокодов."
   ]
  },
  {
   "cell_type": "code",
   "execution_count": 65,
   "id": "bdea5ef2",
   "metadata": {
    "id": "bdea5ef2",
    "outputId": "963a6831-1a01-46c2-a70f-20df5d7f0306"
   },
   "outputs": [
    {
     "name": "stdout",
     "output_type": "stream",
     "text": [
      "При n = 1165, вероятность не выполнить план = 4.60%\n"
     ]
    },
    {
     "data": {
      "image/png": "[encoded data removed]",
      "text/plain": [
       "<Figure size 500x300 with 1 Axes>"
      ]
     },
     "metadata": {},
     "output_type": "display_data"
    }
   ],
   "source": [
    "# задаём параметры биномиального распределения\n",
    "# вероятность успеха (продление подписки)\n",
    "p = 0.1\n",
    "# нужно получить k успехов (план минимум 100 клиентов)\n",
    "k = 100\n",
    "# количество испытаний (количество промокодов)\n",
    "n = 1000\n",
    "# вероятность получить меньше k (вероятность не выполнить план)\n",
    "prob = 0.05\n",
    "\n",
    "# найдем минимальное n, вероятность не выполнить план была меньше 5%\n",
    "while (result := st.binom.cdf(k - 1, n, p)) > prob:\n",
    "    n += 5\n",
    "print(f'При n = {n}, вероятность не выполнить план = {result:.2%}')\n",
    "\n",
    "# построим распределение\n",
    "distr = [st.binom.pmf(x, n, p) for x in range(0, n + 1)]\n",
    "# построим график\n",
    "plt.figure(figsize=(5,3))\n",
    "plt.bar(range(0, n + 1), distr)\n",
    "plt.title('Распределение вероятности')\n",
    "plt.xlabel('количество промокодов')\n",
    "plt.ylabel('вероятность')\n",
    "plt.xlim(75, 160)\n",
    "plt.grid();"
   ]
  },
  {
   "cell_type": "markdown",
   "id": "bb14b340",
   "metadata": {
    "id": "bb14b340"
   },
   "source": [
    "**Вывод**<br>\n",
    "В рамках акции нужно разослать 1165 промокодов, чтобы вероятность не выполнить план была примерно 5 %."
   ]
  },
  {
   "cell_type": "markdown",
   "id": "315a1ed0",
   "metadata": {
    "id": "315a1ed0"
   },
   "source": [
    "### 8.2. Push-уведомления.\n",
    "<a id=\"8_2\"></a>\n",
    "\n",
    "Отдел маркетинга рассылает клиентам push-уведомления в мобильном приложении. Клиенты могут открыть его или не открывать. Известно, что уведомления открывают около 40 % получивших клиентов. Отдел планирует разослать 1 млн уведомлений. С помощью аппроксимации постройте примерный график распределения и оцените вероятность того, что уведомление откроют не более 399,5 тыс. пользователей."
   ]
  },
  {
   "cell_type": "code",
   "execution_count": 66,
   "id": "fe9b0a56",
   "metadata": {
    "id": "fe9b0a56",
    "outputId": "b7b16995-899a-4cc0-e101-1a14d7fbb623"
   },
   "outputs": [
    {
     "data": {
      "image/png": "[encoded data removed]",
      "text/plain": [
       "<Figure size 500x300 with 1 Axes>"
      ]
     },
     "metadata": {},
     "output_type": "display_data"
    }
   ],
   "source": [
    "# задаём параметры биномиального распределения\n",
    "# вероятность успеха (уведомление открыто)\n",
    "p = 0.4\n",
    "# нужно получить k успехов (количество пользователей, которые открыют уведомление)\n",
    "k = 399500\n",
    "# количество испытаний (количество уведомлений)\n",
    "n = 1000000\n",
    "\n",
    "# зададим параметры нормального распределения равными мат.ожиданию и дисперсии биномиального распределения\n",
    "mu = n * p\n",
    "sigma = np.sqrt(n * p * (1 - p))\n",
    "\n",
    "# зададим последовательность точек на оси x\n",
    "x = np.linspace(mu - 3 * sigma, mu + 3 * sigma, 1000)\n",
    "# задаём нормальное распределение\n",
    "distr = st.norm.pdf(x, mu, sigma)\n",
    "\n",
    "# построим функцию плотности\n",
    "plt.figure(figsize=(5,3))\n",
    "plt.plot(x, distr);\n",
    "# и заполним пространство под кривой вплоть до точки x = 399,5 тыс.\n",
    "px = np.linspace(mu - 3 * sigma, k, 1000)\n",
    "plt.fill_between(px, st.norm.pdf(px, mu, sigma), alpha = 0.3)\n",
    "plt.title('Распределение плотности вероятности')\n",
    "plt.xlabel('количество открытых уведомлений')\n",
    "plt.ylabel('вероятность')\n",
    "plt.grid();"
   ]
  },
  {
   "cell_type": "code",
   "execution_count": 67,
   "id": "c31bf09b",
   "metadata": {
    "id": "c31bf09b",
    "outputId": "46622e49-55e0-44de-b0f7-54c60447cf9f"
   },
   "outputs": [
    {
     "name": "stdout",
     "output_type": "stream",
     "text": [
      "Вероятность того, что уведомление откроют не более 399,5 тыс. пользователей: 15.37%\n"
     ]
    }
   ],
   "source": [
    "# оценим вероятность того, что уведомление откроют не более 399,5 тыс. пользователей\n",
    "result = st.norm.cdf(k, mu, sigma)\n",
    "print(f'Вероятность того, что уведомление откроют не более 399,5 тыс. пользователей: {result:.2%}')"
   ]
  },
  {
   "cell_type": "markdown",
   "id": "791fa34c",
   "metadata": {
    "id": "791fa34c"
   },
   "source": [
    "**Вывод**<br>\n",
    "Вероятность того, что уведомление откроют не более 399,5 тыс. пользователей равна 15.37%."
   ]
  },
  {
   "cell_type": "markdown",
   "id": "964778de",
   "metadata": {
    "id": "964778de"
   },
   "source": [
    "## 9. Общий вывод\n",
    "<a id=\"9\"></a>\n",
    "**Проведено исследование сервиса аренды самокатов, в ходе исследования выполнено:**\n",
    "\n",
    "**1.** Была получена первичная информация по 3 датасетам: с пользователями, информацией о поездках, информацией о подписках. (см. [2. Первичный анализ данных -> Вывод](#2_4)).\n",
    "\n",
    "**2.** Обнаружены неверные типы данных, дубликаты и аномалии в датасете. Изменены типы данных. Аномалии и дубликаты обработаны. (см.[3. Предобработка данных -> Вывод](#3_4)).\n",
    "\n",
    "**3.** **Проведен исследовательский анализ данных:**\n",
    "- Количество пользователей по городам распределено равномерно. Наибольшее количество в Пятигорске - 219 пользователей. Меньше всего пользователей в Москве - 168.\n",
    "- Пользователи больше предпочитают пользоваться бесплатной подпиской - 835 пользователей (54.43%), против - 699 пользователей (45.57%). Но при этом количество пользователей с платной подпиской и без примерно одинаково.\n",
    "- Большая часть пользователей в возрасте 20-30 лет. Самый распространенный вариант - 25 лет.\n",
    "- Большая часть пользователей проезжает за одну поездку около 2-4 км. Самый распространенный вариант - около 3 км. При этом поездки до 1.5км тоже встречаются часто.\n",
    "- Большая часть пользователей совершает одну поездку за 10-25 мин.\n",
    "\n",
    "**4.** Объединили данные о пользователях, поездках и подписках в один датафрейм. На основе объединенного датафрейма создали еще 2 датафрейма для пользователей с подпиской и без. (см. [5. Объединение данных -> Вывод](#5_1))\n",
    "\n",
    "**5.** Рассчитана помесячная выручка, которую принес каждый пользователь. (см. [6. Подсчёт выручки -> Вывод](#6_1))\n",
    "\n",
    "**6.** **Проведено ститистическое исследование:**\n",
    "- Есть основания говорить, что пользователи с подпиской тратят в сервисе больше времени на поездки.\n",
    "- Нет оснований говорить, что пользователи с подпиской проезжают менее 3130 метров.\n",
    "- Есть основания говорить, что пользователи с подпиской приносят больше выручки, чем пользователи без подписки.\n",
    "\n",
    "**7.** Решены дополнительные задачи от отдела маркетинга:\n",
    "- В рамках акции нужно разослать 1165 промокодов, чтобы вероятность не выполнить план в 100 продлений была примерно 5 %.\n",
    "- Вероятность того, что после рассылки 1 млн. уведомлений, уведомление откроют не более 399,5 тыс. пользователей равна 15.37%."
   ]
  }
 ],
 "metadata": {
  "ExecuteTimeLog": [
   {
    "duration": 999,
    "start_time": "2023-10-11T10:35:00.283Z"
   },
   {
    "duration": 127,
    "start_time": "2023-10-11T10:35:01.283Z"
   },
   {
    "duration": 224,
    "start_time": "2023-10-11T10:35:01.411Z"
   },
   {
    "duration": 218,
    "start_time": "2023-10-11T10:35:01.636Z"
   },
   {
    "duration": 293,
    "start_time": "2023-10-11T10:35:01.856Z"
   },
   {
    "duration": 75,
    "start_time": "2023-10-11T10:35:02.151Z"
   },
   {
    "duration": 297,
    "start_time": "2023-10-11T10:35:02.228Z"
   },
   {
    "duration": 125,
    "start_time": "2023-10-11T10:35:02.527Z"
   },
   {
    "duration": 78,
    "start_time": "2023-10-11T10:35:02.654Z"
   },
   {
    "duration": 286,
    "start_time": "2023-10-11T10:35:02.734Z"
   },
   {
    "duration": 7,
    "start_time": "2023-10-11T10:35:03.022Z"
   },
   {
    "duration": 70,
    "start_time": "2023-10-11T10:35:03.030Z"
   },
   {
    "duration": 32,
    "start_time": "2023-10-11T10:35:03.102Z"
   },
   {
    "duration": 55,
    "start_time": "2023-10-11T10:35:03.137Z"
   },
   {
    "duration": 199,
    "start_time": "2023-10-11T10:35:03.193Z"
   },
   {
    "duration": 177,
    "start_time": "2023-10-11T10:35:03.394Z"
   },
   {
    "duration": 117,
    "start_time": "2023-10-11T10:35:03.572Z"
   },
   {
    "duration": 6,
    "start_time": "2023-10-11T10:35:03.691Z"
   },
   {
    "duration": 48,
    "start_time": "2023-10-11T10:35:03.698Z"
   },
   {
    "duration": 70,
    "start_time": "2023-10-11T10:35:03.747Z"
   },
   {
    "duration": 56,
    "start_time": "2023-10-11T10:35:03.818Z"
   },
   {
    "duration": 31,
    "start_time": "2023-10-11T10:35:03.876Z"
   },
   {
    "duration": 48,
    "start_time": "2023-10-11T10:35:03.908Z"
   },
   {
    "duration": 42,
    "start_time": "2023-10-11T10:35:03.958Z"
   },
   {
    "duration": 138,
    "start_time": "2023-10-11T10:35:04.001Z"
   },
   {
    "duration": 113,
    "start_time": "2023-10-11T10:35:04.140Z"
   },
   {
    "duration": 4,
    "start_time": "2023-10-11T10:35:04.255Z"
   },
   {
    "duration": 171,
    "start_time": "2023-10-11T10:35:04.261Z"
   },
   {
    "duration": 75,
    "start_time": "2023-10-11T10:35:04.433Z"
   },
   {
    "duration": 23,
    "start_time": "2023-10-11T10:35:04.510Z"
   },
   {
    "duration": 247,
    "start_time": "2023-10-11T10:35:04.534Z"
   },
   {
    "duration": 93,
    "start_time": "2023-10-11T10:35:04.782Z"
   },
   {
    "duration": 201,
    "start_time": "2023-10-11T10:35:04.876Z"
   },
   {
    "duration": 184,
    "start_time": "2023-10-11T10:35:05.079Z"
   },
   {
    "duration": 104,
    "start_time": "2023-10-11T10:35:05.265Z"
   },
   {
    "duration": 173,
    "start_time": "2023-10-11T10:35:05.370Z"
   },
   {
    "duration": 178,
    "start_time": "2023-10-11T10:35:05.549Z"
   },
   {
    "duration": 78,
    "start_time": "2023-10-11T10:35:05.729Z"
   },
   {
    "duration": 281,
    "start_time": "2023-10-11T10:35:05.809Z"
   },
   {
    "duration": 27,
    "start_time": "2023-10-11T10:35:06.092Z"
   },
   {
    "duration": 27,
    "start_time": "2023-10-11T10:35:06.124Z"
   },
   {
    "duration": 335,
    "start_time": "2023-10-11T10:35:06.153Z"
   },
   {
    "duration": 310,
    "start_time": "2023-10-11T10:35:06.489Z"
   },
   {
    "duration": 27,
    "start_time": "2023-10-11T10:35:06.801Z"
   },
   {
    "duration": 408,
    "start_time": "2023-10-11T10:35:06.829Z"
   },
   {
    "duration": 19,
    "start_time": "2023-10-11T10:35:07.239Z"
   },
   {
    "duration": 22,
    "start_time": "2023-10-11T10:35:07.260Z"
   },
   {
    "duration": 30,
    "start_time": "2023-10-11T10:35:07.284Z"
   },
   {
    "duration": 46,
    "start_time": "2023-10-11T10:35:07.316Z"
   },
   {
    "duration": 1512,
    "start_time": "2023-10-11T10:35:07.364Z"
   },
   {
    "duration": 124,
    "start_time": "2023-10-11T10:35:08.878Z"
   },
   {
    "duration": 3,
    "start_time": "2023-10-11T10:35:09.004Z"
   },
   {
    "duration": 8,
    "start_time": "2023-10-11T12:35:47.655Z"
   },
   {
    "duration": 1635,
    "start_time": "2023-10-11T12:38:19.138Z"
   },
   {
    "duration": 1093,
    "start_time": "2023-10-11T12:40:30.310Z"
   },
   {
    "duration": 182,
    "start_time": "2023-10-11T12:40:31.405Z"
   },
   {
    "duration": 11,
    "start_time": "2023-10-11T12:40:31.589Z"
   },
   {
    "duration": 146,
    "start_time": "2023-10-11T12:40:31.602Z"
   },
   {
    "duration": 246,
    "start_time": "2023-10-11T12:40:31.750Z"
   },
   {
    "duration": 290,
    "start_time": "2023-10-11T12:40:31.997Z"
   },
   {
    "duration": 416,
    "start_time": "2023-10-11T12:40:32.289Z"
   },
   {
    "duration": 129,
    "start_time": "2023-10-11T12:40:32.707Z"
   },
   {
    "duration": 95,
    "start_time": "2023-10-11T12:40:32.837Z"
   },
   {
    "duration": 206,
    "start_time": "2023-10-11T12:40:32.934Z"
   },
   {
    "duration": 9,
    "start_time": "2023-10-11T12:40:33.141Z"
   },
   {
    "duration": 20,
    "start_time": "2023-10-11T12:40:33.152Z"
   },
   {
    "duration": 46,
    "start_time": "2023-10-11T12:40:33.174Z"
   },
   {
    "duration": 43,
    "start_time": "2023-10-11T12:40:33.221Z"
   },
   {
    "duration": 216,
    "start_time": "2023-10-11T12:40:33.266Z"
   },
   {
    "duration": 218,
    "start_time": "2023-10-11T12:40:33.484Z"
   },
   {
    "duration": 109,
    "start_time": "2023-10-11T12:40:33.703Z"
   },
   {
    "duration": 6,
    "start_time": "2023-10-11T12:40:33.814Z"
   },
   {
    "duration": 41,
    "start_time": "2023-10-11T12:40:33.822Z"
   },
   {
    "duration": 33,
    "start_time": "2023-10-11T12:40:33.864Z"
   },
   {
    "duration": 8,
    "start_time": "2023-10-11T12:40:33.899Z"
   },
   {
    "duration": 18,
    "start_time": "2023-10-11T12:40:33.909Z"
   },
   {
    "duration": 44,
    "start_time": "2023-10-11T12:40:33.928Z"
   },
   {
    "duration": 28,
    "start_time": "2023-10-11T12:40:33.974Z"
   },
   {
    "duration": 126,
    "start_time": "2023-10-11T12:40:34.003Z"
   },
   {
    "duration": 131,
    "start_time": "2023-10-11T12:40:34.131Z"
   },
   {
    "duration": 4,
    "start_time": "2023-10-11T12:40:34.264Z"
   },
   {
    "duration": 213,
    "start_time": "2023-10-11T12:40:34.272Z"
   },
   {
    "duration": 92,
    "start_time": "2023-10-11T12:40:34.487Z"
   },
   {
    "duration": 4,
    "start_time": "2023-10-11T12:40:34.581Z"
   },
   {
    "duration": 302,
    "start_time": "2023-10-11T12:40:34.586Z"
   },
   {
    "duration": 88,
    "start_time": "2023-10-11T12:40:34.890Z"
   },
   {
    "duration": 217,
    "start_time": "2023-10-11T12:40:34.979Z"
   },
   {
    "duration": 213,
    "start_time": "2023-10-11T12:40:35.198Z"
   },
   {
    "duration": 118,
    "start_time": "2023-10-11T12:40:35.412Z"
   },
   {
    "duration": 212,
    "start_time": "2023-10-11T12:40:35.532Z"
   },
   {
    "duration": 189,
    "start_time": "2023-10-11T12:40:35.749Z"
   },
   {
    "duration": 110,
    "start_time": "2023-10-11T12:40:35.939Z"
   },
   {
    "duration": 379,
    "start_time": "2023-10-11T12:40:36.053Z"
   },
   {
    "duration": 36,
    "start_time": "2023-10-11T12:40:36.434Z"
   },
   {
    "duration": 21,
    "start_time": "2023-10-11T12:40:36.472Z"
   },
   {
    "duration": 366,
    "start_time": "2023-10-11T12:40:36.494Z"
   },
   {
    "duration": 361,
    "start_time": "2023-10-11T12:40:36.861Z"
   },
   {
    "duration": 42,
    "start_time": "2023-10-11T12:40:37.223Z"
   },
   {
    "duration": 478,
    "start_time": "2023-10-11T12:40:37.266Z"
   },
   {
    "duration": 25,
    "start_time": "2023-10-11T12:40:37.747Z"
   },
   {
    "duration": 23,
    "start_time": "2023-10-11T12:40:37.774Z"
   },
   {
    "duration": 43,
    "start_time": "2023-10-11T12:40:37.799Z"
   },
   {
    "duration": 75,
    "start_time": "2023-10-11T12:40:37.843Z"
   },
   {
    "duration": 1692,
    "start_time": "2023-10-11T12:40:37.920Z"
   },
   {
    "duration": 133,
    "start_time": "2023-10-11T12:40:39.614Z"
   },
   {
    "duration": 5,
    "start_time": "2023-10-11T12:40:39.748Z"
   }
  ],
  "colab": {
   "provenance": []
  },
  "kernelspec": {
   "display_name": "Python 3 (ipykernel)",
   "language": "python",
   "name": "python3"
  },
  "language_info": {
   "codemirror_mode": {
    "name": "ipython",
    "version": 3
   },
   "file_extension": ".py",
   "mimetype": "text/x-python",
   "name": "python",
   "nbconvert_exporter": "python",
   "pygments_lexer": "ipython3",
   "version": "3.11.5"
  },
  "toc": {
   "base_numbering": 1,
   "nav_menu": {},
   "number_sections": true,
   "sideBar": true,
   "skip_h1_title": true,
   "title_cell": "Table of Contents",
   "title_sidebar": "Contents",
   "toc_cell": false,
   "toc_position": {},
   "toc_section_display": true,
   "toc_window_display": false
  }
 },
 "nbformat": 4,
 "nbformat_minor": 5
}
