{
 "cells": [
  {
   "cell_type": "markdown",
   "id": "a66665e6",
   "metadata": {},
   "source": [
    "# Проект: исследование конференций TED\n",
    "\n",
    "## Описание проекта\n",
    "\n",
    "**Контекст:**<br> \n",
    "TED (от англ. technology, education, design — «технологии, образование, дизайн») — некоммерческий фонд, который проводит популярные конференции. На них выступают специалисты из разных областей и читают лекции на актуальные социальные, культурные и научные темы. \n",
    "\n",
    "**Задача:**<br> \n",
    "Исследовать представленные данные о выступлениях TED, найти интересные особенности и презентовать полученные результаты в виде дашбордов.\n",
    "\n",
    "**Входные данные:**<br>\n",
    "Файлы tableau_project_data_1.csv, tableau_project_data_2.csv, tableau_project_data_3.csv хранят данные выступлений. У них одинаковая структура:<br>\n",
    "`talk_id` — идентификатор выступления;<br>\n",
    "`url` — ссылка на запись выступления;<br>\n",
    "`title` — название выступления;<br>\n",
    "`description` — краткое описание;<br>\n",
    "`film_date` — дата записи выступления;<br>\n",
    "`duration` — длительность в секундах;<br>\n",
    "`views` — количество просмотров;<br>\n",
    "`main_tag` — основная категория, к которой относится выступление;<br>\n",
    "`speaker_id` — уникальный идентификатор автора выступления;<br>\n",
    "`laughter_count` — количество раз, когда аудитория смеялась в ходе выступления;<br>\n",
    "`applause_count` — количество раз, когда аудитория аплодировала в ходе выступления;<br>\n",
    "`language` — язык, на котором велось выступление;<br>\n",
    "`event_id` — уникальный идентификатор конференции.<br>\n",
    "\n",
    "Файл tableau_project_event_dict.csv — справочник конференций. Описание таблицы:<br>\n",
    "`conf_id` — уникальный идентификатор конференции;<br>\n",
    "`event` — название конференции;<br>\n",
    "`country` — страна проведения конференции.<br>\n",
    "\n",
    "Файл tableau_project_speakers_dict.csv — справочник авторов выступления. Описание таблицы:<br>\n",
    "`author_id` — уникальный идентификатор автора выступления;<br>\n",
    "`speaker_name` — имя автора;<br>\n",
    "`speaker_occupation` — профессиональная область автора;<br>\n",
    "`speaker_description` — описание профессиональной деятельности автора.<br>"
   ]
  },
  {
   "cell_type": "markdown",
   "id": "3e38a0e5",
   "metadata": {},
   "source": [
    "## Презентация\n",
    "\n",
    "Ссылка: https://public.tableau.com/app/profile/maria.dedova/viz/_TED_17032386139920/TED_1?publish=yes"
   ]
  }
 ],
 "metadata": {
  "kernelspec": {
   "display_name": "Python 3 (ipykernel)",
   "language": "python",
   "name": "python3"
  },
  "language_info": {
   "codemirror_mode": {
    "name": "ipython",
    "version": 3
   },
   "file_extension": ".py",
   "mimetype": "text/x-python",
   "name": "python",
   "nbconvert_exporter": "python",
   "pygments_lexer": "ipython3",
   "version": "3.11.5"
  },
  "toc": {
   "base_numbering": 1,
   "nav_menu": {},
   "number_sections": true,
   "sideBar": true,
   "skip_h1_title": true,
   "title_cell": "Table of Contents",
   "title_sidebar": "Contents",
   "toc_cell": false,
   "toc_position": {},
   "toc_section_display": true,
   "toc_window_display": false
  }
 },
 "nbformat": 4,
 "nbformat_minor": 5
}
